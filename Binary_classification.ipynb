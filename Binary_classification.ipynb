{
 "cells": [
  {
   "cell_type": "code",
   "execution_count": 1,
   "id": "3b281dd0",
   "metadata": {},
   "outputs": [
    {
     "name": "stdout",
     "output_type": "stream",
     "text": [
      "Collecting imbalanced-learn\n",
      "  Using cached imbalanced_learn-0.10.1-py3-none-any.whl (226 kB)\n",
      "Requirement already satisfied: scipy>=1.3.2 in /opt/conda/lib/python3.9/site-packages (from imbalanced-learn) (1.7.1)\n",
      "Collecting scikit-learn>=1.0.2\n",
      "  Using cached scikit_learn-1.2.2-cp39-cp39-manylinux_2_17_x86_64.manylinux2014_x86_64.whl (9.6 MB)\n",
      "Collecting joblib>=1.1.1\n",
      "  Using cached joblib-1.2.0-py3-none-any.whl (297 kB)\n",
      "Requirement already satisfied: threadpoolctl>=2.0.0 in /opt/conda/lib/python3.9/site-packages (from imbalanced-learn) (2.2.0)\n",
      "Requirement already satisfied: numpy>=1.17.3 in /opt/conda/lib/python3.9/site-packages (from imbalanced-learn) (1.20.3)\n",
      "Installing collected packages: joblib, scikit-learn, imbalanced-learn\n",
      "  Attempting uninstall: joblib\n",
      "    Found existing installation: joblib 1.0.1\n",
      "    Uninstalling joblib-1.0.1:\n",
      "      Successfully uninstalled joblib-1.0.1\n",
      "  Attempting uninstall: scikit-learn\n",
      "    Found existing installation: scikit-learn 0.24.2\n",
      "    Uninstalling scikit-learn-0.24.2:\n",
      "      Successfully uninstalled scikit-learn-0.24.2\n",
      "Successfully installed imbalanced-learn-0.10.1 joblib-1.2.0 scikit-learn-1.2.2\n",
      "\n",
      "\u001b[1m[\u001b[0m\u001b[34;49mnotice\u001b[0m\u001b[1;39;49m]\u001b[0m\u001b[39;49m A new release of pip available: \u001b[0m\u001b[31;49m22.3.1\u001b[0m\u001b[39;49m -> \u001b[0m\u001b[32;49m23.1.2\u001b[0m\n",
      "\u001b[1m[\u001b[0m\u001b[34;49mnotice\u001b[0m\u001b[1;39;49m]\u001b[0m\u001b[39;49m To update, run: \u001b[0m\u001b[32;49mpip install --upgrade pip\u001b[0m\n"
     ]
    }
   ],
   "source": [
    "!pip install imbalanced-learn\n",
    "from imblearn.over_sampling import RandomOverSampler"
   ]
  },
  {
   "cell_type": "code",
   "execution_count": 2,
   "id": "cd018eb3",
   "metadata": {},
   "outputs": [
    {
     "name": "stdout",
     "output_type": "stream",
     "text": [
      "Requirement already satisfied: pymorphy2 in /opt/conda/lib/python3.9/site-packages (0.9.1)\n",
      "Requirement already satisfied: pymorphy2-dicts-ru<3.0,>=2.4 in /opt/conda/lib/python3.9/site-packages (from pymorphy2) (2.4.417127.4579844)\n",
      "Requirement already satisfied: dawg-python>=0.7.1 in /opt/conda/lib/python3.9/site-packages (from pymorphy2) (0.7.2)\n",
      "Requirement already satisfied: docopt>=0.6 in /opt/conda/lib/python3.9/site-packages (from pymorphy2) (0.6.2)\n",
      "\n",
      "\u001b[1m[\u001b[0m\u001b[34;49mnotice\u001b[0m\u001b[1;39;49m]\u001b[0m\u001b[39;49m A new release of pip available: \u001b[0m\u001b[31;49m22.3.1\u001b[0m\u001b[39;49m -> \u001b[0m\u001b[32;49m23.1.2\u001b[0m\n",
      "\u001b[1m[\u001b[0m\u001b[34;49mnotice\u001b[0m\u001b[1;39;49m]\u001b[0m\u001b[39;49m To update, run: \u001b[0m\u001b[32;49mpip install --upgrade pip\u001b[0m\n",
      "Note: you may need to restart the kernel to use updated packages.\n"
     ]
    }
   ],
   "source": [
    "pip install pymorphy2"
   ]
  },
  {
   "cell_type": "code",
   "execution_count": 3,
   "id": "cb8426f0",
   "metadata": {},
   "outputs": [
    {
     "name": "stdout",
     "output_type": "stream",
     "text": [
      "Requirement already satisfied: nltk in /opt/conda/lib/python3.9/site-packages (3.7)\n",
      "Requirement already satisfied: tqdm in /opt/conda/lib/python3.9/site-packages (from nltk) (4.62.2)\n",
      "Requirement already satisfied: click in /opt/conda/lib/python3.9/site-packages (from nltk) (8.0.1)\n",
      "Requirement already satisfied: regex>=2021.8.3 in /opt/conda/lib/python3.9/site-packages (from nltk) (2022.10.31)\n",
      "Requirement already satisfied: joblib in /opt/conda/lib/python3.9/site-packages (from nltk) (1.2.0)\n",
      "\n",
      "\u001b[1m[\u001b[0m\u001b[34;49mnotice\u001b[0m\u001b[1;39;49m]\u001b[0m\u001b[39;49m A new release of pip available: \u001b[0m\u001b[31;49m22.3.1\u001b[0m\u001b[39;49m -> \u001b[0m\u001b[32;49m23.1.2\u001b[0m\n",
      "\u001b[1m[\u001b[0m\u001b[34;49mnotice\u001b[0m\u001b[1;39;49m]\u001b[0m\u001b[39;49m To update, run: \u001b[0m\u001b[32;49mpip install --upgrade pip\u001b[0m\n",
      "Note: you may need to restart the kernel to use updated packages.\n"
     ]
    }
   ],
   "source": [
    "pip install nltk"
   ]
  },
  {
   "cell_type": "code",
   "execution_count": 4,
   "id": "b421612e",
   "metadata": {},
   "outputs": [
    {
     "name": "stdout",
     "output_type": "stream",
     "text": [
      "Requirement already satisfied: plotly in /opt/conda/lib/python3.9/site-packages (5.11.0)\n",
      "Requirement already satisfied: tenacity>=6.2.0 in /opt/conda/lib/python3.9/site-packages (from plotly) (8.1.0)\n",
      "\n",
      "\u001b[1m[\u001b[0m\u001b[34;49mnotice\u001b[0m\u001b[1;39;49m]\u001b[0m\u001b[39;49m A new release of pip available: \u001b[0m\u001b[31;49m22.3.1\u001b[0m\u001b[39;49m -> \u001b[0m\u001b[32;49m23.1.2\u001b[0m\n",
      "\u001b[1m[\u001b[0m\u001b[34;49mnotice\u001b[0m\u001b[1;39;49m]\u001b[0m\u001b[39;49m To update, run: \u001b[0m\u001b[32;49mpip install --upgrade pip\u001b[0m\n",
      "Note: you may need to restart the kernel to use updated packages.\n"
     ]
    }
   ],
   "source": [
    "pip install plotly"
   ]
  },
  {
   "cell_type": "code",
   "execution_count": 5,
   "id": "c985d608",
   "metadata": {},
   "outputs": [],
   "source": [
    "import warnings\n",
    "warnings.filterwarnings(\"ignore\")"
   ]
  },
  {
   "cell_type": "code",
   "execution_count": 6,
   "id": "f3735d1e",
   "metadata": {},
   "outputs": [
    {
     "name": "stdout",
     "output_type": "stream",
     "text": [
      "cores: 3\n"
     ]
    }
   ],
   "source": [
    "import os\n",
    "import re\n",
    "import json\n",
    "import numpy as np\n",
    "import seaborn as sns\n",
    "import pandas as pd\n",
    "import matplotlib.pyplot as plt\n",
    "import multiprocessing\n",
    "from multiprocessing import Pool\n",
    "from sklearn.feature_extraction.text import (\n",
    "    TfidfVectorizer, \n",
    "    CountVectorizer\n",
    ")\n",
    "from datetime import datetime, timedelta\n",
    "import pymorphy2 as pm\n",
    "import nltk\n",
    "N_CORES = min(\n",
    "    multiprocessing.cpu_count(), \n",
    "    int(float(os.environ['CPU_LIMIT']))\n",
    ")\n",
    "from sklearn.metrics import mean_absolute_error\n",
    "from matplotlib import pyplot as plt\n",
    "from sklearn.metrics import RocCurveDisplay\n",
    "from sklearn.model_selection import train_test_split\n",
    "from sklearn.metrics import accuracy_score, confusion_matrix, precision_score, recall_score, f1_score, precision_recall_curve\n",
    "from sklearn.linear_model import LinearRegression\n",
    "from sklearn.linear_model import LogisticRegression\n",
    "from sklearn.linear_model import LogisticRegressionCV\n",
    "print('cores:', N_CORES)\n",
    "pd.set_option('display.max_colwidth', 100)"
   ]
  },
  {
   "cell_type": "code",
   "execution_count": 7,
   "id": "2753a922",
   "metadata": {},
   "outputs": [],
   "source": [
    "from sklearn.metrics import (\n",
    "    roc_auc_score,\n",
    "    accuracy_score, \n",
    "    confusion_matrix, \n",
    "    precision_score, \n",
    "    recall_score, \n",
    "    f1_score,\n",
    "    roc_curve, \n",
    "    auc,\n",
    "    confusion_matrix,\n",
    "    ConfusionMatrixDisplay,\n",
    "    precision_recall_curve,\n",
    "    PrecisionRecallDisplay\n",
    ")"
   ]
  },
  {
   "cell_type": "markdown",
   "id": "177c3ad4",
   "metadata": {},
   "source": [
    "## 1. Data preparation"
   ]
  },
  {
   "cell_type": "code",
   "execution_count": 8,
   "id": "fa857281",
   "metadata": {},
   "outputs": [],
   "source": [
    "df = pd.read_csv('posts.csv')"
   ]
  },
  {
   "cell_type": "code",
   "execution_count": 9,
   "id": "6c606ed4",
   "metadata": {},
   "outputs": [
    {
     "name": "stdout",
     "output_type": "stream",
     "text": [
      "<class 'pandas.core.frame.DataFrame'>\n",
      "RangeIndex: 5913 entries, 0 to 5912\n",
      "Data columns (total 15 columns):\n",
      " #   Column              Non-Null Count  Dtype  \n",
      "---  ------              --------------  -----  \n",
      " 0   Unnamed: 0          5913 non-null   int64  \n",
      " 1   col_text_x          4647 non-null   object \n",
      " 2   col_from_id         5913 non-null   int64  \n",
      " 3   col_owner_id        5913 non-null   int64  \n",
      " 4   col_views_count     2850 non-null   float64\n",
      " 5   col_reposts_count   5908 non-null   float64\n",
      " 6   col_likes_count     5913 non-null   int64  \n",
      " 7   col_comments_count  5913 non-null   int64  \n",
      " 8   col_date            5913 non-null   object \n",
      " 9   group               5913 non-null   object \n",
      " 10  col_video_id        5913 non-null   int64  \n",
      " 11  has_photo           5913 non-null   int64  \n",
      " 12  col_lang            5913 non-null   object \n",
      " 13  col_sent            5913 non-null   object \n",
      " 14  sent_prob           5913 non-null   float64\n",
      "dtypes: float64(3), int64(7), object(5)\n",
      "memory usage: 693.1+ KB\n"
     ]
    }
   ],
   "source": [
    "df.info()"
   ]
  },
  {
   "cell_type": "code",
   "execution_count": 10,
   "id": "1450c489",
   "metadata": {
    "scrolled": true
   },
   "outputs": [
    {
     "data": {
      "text/html": [
       "<div>\n",
       "<style scoped>\n",
       "    .dataframe tbody tr th:only-of-type {\n",
       "        vertical-align: middle;\n",
       "    }\n",
       "\n",
       "    .dataframe tbody tr th {\n",
       "        vertical-align: top;\n",
       "    }\n",
       "\n",
       "    .dataframe thead th {\n",
       "        text-align: right;\n",
       "    }\n",
       "</style>\n",
       "<table border=\"1\" class=\"dataframe\">\n",
       "  <thead>\n",
       "    <tr style=\"text-align: right;\">\n",
       "      <th></th>\n",
       "      <th>Unnamed: 0</th>\n",
       "      <th>col_text_x</th>\n",
       "      <th>col_from_id</th>\n",
       "      <th>col_owner_id</th>\n",
       "      <th>col_views_count</th>\n",
       "      <th>col_reposts_count</th>\n",
       "      <th>col_likes_count</th>\n",
       "      <th>col_comments_count</th>\n",
       "      <th>col_date</th>\n",
       "      <th>group</th>\n",
       "      <th>col_video_id</th>\n",
       "      <th>has_photo</th>\n",
       "      <th>col_lang</th>\n",
       "      <th>col_sent</th>\n",
       "      <th>sent_prob</th>\n",
       "    </tr>\n",
       "  </thead>\n",
       "  <tbody>\n",
       "    <tr>\n",
       "      <th>0</th>\n",
       "      <td>0</td>\n",
       "      <td>NaN</td>\n",
       "      <td>-23777199</td>\n",
       "      <td>-23777199</td>\n",
       "      <td>375.0</td>\n",
       "      <td>0.0</td>\n",
       "      <td>13</td>\n",
       "      <td>0</td>\n",
       "      <td>2023-05-19 13:55:23</td>\n",
       "      <td>gsom_abiturient</td>\n",
       "      <td>0</td>\n",
       "      <td>1</td>\n",
       "      <td>th</td>\n",
       "      <td>unknown</td>\n",
       "      <td>0.000000</td>\n",
       "    </tr>\n",
       "    <tr>\n",
       "      <th>1</th>\n",
       "      <td>0</td>\n",
       "      <td>⚡⚡ Будь активным! Это девиз выпускника ВШМ СПбГУ Хантера Кейвуда. Как он работает на практике, Х...</td>\n",
       "      <td>-20449089</td>\n",
       "      <td>-20449089</td>\n",
       "      <td>255.0</td>\n",
       "      <td>1.0</td>\n",
       "      <td>2</td>\n",
       "      <td>0</td>\n",
       "      <td>2023-05-18 16:23:00</td>\n",
       "      <td>gsom_ma</td>\n",
       "      <td>0</td>\n",
       "      <td>0</td>\n",
       "      <td>th</td>\n",
       "      <td>unknown</td>\n",
       "      <td>0.000000</td>\n",
       "    </tr>\n",
       "    <tr>\n",
       "      <th>2</th>\n",
       "      <td>0</td>\n",
       "      <td>ВШМ СПбГУ вошла в тройку лидеров среди российских вузов — участников предметных рейтингов Агентс...</td>\n",
       "      <td>-168</td>\n",
       "      <td>-168</td>\n",
       "      <td>425.0</td>\n",
       "      <td>3.0</td>\n",
       "      <td>5</td>\n",
       "      <td>0</td>\n",
       "      <td>2023-05-23 12:46:46</td>\n",
       "      <td>gsom_spbu</td>\n",
       "      <td>0</td>\n",
       "      <td>1</td>\n",
       "      <td>th</td>\n",
       "      <td>unknown</td>\n",
       "      <td>0.000000</td>\n",
       "    </tr>\n",
       "    <tr>\n",
       "      <th>3</th>\n",
       "      <td>1</td>\n",
       "      <td>Может ли Minecraft быть полезным для управления проектами? Конечно же да 🙌\\n \\nСтуденты и выпуск...</td>\n",
       "      <td>-23777199</td>\n",
       "      <td>-23777199</td>\n",
       "      <td>917.0</td>\n",
       "      <td>4.0</td>\n",
       "      <td>4</td>\n",
       "      <td>0</td>\n",
       "      <td>2023-05-15 14:42:00</td>\n",
       "      <td>gsom_abiturient</td>\n",
       "      <td>1</td>\n",
       "      <td>0</td>\n",
       "      <td>ru</td>\n",
       "      <td>neutral</td>\n",
       "      <td>0.996736</td>\n",
       "    </tr>\n",
       "    <tr>\n",
       "      <th>4</th>\n",
       "      <td>1</td>\n",
       "      <td>Может ли Minecraft быть полезным для управления проектами? Конечно же да 🙌 \\n \\nСтуденты и выпус...</td>\n",
       "      <td>-20449089</td>\n",
       "      <td>-20449089</td>\n",
       "      <td>542.0</td>\n",
       "      <td>1.0</td>\n",
       "      <td>3</td>\n",
       "      <td>0</td>\n",
       "      <td>2023-05-15 15:23:00</td>\n",
       "      <td>gsom_ma</td>\n",
       "      <td>0</td>\n",
       "      <td>0</td>\n",
       "      <td>ru</td>\n",
       "      <td>neutral</td>\n",
       "      <td>0.996736</td>\n",
       "    </tr>\n",
       "  </tbody>\n",
       "</table>\n",
       "</div>"
      ],
      "text/plain": [
       "   Unnamed: 0  \\\n",
       "0           0   \n",
       "1           0   \n",
       "2           0   \n",
       "3           1   \n",
       "4           1   \n",
       "\n",
       "                                                                                            col_text_x  \\\n",
       "0                                                                                                  NaN   \n",
       "1  ⚡⚡ Будь активным! Это девиз выпускника ВШМ СПбГУ Хантера Кейвуда. Как он работает на практике, Х...   \n",
       "2  ВШМ СПбГУ вошла в тройку лидеров среди российских вузов — участников предметных рейтингов Агентс...   \n",
       "3  Может ли Minecraft быть полезным для управления проектами? Конечно же да 🙌\\n \\nСтуденты и выпуск...   \n",
       "4  Может ли Minecraft быть полезным для управления проектами? Конечно же да 🙌 \\n \\nСтуденты и выпус...   \n",
       "\n",
       "   col_from_id  col_owner_id  col_views_count  col_reposts_count  \\\n",
       "0    -23777199     -23777199            375.0                0.0   \n",
       "1    -20449089     -20449089            255.0                1.0   \n",
       "2         -168          -168            425.0                3.0   \n",
       "3    -23777199     -23777199            917.0                4.0   \n",
       "4    -20449089     -20449089            542.0                1.0   \n",
       "\n",
       "   col_likes_count  col_comments_count             col_date            group  \\\n",
       "0               13                   0  2023-05-19 13:55:23  gsom_abiturient   \n",
       "1                2                   0  2023-05-18 16:23:00          gsom_ma   \n",
       "2                5                   0  2023-05-23 12:46:46        gsom_spbu   \n",
       "3                4                   0  2023-05-15 14:42:00  gsom_abiturient   \n",
       "4                3                   0  2023-05-15 15:23:00          gsom_ma   \n",
       "\n",
       "   col_video_id  has_photo col_lang col_sent  sent_prob  \n",
       "0             0          1       th  unknown   0.000000  \n",
       "1             0          0       th  unknown   0.000000  \n",
       "2             0          1       th  unknown   0.000000  \n",
       "3             1          0       ru  neutral   0.996736  \n",
       "4             0          0       ru  neutral   0.996736  "
      ]
     },
     "execution_count": 10,
     "metadata": {},
     "output_type": "execute_result"
    }
   ],
   "source": [
    "df.head()"
   ]
  },
  {
   "cell_type": "code",
   "execution_count": 11,
   "id": "365ff86b",
   "metadata": {},
   "outputs": [],
   "source": [
    "## приводим к московскому времени, добавляем дни недели\n",
    "df['col_date'] = pd.to_datetime(df.col_date, format='%Y-%m-%d %H:%M:%S')\n",
    "df['col_date'] = df['col_date'] + timedelta(hours=3)\n",
    "df['day_of_week'] = df['col_date'].dt.dayofweek"
   ]
  },
  {
   "cell_type": "code",
   "execution_count": 12,
   "id": "ecb8fcea",
   "metadata": {},
   "outputs": [],
   "source": [
    "# Set day & nighttime based your specified time frames\n",
    "df.loc[df.set_index('col_date').index.indexer_between_time('00:00', '5:30'), 'd-n'] = 'night'\n",
    "df.loc[df.set_index('col_date').index.indexer_between_time('5:30', '11:59'), 'd-n'] = 'morning'\n",
    "df.loc[df.set_index('col_date').index.indexer_between_time('11:59', '16:00'), 'd-n'] = 'day'\n",
    "df.loc[df.set_index('col_date').index.indexer_between_time('16:00', '00:00'), 'd-n'] = 'evening'"
   ]
  },
  {
   "cell_type": "code",
   "execution_count": 13,
   "id": "0c41a8c6",
   "metadata": {},
   "outputs": [],
   "source": [
    "# Set day & nighttime based your specified time frames\n",
    "df['month'] = df['col_date'].dt.month\n",
    "df['year'] = df['col_date'].dt.year"
   ]
  },
  {
   "cell_type": "code",
   "execution_count": 14,
   "id": "c89ad745-9525-45a8-9c31-0080ec88e094",
   "metadata": {},
   "outputs": [
    {
     "data": {
      "text/plain": [
       "count    5913.000000\n",
       "mean        8.343142\n",
       "std        16.393776\n",
       "min         0.000000\n",
       "25%         1.000000\n",
       "50%         3.000000\n",
       "75%        10.000000\n",
       "max       474.000000\n",
       "Name: col_likes_count, dtype: float64"
      ]
     },
     "execution_count": 14,
     "metadata": {},
     "output_type": "execute_result"
    }
   ],
   "source": [
    "df.col_likes_count.describe()"
   ]
  },
  {
   "cell_type": "code",
   "execution_count": 15,
   "id": "1d145033-b75a-43c1-81a6-7e2e68fbaf07",
   "metadata": {},
   "outputs": [],
   "source": [
    "##переменная лайков: так как квартиль это 3 лайка, то в бинарной переменной 0, когда лайков <3, 1 - когда больше\n",
    "df.loc[(df[\"col_likes_count\"] >= 3), 'like_presense']='1'\n",
    "df.loc[(df[\"col_likes_count\"] < 4), 'like_presense']='0'"
   ]
  },
  {
   "cell_type": "code",
   "execution_count": 16,
   "id": "57a1fbf9",
   "metadata": {},
   "outputs": [],
   "source": [
    "df['like_presense'] = df['like_presense'].fillna(0)\n",
    "df['like_presense'] = df['like_presense'].astype(str).astype (int)"
   ]
  },
  {
   "cell_type": "code",
   "execution_count": 17,
   "id": "80b3e265",
   "metadata": {},
   "outputs": [
    {
     "data": {
      "text/plain": [
       "(4647, 20)"
      ]
     },
     "execution_count": 17,
     "metadata": {},
     "output_type": "execute_result"
    }
   ],
   "source": [
    "## Удаляем репосты\n",
    "df = df.dropna(subset=['col_text_x'])\n",
    "df.shape"
   ]
  },
  {
   "cell_type": "code",
   "execution_count": 18,
   "id": "4d96dd02",
   "metadata": {},
   "outputs": [
    {
     "data": {
      "text/html": [
       "<div>\n",
       "<style scoped>\n",
       "    .dataframe tbody tr th:only-of-type {\n",
       "        vertical-align: middle;\n",
       "    }\n",
       "\n",
       "    .dataframe tbody tr th {\n",
       "        vertical-align: top;\n",
       "    }\n",
       "\n",
       "    .dataframe thead th {\n",
       "        text-align: right;\n",
       "    }\n",
       "</style>\n",
       "<table border=\"1\" class=\"dataframe\">\n",
       "  <thead>\n",
       "    <tr style=\"text-align: right;\">\n",
       "      <th></th>\n",
       "      <th>Unnamed: 0</th>\n",
       "      <th>col_text_x</th>\n",
       "      <th>col_from_id</th>\n",
       "      <th>col_owner_id</th>\n",
       "      <th>col_views_count</th>\n",
       "      <th>col_reposts_count</th>\n",
       "      <th>col_likes_count</th>\n",
       "      <th>col_comments_count</th>\n",
       "      <th>col_date</th>\n",
       "      <th>group</th>\n",
       "      <th>col_video_id</th>\n",
       "      <th>has_photo</th>\n",
       "      <th>col_lang</th>\n",
       "      <th>col_sent</th>\n",
       "      <th>sent_prob</th>\n",
       "      <th>day_of_week</th>\n",
       "      <th>d-n</th>\n",
       "      <th>month</th>\n",
       "      <th>year</th>\n",
       "      <th>like_presense</th>\n",
       "    </tr>\n",
       "  </thead>\n",
       "  <tbody>\n",
       "    <tr>\n",
       "      <th>1596</th>\n",
       "      <td>532</td>\n",
       "      <td>Здравствуйте,хочу учится по направлению маркетинг,какие экзамены нужно сдавать для этого?заранее...</td>\n",
       "      <td>277997748</td>\n",
       "      <td>-23777199</td>\n",
       "      <td>NaN</td>\n",
       "      <td>0.0</td>\n",
       "      <td>0</td>\n",
       "      <td>1</td>\n",
       "      <td>2015-03-07 19:30:47</td>\n",
       "      <td>gsom_abiturient</td>\n",
       "      <td>0</td>\n",
       "      <td>1</td>\n",
       "      <td>ru</td>\n",
       "      <td>neutral</td>\n",
       "      <td>0.997724</td>\n",
       "      <td>5</td>\n",
       "      <td>evening</td>\n",
       "      <td>3</td>\n",
       "      <td>2015</td>\n",
       "      <td>0</td>\n",
       "    </tr>\n",
       "    <tr>\n",
       "      <th>1599</th>\n",
       "      <td>533</td>\n",
       "      <td>Добрый день! а подскажите пожалуйста за что отчисляют из спбгу вшм (баклавриат) в плане академич...</td>\n",
       "      <td>167248684</td>\n",
       "      <td>-23777199</td>\n",
       "      <td>NaN</td>\n",
       "      <td>1.0</td>\n",
       "      <td>0</td>\n",
       "      <td>1</td>\n",
       "      <td>2013-06-26 21:27:30</td>\n",
       "      <td>gsom_abiturient</td>\n",
       "      <td>0</td>\n",
       "      <td>1</td>\n",
       "      <td>ru</td>\n",
       "      <td>neutral</td>\n",
       "      <td>0.995808</td>\n",
       "      <td>2</td>\n",
       "      <td>evening</td>\n",
       "      <td>6</td>\n",
       "      <td>2013</td>\n",
       "      <td>0</td>\n",
       "    </tr>\n",
       "    <tr>\n",
       "      <th>1602</th>\n",
       "      <td>534</td>\n",
       "      <td>А в каком месте строится новый кампус ВШМ?</td>\n",
       "      <td>13448472</td>\n",
       "      <td>-23777199</td>\n",
       "      <td>NaN</td>\n",
       "      <td>0.0</td>\n",
       "      <td>0</td>\n",
       "      <td>3</td>\n",
       "      <td>2013-04-03 12:26:25</td>\n",
       "      <td>gsom_abiturient</td>\n",
       "      <td>0</td>\n",
       "      <td>0</td>\n",
       "      <td>ru</td>\n",
       "      <td>neutral</td>\n",
       "      <td>0.998253</td>\n",
       "      <td>2</td>\n",
       "      <td>day</td>\n",
       "      <td>4</td>\n",
       "      <td>2013</td>\n",
       "      <td>0</td>\n",
       "    </tr>\n",
       "    <tr>\n",
       "      <th>1605</th>\n",
       "      <td>535</td>\n",
       "      <td>Скажите пожалуйста, когда дни открытых дверей будут?</td>\n",
       "      <td>39389159</td>\n",
       "      <td>-23777199</td>\n",
       "      <td>NaN</td>\n",
       "      <td>0.0</td>\n",
       "      <td>0</td>\n",
       "      <td>1</td>\n",
       "      <td>2013-01-28 23:05:25</td>\n",
       "      <td>gsom_abiturient</td>\n",
       "      <td>0</td>\n",
       "      <td>0</td>\n",
       "      <td>ru</td>\n",
       "      <td>neutral</td>\n",
       "      <td>0.997733</td>\n",
       "      <td>0</td>\n",
       "      <td>evening</td>\n",
       "      <td>1</td>\n",
       "      <td>2013</td>\n",
       "      <td>0</td>\n",
       "    </tr>\n",
       "    <tr>\n",
       "      <th>1608</th>\n",
       "      <td>536</td>\n",
       "      <td>ребят, сложно учиться на международного менеджмента?</td>\n",
       "      <td>40187092</td>\n",
       "      <td>-23777199</td>\n",
       "      <td>NaN</td>\n",
       "      <td>0.0</td>\n",
       "      <td>0</td>\n",
       "      <td>1</td>\n",
       "      <td>2012-05-10 14:52:32</td>\n",
       "      <td>gsom_abiturient</td>\n",
       "      <td>0</td>\n",
       "      <td>0</td>\n",
       "      <td>ru</td>\n",
       "      <td>neutral</td>\n",
       "      <td>0.997904</td>\n",
       "      <td>3</td>\n",
       "      <td>day</td>\n",
       "      <td>5</td>\n",
       "      <td>2012</td>\n",
       "      <td>0</td>\n",
       "    </tr>\n",
       "    <tr>\n",
       "      <th>...</th>\n",
       "      <td>...</td>\n",
       "      <td>...</td>\n",
       "      <td>...</td>\n",
       "      <td>...</td>\n",
       "      <td>...</td>\n",
       "      <td>...</td>\n",
       "      <td>...</td>\n",
       "      <td>...</td>\n",
       "      <td>...</td>\n",
       "      <td>...</td>\n",
       "      <td>...</td>\n",
       "      <td>...</td>\n",
       "      <td>...</td>\n",
       "      <td>...</td>\n",
       "      <td>...</td>\n",
       "      <td>...</td>\n",
       "      <td>...</td>\n",
       "      <td>...</td>\n",
       "      <td>...</td>\n",
       "      <td>...</td>\n",
       "    </tr>\n",
       "    <tr>\n",
       "      <th>5908</th>\n",
       "      <td>3972</td>\n",
       "      <td>Да уже все поняли, нафига дважды писать?:)</td>\n",
       "      <td>584249</td>\n",
       "      <td>-168</td>\n",
       "      <td>NaN</td>\n",
       "      <td>0.0</td>\n",
       "      <td>0</td>\n",
       "      <td>0</td>\n",
       "      <td>2008-08-27 16:02:10</td>\n",
       "      <td>gsom_spbu</td>\n",
       "      <td>0</td>\n",
       "      <td>0</td>\n",
       "      <td>th</td>\n",
       "      <td>unknown</td>\n",
       "      <td>0.000000</td>\n",
       "      <td>2</td>\n",
       "      <td>evening</td>\n",
       "      <td>8</td>\n",
       "      <td>2008</td>\n",
       "      <td>0</td>\n",
       "    </tr>\n",
       "    <tr>\n",
       "      <th>5909</th>\n",
       "      <td>3973</td>\n",
       "      <td>уважаемые студенты СПбГУ(кроме первых курсов)!кто хочет принять участие в организации Точки Отсч...</td>\n",
       "      <td>1012889</td>\n",
       "      <td>-168</td>\n",
       "      <td>NaN</td>\n",
       "      <td>0.0</td>\n",
       "      <td>0</td>\n",
       "      <td>0</td>\n",
       "      <td>2008-08-17 15:00:14</td>\n",
       "      <td>gsom_spbu</td>\n",
       "      <td>0</td>\n",
       "      <td>0</td>\n",
       "      <td>th</td>\n",
       "      <td>unknown</td>\n",
       "      <td>0.000000</td>\n",
       "      <td>6</td>\n",
       "      <td>day</td>\n",
       "      <td>8</td>\n",
       "      <td>2008</td>\n",
       "      <td>0</td>\n",
       "    </tr>\n",
       "    <tr>\n",
       "      <th>5910</th>\n",
       "      <td>3974</td>\n",
       "      <td>спасибо</td>\n",
       "      <td>375969</td>\n",
       "      <td>-168</td>\n",
       "      <td>NaN</td>\n",
       "      <td>0.0</td>\n",
       "      <td>0</td>\n",
       "      <td>0</td>\n",
       "      <td>2008-08-17 12:11:52</td>\n",
       "      <td>gsom_spbu</td>\n",
       "      <td>1</td>\n",
       "      <td>0</td>\n",
       "      <td>th</td>\n",
       "      <td>unknown</td>\n",
       "      <td>0.000000</td>\n",
       "      <td>6</td>\n",
       "      <td>day</td>\n",
       "      <td>8</td>\n",
       "      <td>2008</td>\n",
       "      <td>0</td>\n",
       "    </tr>\n",
       "    <tr>\n",
       "      <th>5911</th>\n",
       "      <td>3975</td>\n",
       "      <td>с 25</td>\n",
       "      <td>421507</td>\n",
       "      <td>-168</td>\n",
       "      <td>NaN</td>\n",
       "      <td>0.0</td>\n",
       "      <td>0</td>\n",
       "      <td>0</td>\n",
       "      <td>2008-08-15 16:47:42</td>\n",
       "      <td>gsom_spbu</td>\n",
       "      <td>1</td>\n",
       "      <td>0</td>\n",
       "      <td>th</td>\n",
       "      <td>unknown</td>\n",
       "      <td>0.000000</td>\n",
       "      <td>4</td>\n",
       "      <td>evening</td>\n",
       "      <td>8</td>\n",
       "      <td>2008</td>\n",
       "      <td>0</td>\n",
       "    </tr>\n",
       "    <tr>\n",
       "      <th>5912</th>\n",
       "      <td>3976</td>\n",
       "      <td>кто-нибудь знает, ч какого числа начинается заселение в общагу?</td>\n",
       "      <td>375969</td>\n",
       "      <td>-168</td>\n",
       "      <td>NaN</td>\n",
       "      <td>0.0</td>\n",
       "      <td>0</td>\n",
       "      <td>0</td>\n",
       "      <td>2008-08-15 11:59:25</td>\n",
       "      <td>gsom_spbu</td>\n",
       "      <td>0</td>\n",
       "      <td>1</td>\n",
       "      <td>th</td>\n",
       "      <td>unknown</td>\n",
       "      <td>0.000000</td>\n",
       "      <td>4</td>\n",
       "      <td>day</td>\n",
       "      <td>8</td>\n",
       "      <td>2008</td>\n",
       "      <td>0</td>\n",
       "    </tr>\n",
       "  </tbody>\n",
       "</table>\n",
       "<p>884 rows × 20 columns</p>\n",
       "</div>"
      ],
      "text/plain": [
       "      Unnamed: 0  \\\n",
       "1596         532   \n",
       "1599         533   \n",
       "1602         534   \n",
       "1605         535   \n",
       "1608         536   \n",
       "...          ...   \n",
       "5908        3972   \n",
       "5909        3973   \n",
       "5910        3974   \n",
       "5911        3975   \n",
       "5912        3976   \n",
       "\n",
       "                                                                                               col_text_x  \\\n",
       "1596  Здравствуйте,хочу учится по направлению маркетинг,какие экзамены нужно сдавать для этого?заранее...   \n",
       "1599  Добрый день! а подскажите пожалуйста за что отчисляют из спбгу вшм (баклавриат) в плане академич...   \n",
       "1602                                                           А в каком месте строится новый кампус ВШМ?   \n",
       "1605                                                 Скажите пожалуйста, когда дни открытых дверей будут?   \n",
       "1608                                                 ребят, сложно учиться на международного менеджмента?   \n",
       "...                                                                                                   ...   \n",
       "5908                                                           Да уже все поняли, нафига дважды писать?:)   \n",
       "5909  уважаемые студенты СПбГУ(кроме первых курсов)!кто хочет принять участие в организации Точки Отсч...   \n",
       "5910                                                                                              спасибо   \n",
       "5911                                                                                                 с 25   \n",
       "5912                                      кто-нибудь знает, ч какого числа начинается заселение в общагу?   \n",
       "\n",
       "      col_from_id  col_owner_id  col_views_count  col_reposts_count  \\\n",
       "1596    277997748     -23777199              NaN                0.0   \n",
       "1599    167248684     -23777199              NaN                1.0   \n",
       "1602     13448472     -23777199              NaN                0.0   \n",
       "1605     39389159     -23777199              NaN                0.0   \n",
       "1608     40187092     -23777199              NaN                0.0   \n",
       "...           ...           ...              ...                ...   \n",
       "5908       584249          -168              NaN                0.0   \n",
       "5909      1012889          -168              NaN                0.0   \n",
       "5910       375969          -168              NaN                0.0   \n",
       "5911       421507          -168              NaN                0.0   \n",
       "5912       375969          -168              NaN                0.0   \n",
       "\n",
       "      col_likes_count  col_comments_count            col_date  \\\n",
       "1596                0                   1 2015-03-07 19:30:47   \n",
       "1599                0                   1 2013-06-26 21:27:30   \n",
       "1602                0                   3 2013-04-03 12:26:25   \n",
       "1605                0                   1 2013-01-28 23:05:25   \n",
       "1608                0                   1 2012-05-10 14:52:32   \n",
       "...               ...                 ...                 ...   \n",
       "5908                0                   0 2008-08-27 16:02:10   \n",
       "5909                0                   0 2008-08-17 15:00:14   \n",
       "5910                0                   0 2008-08-17 12:11:52   \n",
       "5911                0                   0 2008-08-15 16:47:42   \n",
       "5912                0                   0 2008-08-15 11:59:25   \n",
       "\n",
       "                group  col_video_id  has_photo col_lang col_sent  sent_prob  \\\n",
       "1596  gsom_abiturient             0          1       ru  neutral   0.997724   \n",
       "1599  gsom_abiturient             0          1       ru  neutral   0.995808   \n",
       "1602  gsom_abiturient             0          0       ru  neutral   0.998253   \n",
       "1605  gsom_abiturient             0          0       ru  neutral   0.997733   \n",
       "1608  gsom_abiturient             0          0       ru  neutral   0.997904   \n",
       "...               ...           ...        ...      ...      ...        ...   \n",
       "5908        gsom_spbu             0          0       th  unknown   0.000000   \n",
       "5909        gsom_spbu             0          0       th  unknown   0.000000   \n",
       "5910        gsom_spbu             1          0       th  unknown   0.000000   \n",
       "5911        gsom_spbu             1          0       th  unknown   0.000000   \n",
       "5912        gsom_spbu             0          1       th  unknown   0.000000   \n",
       "\n",
       "      day_of_week      d-n  month  year  like_presense  \n",
       "1596            5  evening      3  2015              0  \n",
       "1599            2  evening      6  2013              0  \n",
       "1602            2      day      4  2013              0  \n",
       "1605            0  evening      1  2013              0  \n",
       "1608            3      day      5  2012              0  \n",
       "...           ...      ...    ...   ...            ...  \n",
       "5908            2  evening      8  2008              0  \n",
       "5909            6      day      8  2008              0  \n",
       "5910            6      day      8  2008              0  \n",
       "5911            4  evening      8  2008              0  \n",
       "5912            4      day      8  2008              0  \n",
       "\n",
       "[884 rows x 20 columns]"
      ]
     },
     "execution_count": 18,
     "metadata": {},
     "output_type": "execute_result"
    }
   ],
   "source": [
    "## Посты, совершенные внешними пользователями. Рекламные посты или посты во время, когда кгруппа была неофициальной\n",
    "df.loc[df['col_from_id'] != df['col_owner_id']]"
   ]
  },
  {
   "cell_type": "code",
   "execution_count": 19,
   "id": "dc993b14",
   "metadata": {},
   "outputs": [
    {
     "data": {
      "text/plain": [
       "1    2755\n",
       "0    1892\n",
       "Name: like_presense, dtype: int64"
      ]
     },
     "execution_count": 19,
     "metadata": {},
     "output_type": "execute_result"
    }
   ],
   "source": [
    "df.like_presense.value_counts()"
   ]
  },
  {
   "cell_type": "code",
   "execution_count": 20,
   "id": "b89903a7",
   "metadata": {},
   "outputs": [],
   "source": [
    "df = df.loc[df['col_from_id'] == df['col_owner_id']]"
   ]
  },
  {
   "cell_type": "code",
   "execution_count": 21,
   "id": "6fb52bf6",
   "metadata": {},
   "outputs": [
    {
     "name": "stdout",
     "output_type": "stream",
     "text": [
      "<class 'pandas.core.frame.DataFrame'>\n",
      "Int64Index: 3763 entries, 1 to 5677\n",
      "Data columns (total 20 columns):\n",
      " #   Column              Non-Null Count  Dtype         \n",
      "---  ------              --------------  -----         \n",
      " 0   Unnamed: 0          3763 non-null   int64         \n",
      " 1   col_text_x          3763 non-null   object        \n",
      " 2   col_from_id         3763 non-null   int64         \n",
      " 3   col_owner_id        3763 non-null   int64         \n",
      " 4   col_views_count     2806 non-null   float64       \n",
      " 5   col_reposts_count   3763 non-null   float64       \n",
      " 6   col_likes_count     3763 non-null   int64         \n",
      " 7   col_comments_count  3763 non-null   int64         \n",
      " 8   col_date            3763 non-null   datetime64[ns]\n",
      " 9   group               3763 non-null   object        \n",
      " 10  col_video_id        3763 non-null   int64         \n",
      " 11  has_photo           3763 non-null   int64         \n",
      " 12  col_lang            3763 non-null   object        \n",
      " 13  col_sent            3763 non-null   object        \n",
      " 14  sent_prob           3763 non-null   float64       \n",
      " 15  day_of_week         3763 non-null   int64         \n",
      " 16  d-n                 3763 non-null   object        \n",
      " 17  month               3763 non-null   int64         \n",
      " 18  year                3763 non-null   int64         \n",
      " 19  like_presense       3763 non-null   int64         \n",
      "dtypes: datetime64[ns](1), float64(3), int64(11), object(5)\n",
      "memory usage: 617.4+ KB\n"
     ]
    }
   ],
   "source": [
    "## Видим, что есть пропущенные значения в views. В вк просмотры появились только с 2016 года, так что заменим на 0\n",
    "df.info()"
   ]
  },
  {
   "cell_type": "code",
   "execution_count": 22,
   "id": "98640255",
   "metadata": {},
   "outputs": [
    {
     "data": {
      "text/plain": [
       "Index(['Unnamed: 0', 'col_text_x', 'col_from_id', 'col_owner_id',\n",
       "       'col_views_count', 'col_reposts_count', 'col_likes_count',\n",
       "       'col_comments_count', 'col_date', 'group', 'has_video', 'has_photo',\n",
       "       'col_lang', 'col_sent', 'sent_prob', 'day_of_week', 'd-n', 'month',\n",
       "       'year', 'like_presense'],\n",
       "      dtype='object')"
      ]
     },
     "execution_count": 22,
     "metadata": {},
     "output_type": "execute_result"
    }
   ],
   "source": [
    "df.rename(columns={\"col_video_id\": \"has_video\"}, inplace=True)\n",
    "df.columns"
   ]
  },
  {
   "cell_type": "code",
   "execution_count": 23,
   "id": "896b9b30",
   "metadata": {},
   "outputs": [],
   "source": [
    "df['col_views_count'] = df['col_views_count']. fillna (0)"
   ]
  },
  {
   "cell_type": "code",
   "execution_count": 24,
   "id": "5040d460",
   "metadata": {},
   "outputs": [
    {
     "data": {
      "text/plain": [
       "1    2755\n",
       "0    1008\n",
       "Name: like_presense, dtype: int64"
      ]
     },
     "execution_count": 24,
     "metadata": {},
     "output_type": "execute_result"
    }
   ],
   "source": [
    "#Выборка несбалансированна\n",
    "df['like_presense'].value_counts()"
   ]
  },
  {
   "cell_type": "code",
   "execution_count": 25,
   "id": "3d2679b4",
   "metadata": {
    "scrolled": true
   },
   "outputs": [
    {
     "data": {
      "text/html": [
       "<div>\n",
       "<style scoped>\n",
       "    .dataframe tbody tr th:only-of-type {\n",
       "        vertical-align: middle;\n",
       "    }\n",
       "\n",
       "    .dataframe tbody tr th {\n",
       "        vertical-align: top;\n",
       "    }\n",
       "\n",
       "    .dataframe thead th {\n",
       "        text-align: right;\n",
       "    }\n",
       "</style>\n",
       "<table border=\"1\" class=\"dataframe\">\n",
       "  <thead>\n",
       "    <tr style=\"text-align: right;\">\n",
       "      <th></th>\n",
       "      <th>Unnamed: 0</th>\n",
       "      <th>col_text_x</th>\n",
       "      <th>col_from_id</th>\n",
       "      <th>col_owner_id</th>\n",
       "      <th>col_views_count</th>\n",
       "      <th>col_reposts_count</th>\n",
       "      <th>col_likes_count</th>\n",
       "      <th>col_comments_count</th>\n",
       "      <th>col_date</th>\n",
       "      <th>group</th>\n",
       "      <th>has_video</th>\n",
       "      <th>has_photo</th>\n",
       "      <th>col_lang</th>\n",
       "      <th>col_sent</th>\n",
       "      <th>sent_prob</th>\n",
       "      <th>day_of_week</th>\n",
       "      <th>d-n</th>\n",
       "      <th>month</th>\n",
       "      <th>year</th>\n",
       "      <th>like_presense</th>\n",
       "    </tr>\n",
       "  </thead>\n",
       "  <tbody>\n",
       "    <tr>\n",
       "      <th>3339</th>\n",
       "      <td>1403</td>\n",
       "      <td>#GSOMachievements #GSOMsuccess\\n\\nПервый день лета, первый день работы Петербургского международ...</td>\n",
       "      <td>-168</td>\n",
       "      <td>-168</td>\n",
       "      <td>49010.0</td>\n",
       "      <td>71.0</td>\n",
       "      <td>474</td>\n",
       "      <td>0</td>\n",
       "      <td>2017-06-01 11:15:24</td>\n",
       "      <td>gsom_spbu</td>\n",
       "      <td>0</td>\n",
       "      <td>0</td>\n",
       "      <td>ru</td>\n",
       "      <td>positive</td>\n",
       "      <td>0.987339</td>\n",
       "      <td>3</td>\n",
       "      <td>morning</td>\n",
       "      <td>6</td>\n",
       "      <td>2017</td>\n",
       "      <td>1</td>\n",
       "    </tr>\n",
       "    <tr>\n",
       "      <th>3254</th>\n",
       "      <td>1333</td>\n",
       "      <td>#GSOMachievements\\n\\n⚡ВШМ СПбГУ в топ-25 лучших программ магистратуры в мире⚡\\n\\nПрограмма Maste...</td>\n",
       "      <td>-168</td>\n",
       "      <td>-168</td>\n",
       "      <td>31106.0</td>\n",
       "      <td>56.0</td>\n",
       "      <td>374</td>\n",
       "      <td>0</td>\n",
       "      <td>2017-09-11 13:51:38</td>\n",
       "      <td>gsom_spbu</td>\n",
       "      <td>0</td>\n",
       "      <td>0</td>\n",
       "      <td>ru</td>\n",
       "      <td>neutral</td>\n",
       "      <td>0.996655</td>\n",
       "      <td>0</td>\n",
       "      <td>day</td>\n",
       "      <td>9</td>\n",
       "      <td>2017</td>\n",
       "      <td>1</td>\n",
       "    </tr>\n",
       "  </tbody>\n",
       "</table>\n",
       "</div>"
      ],
      "text/plain": [
       "      Unnamed: 0  \\\n",
       "3339        1403   \n",
       "3254        1333   \n",
       "\n",
       "                                                                                               col_text_x  \\\n",
       "3339  #GSOMachievements #GSOMsuccess\\n\\nПервый день лета, первый день работы Петербургского международ...   \n",
       "3254  #GSOMachievements\\n\\n⚡ВШМ СПбГУ в топ-25 лучших программ магистратуры в мире⚡\\n\\nПрограмма Maste...   \n",
       "\n",
       "      col_from_id  col_owner_id  col_views_count  col_reposts_count  \\\n",
       "3339         -168          -168          49010.0               71.0   \n",
       "3254         -168          -168          31106.0               56.0   \n",
       "\n",
       "      col_likes_count  col_comments_count            col_date      group  \\\n",
       "3339              474                   0 2017-06-01 11:15:24  gsom_spbu   \n",
       "3254              374                   0 2017-09-11 13:51:38  gsom_spbu   \n",
       "\n",
       "      has_video  has_photo col_lang  col_sent  sent_prob  day_of_week  \\\n",
       "3339          0          0       ru  positive   0.987339            3   \n",
       "3254          0          0       ru   neutral   0.996655            0   \n",
       "\n",
       "          d-n  month  year  like_presense  \n",
       "3339  morning      6  2017              1  \n",
       "3254      day      9  2017              1  "
      ]
     },
     "execution_count": 25,
     "metadata": {},
     "output_type": "execute_result"
    }
   ],
   "source": [
    "# by likes\n",
    "df.sort_values(by='col_likes_count', ascending=False).head(2)"
   ]
  },
  {
   "cell_type": "code",
   "execution_count": 26,
   "id": "70fac562",
   "metadata": {},
   "outputs": [],
   "source": [
    "del df[df.columns [0]]"
   ]
  },
  {
   "cell_type": "code",
   "execution_count": 27,
   "id": "24d70b8e",
   "metadata": {},
   "outputs": [
    {
     "data": {
      "text/html": [
       "<div>\n",
       "<style scoped>\n",
       "    .dataframe tbody tr th:only-of-type {\n",
       "        vertical-align: middle;\n",
       "    }\n",
       "\n",
       "    .dataframe tbody tr th {\n",
       "        vertical-align: top;\n",
       "    }\n",
       "\n",
       "    .dataframe thead th {\n",
       "        text-align: right;\n",
       "    }\n",
       "</style>\n",
       "<table border=\"1\" class=\"dataframe\">\n",
       "  <thead>\n",
       "    <tr style=\"text-align: right;\">\n",
       "      <th></th>\n",
       "      <th>col_text_x</th>\n",
       "      <th>col_from_id</th>\n",
       "      <th>col_owner_id</th>\n",
       "      <th>col_views_count</th>\n",
       "      <th>col_reposts_count</th>\n",
       "      <th>col_likes_count</th>\n",
       "      <th>col_comments_count</th>\n",
       "      <th>col_date</th>\n",
       "      <th>group</th>\n",
       "      <th>has_video</th>\n",
       "      <th>has_photo</th>\n",
       "      <th>col_lang</th>\n",
       "      <th>col_sent</th>\n",
       "      <th>sent_prob</th>\n",
       "      <th>day_of_week</th>\n",
       "      <th>d-n</th>\n",
       "      <th>month</th>\n",
       "      <th>year</th>\n",
       "      <th>like_presense</th>\n",
       "    </tr>\n",
       "  </thead>\n",
       "  <tbody>\n",
       "  </tbody>\n",
       "</table>\n",
       "</div>"
      ],
      "text/plain": [
       "Empty DataFrame\n",
       "Columns: [col_text_x, col_from_id, col_owner_id, col_views_count, col_reposts_count, col_likes_count, col_comments_count, col_date, group, has_video, has_photo, col_lang, col_sent, sent_prob, day_of_week, d-n, month, year, like_presense]\n",
       "Index: []"
      ]
     },
     "execution_count": 27,
     "metadata": {},
     "output_type": "execute_result"
    }
   ],
   "source": [
    "#Оказалось, что есть посты-дубликаты.\n",
    "duplicateRows = df[df.duplicated (subset= ['col_text_x','col_owner_id','col_views_count', 'col_likes_count', 'col_date'])]\n",
    "duplicateRows.head(3)"
   ]
  },
  {
   "cell_type": "code",
   "execution_count": 28,
   "id": "4785efb6",
   "metadata": {
    "scrolled": true
   },
   "outputs": [
    {
     "data": {
      "text/plain": [
       "(3763, 19)"
      ]
     },
     "execution_count": 28,
     "metadata": {},
     "output_type": "execute_result"
    }
   ],
   "source": [
    "df = df.drop_duplicates(subset= ['col_text_x','col_owner_id','col_views_count', 'col_likes_count', 'col_date'])\n",
    "df.shape"
   ]
  },
  {
   "cell_type": "code",
   "execution_count": 29,
   "id": "3e9a1b2d",
   "metadata": {
    "scrolled": true
   },
   "outputs": [
    {
     "data": {
      "text/html": [
       "<div>\n",
       "<style scoped>\n",
       "    .dataframe tbody tr th:only-of-type {\n",
       "        vertical-align: middle;\n",
       "    }\n",
       "\n",
       "    .dataframe tbody tr th {\n",
       "        vertical-align: top;\n",
       "    }\n",
       "\n",
       "    .dataframe thead th {\n",
       "        text-align: right;\n",
       "    }\n",
       "</style>\n",
       "<table border=\"1\" class=\"dataframe\">\n",
       "  <thead>\n",
       "    <tr style=\"text-align: right;\">\n",
       "      <th></th>\n",
       "      <th>col_text_x</th>\n",
       "      <th>col_from_id</th>\n",
       "      <th>col_owner_id</th>\n",
       "      <th>col_views_count</th>\n",
       "      <th>col_reposts_count</th>\n",
       "      <th>col_likes_count</th>\n",
       "      <th>col_comments_count</th>\n",
       "      <th>col_date</th>\n",
       "      <th>group</th>\n",
       "      <th>has_video</th>\n",
       "      <th>has_photo</th>\n",
       "      <th>col_lang</th>\n",
       "      <th>col_sent</th>\n",
       "      <th>sent_prob</th>\n",
       "      <th>day_of_week</th>\n",
       "      <th>d-n</th>\n",
       "      <th>month</th>\n",
       "      <th>year</th>\n",
       "      <th>like_presense</th>\n",
       "    </tr>\n",
       "  </thead>\n",
       "  <tbody>\n",
       "    <tr>\n",
       "      <th>96</th>\n",
       "      <td>🔔 Регистрация на «Олимпиаду для первых» продлена! \\n\\nМы получили много обращений с просьбой про...</td>\n",
       "      <td>-23777199</td>\n",
       "      <td>-23777199</td>\n",
       "      <td>801.0</td>\n",
       "      <td>1.0</td>\n",
       "      <td>3</td>\n",
       "      <td>0</td>\n",
       "      <td>2023-02-27 16:30:00</td>\n",
       "      <td>gsom_abiturient</td>\n",
       "      <td>0</td>\n",
       "      <td>0</td>\n",
       "      <td>ru</td>\n",
       "      <td>neutral</td>\n",
       "      <td>0.997669</td>\n",
       "      <td>0</td>\n",
       "      <td>evening</td>\n",
       "      <td>2</td>\n",
       "      <td>2023</td>\n",
       "      <td>0</td>\n",
       "    </tr>\n",
       "    <tr>\n",
       "      <th>103</th>\n",
       "      <td>🔔 Регистрация на «Олимпиаду для первых» продлена! \\n\\nМы получили много обращений с просьбой про...</td>\n",
       "      <td>-20449089</td>\n",
       "      <td>-20449089</td>\n",
       "      <td>470.0</td>\n",
       "      <td>2.0</td>\n",
       "      <td>2</td>\n",
       "      <td>0</td>\n",
       "      <td>2023-02-27 16:30:00</td>\n",
       "      <td>gsom_ma</td>\n",
       "      <td>0</td>\n",
       "      <td>0</td>\n",
       "      <td>ru</td>\n",
       "      <td>neutral</td>\n",
       "      <td>0.998429</td>\n",
       "      <td>0</td>\n",
       "      <td>evening</td>\n",
       "      <td>2</td>\n",
       "      <td>2023</td>\n",
       "      <td>0</td>\n",
       "    </tr>\n",
       "    <tr>\n",
       "      <th>278</th>\n",
       "      <td>🔔 Регистрация на «Олимпиаду для первых» продлена! \\n\\nМы получили много обращений с просьбой про...</td>\n",
       "      <td>-168</td>\n",
       "      <td>-168</td>\n",
       "      <td>1498.0</td>\n",
       "      <td>5.0</td>\n",
       "      <td>5</td>\n",
       "      <td>0</td>\n",
       "      <td>2023-02-27 16:30:00</td>\n",
       "      <td>gsom_spbu</td>\n",
       "      <td>0</td>\n",
       "      <td>1</td>\n",
       "      <td>ru</td>\n",
       "      <td>neutral</td>\n",
       "      <td>0.993785</td>\n",
       "      <td>0</td>\n",
       "      <td>evening</td>\n",
       "      <td>2</td>\n",
       "      <td>2023</td>\n",
       "      <td>1</td>\n",
       "    </tr>\n",
       "  </tbody>\n",
       "</table>\n",
       "</div>"
      ],
      "text/plain": [
       "                                                                                              col_text_x  \\\n",
       "96   🔔 Регистрация на «Олимпиаду для первых» продлена! \\n\\nМы получили много обращений с просьбой про...   \n",
       "103  🔔 Регистрация на «Олимпиаду для первых» продлена! \\n\\nМы получили много обращений с просьбой про...   \n",
       "278  🔔 Регистрация на «Олимпиаду для первых» продлена! \\n\\nМы получили много обращений с просьбой про...   \n",
       "\n",
       "     col_from_id  col_owner_id  col_views_count  col_reposts_count  \\\n",
       "96     -23777199     -23777199            801.0                1.0   \n",
       "103    -20449089     -20449089            470.0                2.0   \n",
       "278         -168          -168           1498.0                5.0   \n",
       "\n",
       "     col_likes_count  col_comments_count            col_date            group  \\\n",
       "96                 3                   0 2023-02-27 16:30:00  gsom_abiturient   \n",
       "103                2                   0 2023-02-27 16:30:00          gsom_ma   \n",
       "278                5                   0 2023-02-27 16:30:00        gsom_spbu   \n",
       "\n",
       "     has_video  has_photo col_lang col_sent  sent_prob  day_of_week      d-n  \\\n",
       "96           0          0       ru  neutral   0.997669            0  evening   \n",
       "103          0          0       ru  neutral   0.998429            0  evening   \n",
       "278          0          1       ru  neutral   0.993785            0  evening   \n",
       "\n",
       "     month  year  like_presense  \n",
       "96       2  2023              0  \n",
       "103      2  2023              0  \n",
       "278      2  2023              1  "
      ]
     },
     "execution_count": 29,
     "metadata": {},
     "output_type": "execute_result"
    }
   ],
   "source": [
    "pattern = '🔔 Регистрация на «Олимпиаду для первых» продлена! \\n\\nМы получили много обращений с просьбой'\n",
    "df.loc[(df['col_text_x'].str.contains(pattern, case=False, na=False))]"
   ]
  },
  {
   "cell_type": "code",
   "execution_count": 30,
   "id": "3b958eef",
   "metadata": {
    "scrolled": true
   },
   "outputs": [],
   "source": [
    "#Оказалось, что есть посты-дубликаты по тексту в разных группах.\n",
    "#duplicateRows = df[df.duplicated (subset= ['col_text_x'])]\n",
    "#duplicateRows"
   ]
  },
  {
   "cell_type": "code",
   "execution_count": 31,
   "id": "551f1251",
   "metadata": {},
   "outputs": [],
   "source": [
    "#df = df.drop_duplicates(subset= ['col_text_x'])"
   ]
  },
  {
   "cell_type": "code",
   "execution_count": 32,
   "id": "af3bd110",
   "metadata": {},
   "outputs": [
    {
     "name": "stdout",
     "output_type": "stream",
     "text": [
      "<class 'pandas.core.frame.DataFrame'>\n",
      "Int64Index: 3763 entries, 1 to 5677\n",
      "Data columns (total 19 columns):\n",
      " #   Column              Non-Null Count  Dtype         \n",
      "---  ------              --------------  -----         \n",
      " 0   col_text_x          3763 non-null   object        \n",
      " 1   col_from_id         3763 non-null   int64         \n",
      " 2   col_owner_id        3763 non-null   int64         \n",
      " 3   col_views_count     3763 non-null   float64       \n",
      " 4   col_reposts_count   3763 non-null   float64       \n",
      " 5   col_likes_count     3763 non-null   int64         \n",
      " 6   col_comments_count  3763 non-null   int64         \n",
      " 7   col_date            3763 non-null   datetime64[ns]\n",
      " 8   group               3763 non-null   object        \n",
      " 9   has_video           3763 non-null   int64         \n",
      " 10  has_photo           3763 non-null   int64         \n",
      " 11  col_lang            3763 non-null   object        \n",
      " 12  col_sent            3763 non-null   object        \n",
      " 13  sent_prob           3763 non-null   float64       \n",
      " 14  day_of_week         3763 non-null   int64         \n",
      " 15  d-n                 3763 non-null   object        \n",
      " 16  month               3763 non-null   int64         \n",
      " 17  year                3763 non-null   int64         \n",
      " 18  like_presense       3763 non-null   int64         \n",
      "dtypes: datetime64[ns](1), float64(3), int64(10), object(5)\n",
      "memory usage: 588.0+ KB\n"
     ]
    }
   ],
   "source": [
    "df.info()"
   ]
  },
  {
   "cell_type": "code",
   "execution_count": 33,
   "id": "91c380d9",
   "metadata": {},
   "outputs": [
    {
     "data": {
      "text/plain": [
       "gsom_spbu          1997\n",
       "gsom_ma            1250\n",
       "gsom_abiturient     516\n",
       "Name: group, dtype: int64"
      ]
     },
     "execution_count": 33,
     "metadata": {},
     "output_type": "execute_result"
    }
   ],
   "source": [
    "df['group'].value_counts()"
   ]
  },
  {
   "cell_type": "code",
   "execution_count": 34,
   "id": "81bd62e4",
   "metadata": {},
   "outputs": [
    {
     "name": "stdout",
     "output_type": "stream",
     "text": [
      "612\n",
      "513\n",
      "185\n"
     ]
    }
   ],
   "source": [
    "print(df.loc[df['group'] == 'gsom_spbu']['col_comments_count'].sum())\n",
    "print(df.loc[df['group'] == 'gsom_ma']['col_comments_count'].sum())\n",
    "print(df.loc[df['group'] == 'gsom_abiturient']['col_comments_count'].sum())"
   ]
  },
  {
   "cell_type": "code",
   "execution_count": 35,
   "id": "194ea5a4",
   "metadata": {},
   "outputs": [
    {
     "data": {
      "text/html": [
       "<div>\n",
       "<style scoped>\n",
       "    .dataframe tbody tr th:only-of-type {\n",
       "        vertical-align: middle;\n",
       "    }\n",
       "\n",
       "    .dataframe tbody tr th {\n",
       "        vertical-align: top;\n",
       "    }\n",
       "\n",
       "    .dataframe thead th {\n",
       "        text-align: right;\n",
       "    }\n",
       "</style>\n",
       "<table border=\"1\" class=\"dataframe\">\n",
       "  <thead>\n",
       "    <tr style=\"text-align: right;\">\n",
       "      <th></th>\n",
       "      <th>col_from_id</th>\n",
       "      <th>col_owner_id</th>\n",
       "      <th>col_views_count</th>\n",
       "      <th>col_reposts_count</th>\n",
       "      <th>col_likes_count</th>\n",
       "      <th>col_comments_count</th>\n",
       "      <th>has_video</th>\n",
       "      <th>has_photo</th>\n",
       "      <th>sent_prob</th>\n",
       "      <th>day_of_week</th>\n",
       "      <th>month</th>\n",
       "      <th>year</th>\n",
       "      <th>like_presense</th>\n",
       "    </tr>\n",
       "  </thead>\n",
       "  <tbody>\n",
       "    <tr>\n",
       "      <th>count</th>\n",
       "      <td>1997.0</td>\n",
       "      <td>1997.0</td>\n",
       "      <td>1997.000000</td>\n",
       "      <td>1997.000000</td>\n",
       "      <td>1997.000000</td>\n",
       "      <td>1997.000000</td>\n",
       "      <td>1997.000000</td>\n",
       "      <td>1997.000000</td>\n",
       "      <td>1997.000000</td>\n",
       "      <td>1997.000000</td>\n",
       "      <td>1997.000000</td>\n",
       "      <td>1997.000000</td>\n",
       "      <td>1997.000000</td>\n",
       "    </tr>\n",
       "    <tr>\n",
       "      <th>mean</th>\n",
       "      <td>-168.0</td>\n",
       "      <td>-168.0</td>\n",
       "      <td>1449.036054</td>\n",
       "      <td>2.555333</td>\n",
       "      <td>16.636455</td>\n",
       "      <td>0.306460</td>\n",
       "      <td>0.047571</td>\n",
       "      <td>0.299449</td>\n",
       "      <td>0.934412</td>\n",
       "      <td>2.245869</td>\n",
       "      <td>6.578368</td>\n",
       "      <td>2018.336505</td>\n",
       "      <td>0.788182</td>\n",
       "    </tr>\n",
       "    <tr>\n",
       "      <th>std</th>\n",
       "      <td>0.0</td>\n",
       "      <td>0.0</td>\n",
       "      <td>1846.351721</td>\n",
       "      <td>6.576250</td>\n",
       "      <td>24.416867</td>\n",
       "      <td>1.312123</td>\n",
       "      <td>0.212911</td>\n",
       "      <td>0.458131</td>\n",
       "      <td>0.237879</td>\n",
       "      <td>1.661825</td>\n",
       "      <td>3.502861</td>\n",
       "      <td>2.878281</td>\n",
       "      <td>0.408699</td>\n",
       "    </tr>\n",
       "    <tr>\n",
       "      <th>min</th>\n",
       "      <td>-168.0</td>\n",
       "      <td>-168.0</td>\n",
       "      <td>0.000000</td>\n",
       "      <td>0.000000</td>\n",
       "      <td>0.000000</td>\n",
       "      <td>0.000000</td>\n",
       "      <td>0.000000</td>\n",
       "      <td>0.000000</td>\n",
       "      <td>0.000000</td>\n",
       "      <td>0.000000</td>\n",
       "      <td>1.000000</td>\n",
       "      <td>2011.000000</td>\n",
       "      <td>0.000000</td>\n",
       "    </tr>\n",
       "    <tr>\n",
       "      <th>25%</th>\n",
       "      <td>-168.0</td>\n",
       "      <td>-168.0</td>\n",
       "      <td>761.000000</td>\n",
       "      <td>0.000000</td>\n",
       "      <td>4.000000</td>\n",
       "      <td>0.000000</td>\n",
       "      <td>0.000000</td>\n",
       "      <td>0.000000</td>\n",
       "      <td>0.997188</td>\n",
       "      <td>1.000000</td>\n",
       "      <td>3.000000</td>\n",
       "      <td>2017.000000</td>\n",
       "      <td>1.000000</td>\n",
       "    </tr>\n",
       "    <tr>\n",
       "      <th>50%</th>\n",
       "      <td>-168.0</td>\n",
       "      <td>-168.0</td>\n",
       "      <td>1273.000000</td>\n",
       "      <td>0.000000</td>\n",
       "      <td>10.000000</td>\n",
       "      <td>0.000000</td>\n",
       "      <td>0.000000</td>\n",
       "      <td>0.000000</td>\n",
       "      <td>0.998026</td>\n",
       "      <td>2.000000</td>\n",
       "      <td>6.000000</td>\n",
       "      <td>2018.000000</td>\n",
       "      <td>1.000000</td>\n",
       "    </tr>\n",
       "    <tr>\n",
       "      <th>75%</th>\n",
       "      <td>-168.0</td>\n",
       "      <td>-168.0</td>\n",
       "      <td>1879.000000</td>\n",
       "      <td>2.000000</td>\n",
       "      <td>20.000000</td>\n",
       "      <td>0.000000</td>\n",
       "      <td>0.000000</td>\n",
       "      <td>1.000000</td>\n",
       "      <td>0.998273</td>\n",
       "      <td>4.000000</td>\n",
       "      <td>10.000000</td>\n",
       "      <td>2021.000000</td>\n",
       "      <td>1.000000</td>\n",
       "    </tr>\n",
       "    <tr>\n",
       "      <th>max</th>\n",
       "      <td>-168.0</td>\n",
       "      <td>-168.0</td>\n",
       "      <td>49010.000000</td>\n",
       "      <td>104.000000</td>\n",
       "      <td>474.000000</td>\n",
       "      <td>32.000000</td>\n",
       "      <td>1.000000</td>\n",
       "      <td>1.000000</td>\n",
       "      <td>0.998651</td>\n",
       "      <td>6.000000</td>\n",
       "      <td>12.000000</td>\n",
       "      <td>2023.000000</td>\n",
       "      <td>1.000000</td>\n",
       "    </tr>\n",
       "  </tbody>\n",
       "</table>\n",
       "</div>"
      ],
      "text/plain": [
       "       col_from_id  col_owner_id  col_views_count  col_reposts_count  \\\n",
       "count       1997.0        1997.0      1997.000000        1997.000000   \n",
       "mean        -168.0        -168.0      1449.036054           2.555333   \n",
       "std            0.0           0.0      1846.351721           6.576250   \n",
       "min         -168.0        -168.0         0.000000           0.000000   \n",
       "25%         -168.0        -168.0       761.000000           0.000000   \n",
       "50%         -168.0        -168.0      1273.000000           0.000000   \n",
       "75%         -168.0        -168.0      1879.000000           2.000000   \n",
       "max         -168.0        -168.0     49010.000000         104.000000   \n",
       "\n",
       "       col_likes_count  col_comments_count    has_video    has_photo  \\\n",
       "count      1997.000000         1997.000000  1997.000000  1997.000000   \n",
       "mean         16.636455            0.306460     0.047571     0.299449   \n",
       "std          24.416867            1.312123     0.212911     0.458131   \n",
       "min           0.000000            0.000000     0.000000     0.000000   \n",
       "25%           4.000000            0.000000     0.000000     0.000000   \n",
       "50%          10.000000            0.000000     0.000000     0.000000   \n",
       "75%          20.000000            0.000000     0.000000     1.000000   \n",
       "max         474.000000           32.000000     1.000000     1.000000   \n",
       "\n",
       "         sent_prob  day_of_week        month         year  like_presense  \n",
       "count  1997.000000  1997.000000  1997.000000  1997.000000    1997.000000  \n",
       "mean      0.934412     2.245869     6.578368  2018.336505       0.788182  \n",
       "std       0.237879     1.661825     3.502861     2.878281       0.408699  \n",
       "min       0.000000     0.000000     1.000000  2011.000000       0.000000  \n",
       "25%       0.997188     1.000000     3.000000  2017.000000       1.000000  \n",
       "50%       0.998026     2.000000     6.000000  2018.000000       1.000000  \n",
       "75%       0.998273     4.000000    10.000000  2021.000000       1.000000  \n",
       "max       0.998651     6.000000    12.000000  2023.000000       1.000000  "
      ]
     },
     "execution_count": 35,
     "metadata": {},
     "output_type": "execute_result"
    }
   ],
   "source": [
    "df.loc[df['group'] == 'gsom_spbu'].describe()"
   ]
  },
  {
   "cell_type": "code",
   "execution_count": 36,
   "id": "ade7e78f",
   "metadata": {},
   "outputs": [
    {
     "data": {
      "text/html": [
       "<div>\n",
       "<style scoped>\n",
       "    .dataframe tbody tr th:only-of-type {\n",
       "        vertical-align: middle;\n",
       "    }\n",
       "\n",
       "    .dataframe tbody tr th {\n",
       "        vertical-align: top;\n",
       "    }\n",
       "\n",
       "    .dataframe thead th {\n",
       "        text-align: right;\n",
       "    }\n",
       "</style>\n",
       "<table border=\"1\" class=\"dataframe\">\n",
       "  <thead>\n",
       "    <tr style=\"text-align: right;\">\n",
       "      <th></th>\n",
       "      <th>col_from_id</th>\n",
       "      <th>col_owner_id</th>\n",
       "      <th>col_views_count</th>\n",
       "      <th>col_reposts_count</th>\n",
       "      <th>col_likes_count</th>\n",
       "      <th>col_comments_count</th>\n",
       "      <th>has_video</th>\n",
       "      <th>has_photo</th>\n",
       "      <th>sent_prob</th>\n",
       "      <th>day_of_week</th>\n",
       "      <th>month</th>\n",
       "      <th>year</th>\n",
       "      <th>like_presense</th>\n",
       "    </tr>\n",
       "  </thead>\n",
       "  <tbody>\n",
       "    <tr>\n",
       "      <th>count</th>\n",
       "      <td>1250.0</td>\n",
       "      <td>1250.0</td>\n",
       "      <td>1250.000000</td>\n",
       "      <td>1250.000000</td>\n",
       "      <td>1250.000000</td>\n",
       "      <td>1250.000000</td>\n",
       "      <td>1250.000000</td>\n",
       "      <td>1250.000000</td>\n",
       "      <td>1250.000000</td>\n",
       "      <td>1250.000000</td>\n",
       "      <td>1250.000000</td>\n",
       "      <td>1250.000000</td>\n",
       "      <td>1250.00000</td>\n",
       "    </tr>\n",
       "    <tr>\n",
       "      <th>mean</th>\n",
       "      <td>-20449089.0</td>\n",
       "      <td>-20449089.0</td>\n",
       "      <td>576.212000</td>\n",
       "      <td>1.468000</td>\n",
       "      <td>6.300800</td>\n",
       "      <td>0.410400</td>\n",
       "      <td>0.098400</td>\n",
       "      <td>0.230400</td>\n",
       "      <td>0.973629</td>\n",
       "      <td>2.478400</td>\n",
       "      <td>6.362400</td>\n",
       "      <td>2017.693600</td>\n",
       "      <td>0.56240</td>\n",
       "    </tr>\n",
       "    <tr>\n",
       "      <th>std</th>\n",
       "      <td>0.0</td>\n",
       "      <td>0.0</td>\n",
       "      <td>1406.912738</td>\n",
       "      <td>2.981289</td>\n",
       "      <td>8.540719</td>\n",
       "      <td>1.952696</td>\n",
       "      <td>0.297974</td>\n",
       "      <td>0.421257</td>\n",
       "      <td>0.145644</td>\n",
       "      <td>1.772017</td>\n",
       "      <td>3.544618</td>\n",
       "      <td>3.536796</td>\n",
       "      <td>0.49629</td>\n",
       "    </tr>\n",
       "    <tr>\n",
       "      <th>min</th>\n",
       "      <td>-20449089.0</td>\n",
       "      <td>-20449089.0</td>\n",
       "      <td>0.000000</td>\n",
       "      <td>0.000000</td>\n",
       "      <td>0.000000</td>\n",
       "      <td>0.000000</td>\n",
       "      <td>0.000000</td>\n",
       "      <td>0.000000</td>\n",
       "      <td>0.000000</td>\n",
       "      <td>0.000000</td>\n",
       "      <td>1.000000</td>\n",
       "      <td>2011.000000</td>\n",
       "      <td>0.00000</td>\n",
       "    </tr>\n",
       "    <tr>\n",
       "      <th>25%</th>\n",
       "      <td>-20449089.0</td>\n",
       "      <td>-20449089.0</td>\n",
       "      <td>0.000000</td>\n",
       "      <td>0.000000</td>\n",
       "      <td>2.000000</td>\n",
       "      <td>0.000000</td>\n",
       "      <td>0.000000</td>\n",
       "      <td>0.000000</td>\n",
       "      <td>0.997578</td>\n",
       "      <td>1.000000</td>\n",
       "      <td>3.000000</td>\n",
       "      <td>2015.000000</td>\n",
       "      <td>0.00000</td>\n",
       "    </tr>\n",
       "    <tr>\n",
       "      <th>50%</th>\n",
       "      <td>-20449089.0</td>\n",
       "      <td>-20449089.0</td>\n",
       "      <td>454.000000</td>\n",
       "      <td>0.000000</td>\n",
       "      <td>4.000000</td>\n",
       "      <td>0.000000</td>\n",
       "      <td>0.000000</td>\n",
       "      <td>0.000000</td>\n",
       "      <td>0.998104</td>\n",
       "      <td>2.000000</td>\n",
       "      <td>6.000000</td>\n",
       "      <td>2018.000000</td>\n",
       "      <td>1.00000</td>\n",
       "    </tr>\n",
       "    <tr>\n",
       "      <th>75%</th>\n",
       "      <td>-20449089.0</td>\n",
       "      <td>-20449089.0</td>\n",
       "      <td>794.000000</td>\n",
       "      <td>2.000000</td>\n",
       "      <td>7.000000</td>\n",
       "      <td>0.000000</td>\n",
       "      <td>0.000000</td>\n",
       "      <td>0.000000</td>\n",
       "      <td>0.998306</td>\n",
       "      <td>4.000000</td>\n",
       "      <td>10.000000</td>\n",
       "      <td>2021.000000</td>\n",
       "      <td>1.00000</td>\n",
       "    </tr>\n",
       "    <tr>\n",
       "      <th>max</th>\n",
       "      <td>-20449089.0</td>\n",
       "      <td>-20449089.0</td>\n",
       "      <td>43826.000000</td>\n",
       "      <td>34.000000</td>\n",
       "      <td>108.000000</td>\n",
       "      <td>35.000000</td>\n",
       "      <td>1.000000</td>\n",
       "      <td>1.000000</td>\n",
       "      <td>0.998651</td>\n",
       "      <td>6.000000</td>\n",
       "      <td>12.000000</td>\n",
       "      <td>2023.000000</td>\n",
       "      <td>1.00000</td>\n",
       "    </tr>\n",
       "  </tbody>\n",
       "</table>\n",
       "</div>"
      ],
      "text/plain": [
       "       col_from_id  col_owner_id  col_views_count  col_reposts_count  \\\n",
       "count       1250.0        1250.0      1250.000000        1250.000000   \n",
       "mean   -20449089.0   -20449089.0       576.212000           1.468000   \n",
       "std            0.0           0.0      1406.912738           2.981289   \n",
       "min    -20449089.0   -20449089.0         0.000000           0.000000   \n",
       "25%    -20449089.0   -20449089.0         0.000000           0.000000   \n",
       "50%    -20449089.0   -20449089.0       454.000000           0.000000   \n",
       "75%    -20449089.0   -20449089.0       794.000000           2.000000   \n",
       "max    -20449089.0   -20449089.0     43826.000000          34.000000   \n",
       "\n",
       "       col_likes_count  col_comments_count    has_video    has_photo  \\\n",
       "count      1250.000000         1250.000000  1250.000000  1250.000000   \n",
       "mean          6.300800            0.410400     0.098400     0.230400   \n",
       "std           8.540719            1.952696     0.297974     0.421257   \n",
       "min           0.000000            0.000000     0.000000     0.000000   \n",
       "25%           2.000000            0.000000     0.000000     0.000000   \n",
       "50%           4.000000            0.000000     0.000000     0.000000   \n",
       "75%           7.000000            0.000000     0.000000     0.000000   \n",
       "max         108.000000           35.000000     1.000000     1.000000   \n",
       "\n",
       "         sent_prob  day_of_week        month         year  like_presense  \n",
       "count  1250.000000  1250.000000  1250.000000  1250.000000     1250.00000  \n",
       "mean      0.973629     2.478400     6.362400  2017.693600        0.56240  \n",
       "std       0.145644     1.772017     3.544618     3.536796        0.49629  \n",
       "min       0.000000     0.000000     1.000000  2011.000000        0.00000  \n",
       "25%       0.997578     1.000000     3.000000  2015.000000        0.00000  \n",
       "50%       0.998104     2.000000     6.000000  2018.000000        1.00000  \n",
       "75%       0.998306     4.000000    10.000000  2021.000000        1.00000  \n",
       "max       0.998651     6.000000    12.000000  2023.000000        1.00000  "
      ]
     },
     "execution_count": 36,
     "metadata": {},
     "output_type": "execute_result"
    }
   ],
   "source": [
    "df.loc[df['group'] == 'gsom_ma'].describe()"
   ]
  },
  {
   "cell_type": "code",
   "execution_count": 37,
   "id": "7a48a47e",
   "metadata": {},
   "outputs": [
    {
     "data": {
      "text/html": [
       "<div>\n",
       "<style scoped>\n",
       "    .dataframe tbody tr th:only-of-type {\n",
       "        vertical-align: middle;\n",
       "    }\n",
       "\n",
       "    .dataframe tbody tr th {\n",
       "        vertical-align: top;\n",
       "    }\n",
       "\n",
       "    .dataframe thead th {\n",
       "        text-align: right;\n",
       "    }\n",
       "</style>\n",
       "<table border=\"1\" class=\"dataframe\">\n",
       "  <thead>\n",
       "    <tr style=\"text-align: right;\">\n",
       "      <th></th>\n",
       "      <th>col_from_id</th>\n",
       "      <th>col_owner_id</th>\n",
       "      <th>col_views_count</th>\n",
       "      <th>col_reposts_count</th>\n",
       "      <th>col_likes_count</th>\n",
       "      <th>col_comments_count</th>\n",
       "      <th>has_video</th>\n",
       "      <th>has_photo</th>\n",
       "      <th>sent_prob</th>\n",
       "      <th>day_of_week</th>\n",
       "      <th>month</th>\n",
       "      <th>year</th>\n",
       "      <th>like_presense</th>\n",
       "    </tr>\n",
       "  </thead>\n",
       "  <tbody>\n",
       "    <tr>\n",
       "      <th>count</th>\n",
       "      <td>516.0</td>\n",
       "      <td>516.0</td>\n",
       "      <td>516.000000</td>\n",
       "      <td>516.000000</td>\n",
       "      <td>516.000000</td>\n",
       "      <td>516.000000</td>\n",
       "      <td>516.000000</td>\n",
       "      <td>516.000000</td>\n",
       "      <td>516.000000</td>\n",
       "      <td>516.000000</td>\n",
       "      <td>516.000000</td>\n",
       "      <td>516.000000</td>\n",
       "      <td>516.000000</td>\n",
       "    </tr>\n",
       "    <tr>\n",
       "      <th>mean</th>\n",
       "      <td>-23777199.0</td>\n",
       "      <td>-23777199.0</td>\n",
       "      <td>1198.746124</td>\n",
       "      <td>3.751938</td>\n",
       "      <td>11.091085</td>\n",
       "      <td>0.358527</td>\n",
       "      <td>0.120155</td>\n",
       "      <td>0.228682</td>\n",
       "      <td>0.992552</td>\n",
       "      <td>2.542636</td>\n",
       "      <td>6.339147</td>\n",
       "      <td>2020.715116</td>\n",
       "      <td>0.926357</td>\n",
       "    </tr>\n",
       "    <tr>\n",
       "      <th>std</th>\n",
       "      <td>0.0</td>\n",
       "      <td>0.0</td>\n",
       "      <td>813.240360</td>\n",
       "      <td>6.490359</td>\n",
       "      <td>8.611656</td>\n",
       "      <td>1.253091</td>\n",
       "      <td>0.325458</td>\n",
       "      <td>0.420392</td>\n",
       "      <td>0.047519</td>\n",
       "      <td>1.725909</td>\n",
       "      <td>3.449398</td>\n",
       "      <td>1.233136</td>\n",
       "      <td>0.261443</td>\n",
       "    </tr>\n",
       "    <tr>\n",
       "      <th>min</th>\n",
       "      <td>-23777199.0</td>\n",
       "      <td>-23777199.0</td>\n",
       "      <td>266.000000</td>\n",
       "      <td>0.000000</td>\n",
       "      <td>1.000000</td>\n",
       "      <td>0.000000</td>\n",
       "      <td>0.000000</td>\n",
       "      <td>0.000000</td>\n",
       "      <td>0.000000</td>\n",
       "      <td>0.000000</td>\n",
       "      <td>1.000000</td>\n",
       "      <td>2018.000000</td>\n",
       "      <td>0.000000</td>\n",
       "    </tr>\n",
       "    <tr>\n",
       "      <th>25%</th>\n",
       "      <td>-23777199.0</td>\n",
       "      <td>-23777199.0</td>\n",
       "      <td>743.750000</td>\n",
       "      <td>0.000000</td>\n",
       "      <td>6.000000</td>\n",
       "      <td>0.000000</td>\n",
       "      <td>0.000000</td>\n",
       "      <td>0.000000</td>\n",
       "      <td>0.997572</td>\n",
       "      <td>1.000000</td>\n",
       "      <td>3.000000</td>\n",
       "      <td>2020.000000</td>\n",
       "      <td>1.000000</td>\n",
       "    </tr>\n",
       "    <tr>\n",
       "      <th>50%</th>\n",
       "      <td>-23777199.0</td>\n",
       "      <td>-23777199.0</td>\n",
       "      <td>960.000000</td>\n",
       "      <td>1.000000</td>\n",
       "      <td>9.000000</td>\n",
       "      <td>0.000000</td>\n",
       "      <td>0.000000</td>\n",
       "      <td>0.000000</td>\n",
       "      <td>0.998120</td>\n",
       "      <td>3.000000</td>\n",
       "      <td>6.000000</td>\n",
       "      <td>2021.000000</td>\n",
       "      <td>1.000000</td>\n",
       "    </tr>\n",
       "    <tr>\n",
       "      <th>75%</th>\n",
       "      <td>-23777199.0</td>\n",
       "      <td>-23777199.0</td>\n",
       "      <td>1343.250000</td>\n",
       "      <td>5.000000</td>\n",
       "      <td>14.000000</td>\n",
       "      <td>0.000000</td>\n",
       "      <td>0.000000</td>\n",
       "      <td>0.000000</td>\n",
       "      <td>0.998318</td>\n",
       "      <td>4.000000</td>\n",
       "      <td>10.000000</td>\n",
       "      <td>2022.000000</td>\n",
       "      <td>1.000000</td>\n",
       "    </tr>\n",
       "    <tr>\n",
       "      <th>max</th>\n",
       "      <td>-23777199.0</td>\n",
       "      <td>-23777199.0</td>\n",
       "      <td>7701.000000</td>\n",
       "      <td>69.000000</td>\n",
       "      <td>60.000000</td>\n",
       "      <td>10.000000</td>\n",
       "      <td>1.000000</td>\n",
       "      <td>1.000000</td>\n",
       "      <td>0.998651</td>\n",
       "      <td>6.000000</td>\n",
       "      <td>12.000000</td>\n",
       "      <td>2023.000000</td>\n",
       "      <td>1.000000</td>\n",
       "    </tr>\n",
       "  </tbody>\n",
       "</table>\n",
       "</div>"
      ],
      "text/plain": [
       "       col_from_id  col_owner_id  col_views_count  col_reposts_count  \\\n",
       "count        516.0         516.0       516.000000         516.000000   \n",
       "mean   -23777199.0   -23777199.0      1198.746124           3.751938   \n",
       "std            0.0           0.0       813.240360           6.490359   \n",
       "min    -23777199.0   -23777199.0       266.000000           0.000000   \n",
       "25%    -23777199.0   -23777199.0       743.750000           0.000000   \n",
       "50%    -23777199.0   -23777199.0       960.000000           1.000000   \n",
       "75%    -23777199.0   -23777199.0      1343.250000           5.000000   \n",
       "max    -23777199.0   -23777199.0      7701.000000          69.000000   \n",
       "\n",
       "       col_likes_count  col_comments_count   has_video   has_photo  \\\n",
       "count       516.000000          516.000000  516.000000  516.000000   \n",
       "mean         11.091085            0.358527    0.120155    0.228682   \n",
       "std           8.611656            1.253091    0.325458    0.420392   \n",
       "min           1.000000            0.000000    0.000000    0.000000   \n",
       "25%           6.000000            0.000000    0.000000    0.000000   \n",
       "50%           9.000000            0.000000    0.000000    0.000000   \n",
       "75%          14.000000            0.000000    0.000000    0.000000   \n",
       "max          60.000000           10.000000    1.000000    1.000000   \n",
       "\n",
       "        sent_prob  day_of_week       month         year  like_presense  \n",
       "count  516.000000   516.000000  516.000000   516.000000     516.000000  \n",
       "mean     0.992552     2.542636    6.339147  2020.715116       0.926357  \n",
       "std      0.047519     1.725909    3.449398     1.233136       0.261443  \n",
       "min      0.000000     0.000000    1.000000  2018.000000       0.000000  \n",
       "25%      0.997572     1.000000    3.000000  2020.000000       1.000000  \n",
       "50%      0.998120     3.000000    6.000000  2021.000000       1.000000  \n",
       "75%      0.998318     4.000000   10.000000  2022.000000       1.000000  \n",
       "max      0.998651     6.000000   12.000000  2023.000000       1.000000  "
      ]
     },
     "execution_count": 37,
     "metadata": {},
     "output_type": "execute_result"
    }
   ],
   "source": [
    "df.loc[df['group'] == 'gsom_abiturient'].describe()"
   ]
  },
  {
   "cell_type": "code",
   "execution_count": 38,
   "id": "1d1566c6",
   "metadata": {},
   "outputs": [
    {
     "data": {
      "text/html": [
       "<div>\n",
       "<style scoped>\n",
       "    .dataframe tbody tr th:only-of-type {\n",
       "        vertical-align: middle;\n",
       "    }\n",
       "\n",
       "    .dataframe tbody tr th {\n",
       "        vertical-align: top;\n",
       "    }\n",
       "\n",
       "    .dataframe thead th {\n",
       "        text-align: right;\n",
       "    }\n",
       "</style>\n",
       "<table border=\"1\" class=\"dataframe\">\n",
       "  <thead>\n",
       "    <tr style=\"text-align: right;\">\n",
       "      <th></th>\n",
       "      <th>col_text_x</th>\n",
       "      <th>col_from_id</th>\n",
       "      <th>col_owner_id</th>\n",
       "      <th>col_views_count</th>\n",
       "      <th>col_reposts_count</th>\n",
       "      <th>col_likes_count</th>\n",
       "      <th>col_comments_count</th>\n",
       "      <th>col_date</th>\n",
       "      <th>group</th>\n",
       "      <th>has_video</th>\n",
       "      <th>has_photo</th>\n",
       "      <th>col_lang</th>\n",
       "      <th>col_sent</th>\n",
       "      <th>sent_prob</th>\n",
       "      <th>day_of_week</th>\n",
       "      <th>d-n</th>\n",
       "      <th>month</th>\n",
       "      <th>year</th>\n",
       "      <th>like_presense</th>\n",
       "    </tr>\n",
       "  </thead>\n",
       "  <tbody>\n",
       "    <tr>\n",
       "      <th>3339</th>\n",
       "      <td>#GSOMachievements #GSOMsuccess\\n\\nПервый день лета, первый день работы Петербургского международ...</td>\n",
       "      <td>-168</td>\n",
       "      <td>-168</td>\n",
       "      <td>49010.0</td>\n",
       "      <td>71.0</td>\n",
       "      <td>474</td>\n",
       "      <td>0</td>\n",
       "      <td>2017-06-01 11:15:24</td>\n",
       "      <td>gsom_spbu</td>\n",
       "      <td>0</td>\n",
       "      <td>0</td>\n",
       "      <td>ru</td>\n",
       "      <td>positive</td>\n",
       "      <td>0.987339</td>\n",
       "      <td>3</td>\n",
       "      <td>morning</td>\n",
       "      <td>6</td>\n",
       "      <td>2017</td>\n",
       "      <td>1</td>\n",
       "    </tr>\n",
       "    <tr>\n",
       "      <th>3254</th>\n",
       "      <td>#GSOMachievements\\n\\n⚡ВШМ СПбГУ в топ-25 лучших программ магистратуры в мире⚡\\n\\nПрограмма Maste...</td>\n",
       "      <td>-168</td>\n",
       "      <td>-168</td>\n",
       "      <td>31106.0</td>\n",
       "      <td>56.0</td>\n",
       "      <td>374</td>\n",
       "      <td>0</td>\n",
       "      <td>2017-09-11 13:51:38</td>\n",
       "      <td>gsom_spbu</td>\n",
       "      <td>0</td>\n",
       "      <td>0</td>\n",
       "      <td>ru</td>\n",
       "      <td>neutral</td>\n",
       "      <td>0.996655</td>\n",
       "      <td>0</td>\n",
       "      <td>day</td>\n",
       "      <td>9</td>\n",
       "      <td>2017</td>\n",
       "      <td>1</td>\n",
       "    </tr>\n",
       "  </tbody>\n",
       "</table>\n",
       "</div>"
      ],
      "text/plain": [
       "                                                                                               col_text_x  \\\n",
       "3339  #GSOMachievements #GSOMsuccess\\n\\nПервый день лета, первый день работы Петербургского международ...   \n",
       "3254  #GSOMachievements\\n\\n⚡ВШМ СПбГУ в топ-25 лучших программ магистратуры в мире⚡\\n\\nПрограмма Maste...   \n",
       "\n",
       "      col_from_id  col_owner_id  col_views_count  col_reposts_count  \\\n",
       "3339         -168          -168          49010.0               71.0   \n",
       "3254         -168          -168          31106.0               56.0   \n",
       "\n",
       "      col_likes_count  col_comments_count            col_date      group  \\\n",
       "3339              474                   0 2017-06-01 11:15:24  gsom_spbu   \n",
       "3254              374                   0 2017-09-11 13:51:38  gsom_spbu   \n",
       "\n",
       "      has_video  has_photo col_lang  col_sent  sent_prob  day_of_week  \\\n",
       "3339          0          0       ru  positive   0.987339            3   \n",
       "3254          0          0       ru   neutral   0.996655            0   \n",
       "\n",
       "          d-n  month  year  like_presense  \n",
       "3339  morning      6  2017              1  \n",
       "3254      day      9  2017              1  "
      ]
     },
     "execution_count": 38,
     "metadata": {},
     "output_type": "execute_result"
    }
   ],
   "source": [
    "# by likes\n",
    "df.sort_values(by='col_likes_count', ascending=False).head(2)"
   ]
  },
  {
   "cell_type": "code",
   "execution_count": 39,
   "id": "262628bd",
   "metadata": {},
   "outputs": [],
   "source": [
    "# likes by days\n",
    "#time_axis = df.sort_values('col_date')\n",
    "#likes_count = df.sort_values('col_date')['col_likes_count'].collect()"
   ]
  },
  {
   "cell_type": "code",
   "execution_count": 40,
   "id": "403b335f",
   "metadata": {},
   "outputs": [],
   "source": [
    "#plt.figure(figsize=(16, 6))\n",
    "#plt.plot(df['col_date'], df['col_likes_count'])\n",
    "#plt.ylabel('likes')\n",
    "#plt.xlabel('timestamp')\n",
    "#plt.title('Likes over the time')\n",
    "#plt.legend(['likes'], loc='upper left')\n",
    "#plt.show()"
   ]
  },
  {
   "cell_type": "code",
   "execution_count": 41,
   "id": "72c0a498",
   "metadata": {},
   "outputs": [
    {
     "data": {
      "text/plain": [
       "<AxesSubplot:title={'center':'Comments by day of week'}, xlabel='Day of week', ylabel='Number of comments'>"
      ]
     },
     "execution_count": 41,
     "metadata": {},
     "output_type": "execute_result"
    },
    {
     "data": {
      "image/png": "[encoded data removed]",
      "text/plain": [
       "<Figure size 720x432 with 1 Axes>"
      ]
     },
     "metadata": {
      "needs_background": "light"
     },
     "output_type": "display_data"
    }
   ],
   "source": [
    "comments_dow = df.groupby('day_of_week')['col_comments_count'].sum()\n",
    "comments_dow.plot(kind='bar', title='Comments by day of week',\n",
    "               ylabel='Number of comments', xlabel='Day of week', figsize=(10, 6))"
   ]
  },
  {
   "cell_type": "code",
   "execution_count": 42,
   "id": "f5acedcf",
   "metadata": {
    "scrolled": true
   },
   "outputs": [
    {
     "data": {
      "text/plain": [
       "<AxesSubplot:title={'center':'Likes by day of week'}, xlabel='Day of week', ylabel='Number of likes'>"
      ]
     },
     "execution_count": 42,
     "metadata": {},
     "output_type": "execute_result"
    },
    {
     "data": {
      "image/png": "[encoded data removed]",
      "text/plain": [
       "<Figure size 720x432 with 1 Axes>"
      ]
     },
     "metadata": {
      "needs_background": "light"
     },
     "output_type": "display_data"
    }
   ],
   "source": [
    "likes_dow = df.groupby('day_of_week')['col_likes_count'].sum()\n",
    "likes_dow.plot(kind='bar', title='Likes by day of week',\n",
    "               ylabel='Number of likes', xlabel='Day of week', figsize=(10, 6))"
   ]
  },
  {
   "cell_type": "code",
   "execution_count": 43,
   "id": "28a240df",
   "metadata": {},
   "outputs": [
    {
     "data": {
      "text/plain": [
       "<AxesSubplot:title={'center':'Likes by time of the day'}, xlabel='Time of the day', ylabel='Number of likes'>"
      ]
     },
     "execution_count": 43,
     "metadata": {},
     "output_type": "execute_result"
    },
    {
     "data": {
      "image/png": "[encoded data removed]",
      "text/plain": [
       "<Figure size 720x432 with 1 Axes>"
      ]
     },
     "metadata": {
      "needs_background": "light"
     },
     "output_type": "display_data"
    }
   ],
   "source": [
    "likes_dn = df.groupby('d-n')['col_likes_count'].sum()\n",
    "likes_dn.plot(kind='bar', title='Likes by time of the day',\n",
    "               ylabel='Number of likes', xlabel='Time of the day', figsize=(10, 6))"
   ]
  },
  {
   "cell_type": "code",
   "execution_count": 44,
   "id": "a848ffd8",
   "metadata": {
    "scrolled": true
   },
   "outputs": [
    {
     "data": {
      "text/plain": [
       "<AxesSubplot:title={'center':'Comments by time of the day'}, xlabel='Time of the day', ylabel='Number of comments'>"
      ]
     },
     "execution_count": 44,
     "metadata": {},
     "output_type": "execute_result"
    },
    {
     "data": {
      "image/png": "[encoded data removed]",
      "text/plain": [
       "<Figure size 720x432 with 1 Axes>"
      ]
     },
     "metadata": {
      "needs_background": "light"
     },
     "output_type": "display_data"
    }
   ],
   "source": [
    "comments_dn = df.groupby('d-n')['col_comments_count'].sum()\n",
    "comments_dn.plot(kind='bar', title='Comments by time of the day',\n",
    "               ylabel='Number of comments', xlabel='Time of the day', figsize=(10, 6))"
   ]
  },
  {
   "cell_type": "code",
   "execution_count": 45,
   "id": "38e14f18",
   "metadata": {},
   "outputs": [
    {
     "data": {
      "text/plain": [
       "<AxesSubplot:>"
      ]
     },
     "execution_count": 45,
     "metadata": {},
     "output_type": "execute_result"
    },
    {
     "data": {
      "image/png": "[encoded data removed]",
      "text/plain": [
       "<Figure size 432x288 with 2 Axes>"
      ]
     },
     "metadata": {
      "needs_background": "light"
     },
     "output_type": "display_data"
    }
   ],
   "source": [
    "sns.heatmap(df[['col_likes_count','col_comments_count','col_reposts_count','col_views_count','sent_prob']].corr())"
   ]
  },
  {
   "cell_type": "code",
   "execution_count": 46,
   "id": "e7b65221",
   "metadata": {
    "scrolled": true
   },
   "outputs": [
    {
     "data": {
      "text/html": [
       "<style type=\"text/css\">\n",
       "#T_61ce9_row0_col0, #T_61ce9_row1_col1, #T_61ce9_row2_col2, #T_61ce9_row3_col3, #T_61ce9_row4_col4 {\n",
       "  background-color: #006837;\n",
       "  color: #f1f1f1;\n",
       "}\n",
       "#T_61ce9_row0_col1 {\n",
       "  background-color: #b91326;\n",
       "  color: #f1f1f1;\n",
       "}\n",
       "#T_61ce9_row0_col2, #T_61ce9_row2_col0 {\n",
       "  background-color: #f7fcb4;\n",
       "  color: #000000;\n",
       "}\n",
       "#T_61ce9_row0_col3 {\n",
       "  background-color: #d7ee8a;\n",
       "  color: #000000;\n",
       "}\n",
       "#T_61ce9_row0_col4, #T_61ce9_row2_col4, #T_61ce9_row4_col0, #T_61ce9_row4_col1, #T_61ce9_row4_col2, #T_61ce9_row4_col3 {\n",
       "  background-color: #a50026;\n",
       "  color: #f1f1f1;\n",
       "}\n",
       "#T_61ce9_row1_col0 {\n",
       "  background-color: #bd1726;\n",
       "  color: #f1f1f1;\n",
       "}\n",
       "#T_61ce9_row1_col2 {\n",
       "  background-color: #b71126;\n",
       "  color: #f1f1f1;\n",
       "}\n",
       "#T_61ce9_row1_col3, #T_61ce9_row2_col1 {\n",
       "  background-color: #b30d26;\n",
       "  color: #f1f1f1;\n",
       "}\n",
       "#T_61ce9_row1_col4, #T_61ce9_row3_col4 {\n",
       "  background-color: #a90426;\n",
       "  color: #f1f1f1;\n",
       "}\n",
       "#T_61ce9_row2_col3 {\n",
       "  background-color: #fee491;\n",
       "  color: #000000;\n",
       "}\n",
       "#T_61ce9_row3_col0 {\n",
       "  background-color: #d5ed88;\n",
       "  color: #000000;\n",
       "}\n",
       "#T_61ce9_row3_col1 {\n",
       "  background-color: #b50f26;\n",
       "  color: #f1f1f1;\n",
       "}\n",
       "#T_61ce9_row3_col2 {\n",
       "  background-color: #fee695;\n",
       "  color: #000000;\n",
       "}\n",
       "</style>\n",
       "<table id=\"T_61ce9_\">\n",
       "  <thead>\n",
       "    <tr>\n",
       "      <th class=\"blank level0\" >&nbsp;</th>\n",
       "      <th class=\"col_heading level0 col0\" >col_likes_count</th>\n",
       "      <th class=\"col_heading level0 col1\" >col_comments_count</th>\n",
       "      <th class=\"col_heading level0 col2\" >col_reposts_count</th>\n",
       "      <th class=\"col_heading level0 col3\" >col_views_count</th>\n",
       "      <th class=\"col_heading level0 col4\" >sent_prob</th>\n",
       "    </tr>\n",
       "  </thead>\n",
       "  <tbody>\n",
       "    <tr>\n",
       "      <th id=\"T_61ce9_level0_row0\" class=\"row_heading level0 row0\" >col_likes_count</th>\n",
       "      <td id=\"T_61ce9_row0_col0\" class=\"data row0 col0\" >1.000000</td>\n",
       "      <td id=\"T_61ce9_row0_col1\" class=\"data row0 col1\" >0.069098</td>\n",
       "      <td id=\"T_61ce9_row0_col2\" class=\"data row0 col2\" >0.533399</td>\n",
       "      <td id=\"T_61ce9_row0_col3\" class=\"data row0 col3\" >0.615483</td>\n",
       "      <td id=\"T_61ce9_row0_col4\" class=\"data row0 col4\" >0.021669</td>\n",
       "    </tr>\n",
       "    <tr>\n",
       "      <th id=\"T_61ce9_level0_row1\" class=\"row_heading level0 row1\" >col_comments_count</th>\n",
       "      <td id=\"T_61ce9_row1_col0\" class=\"data row1 col0\" >0.069098</td>\n",
       "      <td id=\"T_61ce9_row1_col1\" class=\"data row1 col1\" >1.000000</td>\n",
       "      <td id=\"T_61ce9_row1_col2\" class=\"data row1 col2\" >0.059106</td>\n",
       "      <td id=\"T_61ce9_row1_col3\" class=\"data row1 col3\" >0.061493</td>\n",
       "      <td id=\"T_61ce9_row1_col4\" class=\"data row1 col4\" >0.030395</td>\n",
       "    </tr>\n",
       "    <tr>\n",
       "      <th id=\"T_61ce9_level0_row2\" class=\"row_heading level0 row2\" >col_reposts_count</th>\n",
       "      <td id=\"T_61ce9_row2_col0\" class=\"data row2 col0\" >0.533399</td>\n",
       "      <td id=\"T_61ce9_row2_col1\" class=\"data row2 col1\" >0.059106</td>\n",
       "      <td id=\"T_61ce9_row2_col2\" class=\"data row2 col2\" >1.000000</td>\n",
       "      <td id=\"T_61ce9_row2_col3\" class=\"data row2 col3\" >0.433052</td>\n",
       "      <td id=\"T_61ce9_row2_col4\" class=\"data row2 col4\" >0.023876</td>\n",
       "    </tr>\n",
       "    <tr>\n",
       "      <th id=\"T_61ce9_level0_row3\" class=\"row_heading level0 row3\" >col_views_count</th>\n",
       "      <td id=\"T_61ce9_row3_col0\" class=\"data row3 col0\" >0.615483</td>\n",
       "      <td id=\"T_61ce9_row3_col1\" class=\"data row3 col1\" >0.061493</td>\n",
       "      <td id=\"T_61ce9_row3_col2\" class=\"data row3 col2\" >0.433052</td>\n",
       "      <td id=\"T_61ce9_row3_col3\" class=\"data row3 col3\" >1.000000</td>\n",
       "      <td id=\"T_61ce9_row3_col4\" class=\"data row3 col4\" >0.032941</td>\n",
       "    </tr>\n",
       "    <tr>\n",
       "      <th id=\"T_61ce9_level0_row4\" class=\"row_heading level0 row4\" >sent_prob</th>\n",
       "      <td id=\"T_61ce9_row4_col0\" class=\"data row4 col0\" >0.021669</td>\n",
       "      <td id=\"T_61ce9_row4_col1\" class=\"data row4 col1\" >0.030395</td>\n",
       "      <td id=\"T_61ce9_row4_col2\" class=\"data row4 col2\" >0.023876</td>\n",
       "      <td id=\"T_61ce9_row4_col3\" class=\"data row4 col3\" >0.032941</td>\n",
       "      <td id=\"T_61ce9_row4_col4\" class=\"data row4 col4\" >1.000000</td>\n",
       "    </tr>\n",
       "  </tbody>\n",
       "</table>\n"
      ],
      "text/plain": [
       "<pandas.io.formats.style.Styler at 0x7f926c1aff40>"
      ]
     },
     "execution_count": 46,
     "metadata": {},
     "output_type": "execute_result"
    }
   ],
   "source": [
    "corr = df[['col_likes_count','col_comments_count','col_reposts_count','col_views_count','sent_prob']].corr()\n",
    "corr.style.background_gradient(cmap='RdYlGn')"
   ]
  },
  {
   "cell_type": "code",
   "execution_count": 47,
   "id": "12cb2b2d",
   "metadata": {},
   "outputs": [
    {
     "data": {
      "text/plain": [
       "<seaborn.axisgrid.FacetGrid at 0x7f927bb7ce80>"
      ]
     },
     "execution_count": 47,
     "metadata": {},
     "output_type": "execute_result"
    },
    {
     "data": {
      "image/png": "[encoded data removed]",
      "text/plain": [
       "<Figure size 360x360 with 1 Axes>"
      ]
     },
     "metadata": {
      "needs_background": "light"
     },
     "output_type": "display_data"
    }
   ],
   "source": [
    "sns.catplot(data=df, x=\"group\", y=\"col_likes_count\")"
   ]
  },
  {
   "cell_type": "code",
   "execution_count": 48,
   "id": "507f6ce4",
   "metadata": {},
   "outputs": [
    {
     "data": {
      "text/plain": [
       "<seaborn.axisgrid.FacetGrid at 0x7f926c22ffd0>"
      ]
     },
     "execution_count": 48,
     "metadata": {},
     "output_type": "execute_result"
    },
    {
     "data": {
      "image/png": "[encoded data removed]",
      "text/plain": [
       "<Figure size 360x360 with 1 Axes>"
      ]
     },
     "metadata": {
      "needs_background": "light"
     },
     "output_type": "display_data"
    }
   ],
   "source": [
    "sns.catplot(data=df, x=\"has_photo\", y=\"col_likes_count\", kind=\"box\")"
   ]
  },
  {
   "cell_type": "code",
   "execution_count": 49,
   "id": "24716402",
   "metadata": {},
   "outputs": [
    {
     "data": {
      "text/plain": [
       "count    3763.000000\n",
       "mean       12.442732\n",
       "std        19.308214\n",
       "min         0.000000\n",
       "25%         3.000000\n",
       "50%         7.000000\n",
       "75%        15.000000\n",
       "max       474.000000\n",
       "Name: col_likes_count, dtype: float64"
      ]
     },
     "execution_count": 49,
     "metadata": {},
     "output_type": "execute_result"
    }
   ],
   "source": [
    "df.col_likes_count.describe()"
   ]
  },
  {
   "cell_type": "code",
   "execution_count": 50,
   "id": "c7fd29f5",
   "metadata": {
    "scrolled": true
   },
   "outputs": [],
   "source": [
    "#sns.catplot(data=df, x=\"group\", y=\"col_likes_count\", hue=\"has_photo\", kind=\"swarm\")"
   ]
  },
  {
   "cell_type": "markdown",
   "id": "f1df1622",
   "metadata": {},
   "source": [
    "## OneHotEncoder"
   ]
  },
  {
   "cell_type": "code",
   "execution_count": 51,
   "id": "49db2dae",
   "metadata": {},
   "outputs": [
    {
     "data": {
      "text/html": [
       "<div>\n",
       "<style scoped>\n",
       "    .dataframe tbody tr th:only-of-type {\n",
       "        vertical-align: middle;\n",
       "    }\n",
       "\n",
       "    .dataframe tbody tr th {\n",
       "        vertical-align: top;\n",
       "    }\n",
       "\n",
       "    .dataframe thead th {\n",
       "        text-align: right;\n",
       "    }\n",
       "</style>\n",
       "<table border=\"1\" class=\"dataframe\">\n",
       "  <thead>\n",
       "    <tr style=\"text-align: right;\">\n",
       "      <th></th>\n",
       "      <th>group</th>\n",
       "      <th>has_photo</th>\n",
       "      <th>day_of_week</th>\n",
       "      <th>d-n</th>\n",
       "      <th>month</th>\n",
       "    </tr>\n",
       "  </thead>\n",
       "  <tbody>\n",
       "    <tr>\n",
       "      <th>5656</th>\n",
       "      <td>gsom_spbu</td>\n",
       "      <td>0</td>\n",
       "      <td>3</td>\n",
       "      <td>evening</td>\n",
       "      <td>5</td>\n",
       "    </tr>\n",
       "    <tr>\n",
       "      <th>5664</th>\n",
       "      <td>gsom_spbu</td>\n",
       "      <td>0</td>\n",
       "      <td>1</td>\n",
       "      <td>day</td>\n",
       "      <td>4</td>\n",
       "    </tr>\n",
       "    <tr>\n",
       "      <th>5677</th>\n",
       "      <td>gsom_spbu</td>\n",
       "      <td>0</td>\n",
       "      <td>0</td>\n",
       "      <td>evening</td>\n",
       "      <td>3</td>\n",
       "    </tr>\n",
       "  </tbody>\n",
       "</table>\n",
       "</div>"
      ],
      "text/plain": [
       "          group  has_photo  day_of_week      d-n  month\n",
       "5656  gsom_spbu          0            3  evening      5\n",
       "5664  gsom_spbu          0            1      day      4\n",
       "5677  gsom_spbu          0            0  evening      3"
      ]
     },
     "execution_count": 51,
     "metadata": {},
     "output_type": "execute_result"
    }
   ],
   "source": [
    "nominal_features = ['group', 'has_photo', 'day_of_week', 'd-n', 'month']\n",
    "df[nominal_features].tail(3)"
   ]
  },
  {
   "cell_type": "code",
   "execution_count": 52,
   "id": "9bcab5a1",
   "metadata": {},
   "outputs": [],
   "source": [
    "df = pd.get_dummies(data=df, columns=['group', 'day_of_week', 'd-n', 'month'])"
   ]
  },
  {
   "cell_type": "code",
   "execution_count": 53,
   "id": "eddc31fd",
   "metadata": {
    "scrolled": true
   },
   "outputs": [
    {
     "data": {
      "text/html": [
       "<div>\n",
       "<style scoped>\n",
       "    .dataframe tbody tr th:only-of-type {\n",
       "        vertical-align: middle;\n",
       "    }\n",
       "\n",
       "    .dataframe tbody tr th {\n",
       "        vertical-align: top;\n",
       "    }\n",
       "\n",
       "    .dataframe thead th {\n",
       "        text-align: right;\n",
       "    }\n",
       "</style>\n",
       "<table border=\"1\" class=\"dataframe\">\n",
       "  <thead>\n",
       "    <tr style=\"text-align: right;\">\n",
       "      <th></th>\n",
       "      <th>col_text_x</th>\n",
       "      <th>col_from_id</th>\n",
       "      <th>col_owner_id</th>\n",
       "      <th>col_views_count</th>\n",
       "      <th>col_reposts_count</th>\n",
       "      <th>col_likes_count</th>\n",
       "      <th>col_comments_count</th>\n",
       "      <th>col_date</th>\n",
       "      <th>has_video</th>\n",
       "      <th>has_photo</th>\n",
       "      <th>...</th>\n",
       "      <th>month_3</th>\n",
       "      <th>month_4</th>\n",
       "      <th>month_5</th>\n",
       "      <th>month_6</th>\n",
       "      <th>month_7</th>\n",
       "      <th>month_8</th>\n",
       "      <th>month_9</th>\n",
       "      <th>month_10</th>\n",
       "      <th>month_11</th>\n",
       "      <th>month_12</th>\n",
       "    </tr>\n",
       "  </thead>\n",
       "  <tbody>\n",
       "    <tr>\n",
       "      <th>1</th>\n",
       "      <td>⚡⚡ Будь активным! Это девиз выпускника ВШМ СПбГУ Хантера Кейвуда. Как он работает на практике, Х...</td>\n",
       "      <td>-20449089</td>\n",
       "      <td>-20449089</td>\n",
       "      <td>255.0</td>\n",
       "      <td>1.0</td>\n",
       "      <td>2</td>\n",
       "      <td>0</td>\n",
       "      <td>2023-05-18 19:23:00</td>\n",
       "      <td>0</td>\n",
       "      <td>0</td>\n",
       "      <td>...</td>\n",
       "      <td>0</td>\n",
       "      <td>0</td>\n",
       "      <td>1</td>\n",
       "      <td>0</td>\n",
       "      <td>0</td>\n",
       "      <td>0</td>\n",
       "      <td>0</td>\n",
       "      <td>0</td>\n",
       "      <td>0</td>\n",
       "      <td>0</td>\n",
       "    </tr>\n",
       "    <tr>\n",
       "      <th>2</th>\n",
       "      <td>ВШМ СПбГУ вошла в тройку лидеров среди российских вузов — участников предметных рейтингов Агентс...</td>\n",
       "      <td>-168</td>\n",
       "      <td>-168</td>\n",
       "      <td>425.0</td>\n",
       "      <td>3.0</td>\n",
       "      <td>5</td>\n",
       "      <td>0</td>\n",
       "      <td>2023-05-23 15:46:46</td>\n",
       "      <td>0</td>\n",
       "      <td>1</td>\n",
       "      <td>...</td>\n",
       "      <td>0</td>\n",
       "      <td>0</td>\n",
       "      <td>1</td>\n",
       "      <td>0</td>\n",
       "      <td>0</td>\n",
       "      <td>0</td>\n",
       "      <td>0</td>\n",
       "      <td>0</td>\n",
       "      <td>0</td>\n",
       "      <td>0</td>\n",
       "    </tr>\n",
       "  </tbody>\n",
       "</table>\n",
       "<p>2 rows × 41 columns</p>\n",
       "</div>"
      ],
      "text/plain": [
       "                                                                                            col_text_x  \\\n",
       "1  ⚡⚡ Будь активным! Это девиз выпускника ВШМ СПбГУ Хантера Кейвуда. Как он работает на практике, Х...   \n",
       "2  ВШМ СПбГУ вошла в тройку лидеров среди российских вузов — участников предметных рейтингов Агентс...   \n",
       "\n",
       "   col_from_id  col_owner_id  col_views_count  col_reposts_count  \\\n",
       "1    -20449089     -20449089            255.0                1.0   \n",
       "2         -168          -168            425.0                3.0   \n",
       "\n",
       "   col_likes_count  col_comments_count            col_date  has_video  \\\n",
       "1                2                   0 2023-05-18 19:23:00          0   \n",
       "2                5                   0 2023-05-23 15:46:46          0   \n",
       "\n",
       "   has_photo  ... month_3 month_4  month_5  month_6  month_7  month_8  \\\n",
       "1          0  ...       0       0        1        0        0        0   \n",
       "2          1  ...       0       0        1        0        0        0   \n",
       "\n",
       "   month_9  month_10  month_11  month_12  \n",
       "1        0         0         0         0  \n",
       "2        0         0         0         0  \n",
       "\n",
       "[2 rows x 41 columns]"
      ]
     },
     "execution_count": 53,
     "metadata": {},
     "output_type": "execute_result"
    }
   ],
   "source": [
    "df.head(2)"
   ]
  },
  {
   "cell_type": "markdown",
   "id": "57a32b6c",
   "metadata": {},
   "source": [
    "## 2. Text processing"
   ]
  },
  {
   "cell_type": "code",
   "execution_count": 54,
   "id": "a1ba3630",
   "metadata": {},
   "outputs": [],
   "source": [
    "LANG = 'russian'"
   ]
  },
  {
   "cell_type": "code",
   "execution_count": 55,
   "id": "4505351d",
   "metadata": {},
   "outputs": [
    {
     "name": "stderr",
     "output_type": "stream",
     "text": [
      "[nltk_data] Downloading package stopwords to /home/jovyan/nltk_data...\n",
      "[nltk_data]   Package stopwords is already up-to-date!\n"
     ]
    }
   ],
   "source": [
    "MORPH = pm.MorphAnalyzer()\n",
    "nltk.download('stopwords')\n",
    "STOPWORDS = nltk.corpus.stopwords.words(LANG)\n",
    "STOPWORDS = STOPWORDS + ['https', 'http', 'vk', 'cc', 'clck', 'ru', 'www', 'com', 'id', 'in','это','it','to','up','of','all', 'день',\n",
    "                        'and','the','наш','ваш','почему','очень','многое','ещё','весь', 'весь', 'свой', 'который', 'с', 'спбгу',\n",
    "                        'spbu', 'вшм', 'студент', 'gsom', 'ma', 'мочь', 'группа', 'год']\n"
   ]
  },
  {
   "cell_type": "code",
   "execution_count": 56,
   "id": "4e0c6051",
   "metadata": {},
   "outputs": [],
   "source": [
    "def preprocessing(sentence, as_list=False):\n",
    "    s = re.sub('[^а-яА-Яa-zA-Z]+', ' ', sentence).strip().lower()\n",
    "    s = re.sub('ё', 'е', s)\n",
    "    funсtion_words = {'INTJ', 'PRCL', 'CONJ', 'PREP'}\n",
    "    lemmatized_words = list(map(lambda word: MORPH.parse(word)[0], s.split()))\n",
    "    result = []\n",
    "    for word in lemmatized_words:\n",
    "        if word.tag.POS not in funсtion_words:\n",
    "            result.append(word.normal_form)\n",
    "    result = [w for w in result if w not in STOPWORDS]\n",
    "    if as_list:\n",
    "        return result\n",
    "    else:\n",
    "        return ' '.join(result)\n",
    "    \n",
    "def apply_parallel(texts, func, n_cores=2):\n",
    "    pool = Pool(n_cores)\n",
    "    split = np.array_split(texts, n_cores)\n",
    "    res = [item for sub in pool.map(func, split) for item in sub]\n",
    "    pool.close()\n",
    "    pool.join()\n",
    "    return res\n",
    "\n",
    "def preprocessing_list(sentences):\n",
    "    return [preprocessing(s) for s in sentences]"
   ]
  },
  {
   "cell_type": "code",
   "execution_count": 57,
   "id": "035aad06",
   "metadata": {},
   "outputs": [
    {
     "name": "stdout",
     "output_type": "stream",
     "text": [
      "CPU times: user 23.1 ms, sys: 35.4 ms, total: 58.5 ms\n",
      "Wall time: 18.2 s\n"
     ]
    }
   ],
   "source": [
    "%%time\n",
    "proc = apply_parallel(df.col_text_x, preprocessing_list, n_cores=N_CORES)"
   ]
  },
  {
   "cell_type": "code",
   "execution_count": 58,
   "id": "dff91f29",
   "metadata": {},
   "outputs": [
    {
     "name": "stdout",
     "output_type": "stream",
     "text": [
      "(3763, 42)\n"
     ]
    },
    {
     "data": {
      "text/html": [
       "<div>\n",
       "<style scoped>\n",
       "    .dataframe tbody tr th:only-of-type {\n",
       "        vertical-align: middle;\n",
       "    }\n",
       "\n",
       "    .dataframe tbody tr th {\n",
       "        vertical-align: top;\n",
       "    }\n",
       "\n",
       "    .dataframe thead th {\n",
       "        text-align: right;\n",
       "    }\n",
       "</style>\n",
       "<table border=\"1\" class=\"dataframe\">\n",
       "  <thead>\n",
       "    <tr style=\"text-align: right;\">\n",
       "      <th></th>\n",
       "      <th>col_text_x</th>\n",
       "      <th>col_from_id</th>\n",
       "      <th>col_owner_id</th>\n",
       "      <th>col_views_count</th>\n",
       "      <th>col_reposts_count</th>\n",
       "      <th>col_likes_count</th>\n",
       "      <th>col_comments_count</th>\n",
       "      <th>col_date</th>\n",
       "      <th>has_video</th>\n",
       "      <th>has_photo</th>\n",
       "      <th>...</th>\n",
       "      <th>month_4</th>\n",
       "      <th>month_5</th>\n",
       "      <th>month_6</th>\n",
       "      <th>month_7</th>\n",
       "      <th>month_8</th>\n",
       "      <th>month_9</th>\n",
       "      <th>month_10</th>\n",
       "      <th>month_11</th>\n",
       "      <th>month_12</th>\n",
       "      <th>proc</th>\n",
       "    </tr>\n",
       "  </thead>\n",
       "  <tbody>\n",
       "    <tr>\n",
       "      <th>1</th>\n",
       "      <td>⚡⚡ Будь активным! Это девиз выпускника ВШМ СПбГУ Хантера Кейвуда. Как он работает на практике, Х...</td>\n",
       "      <td>-20449089</td>\n",
       "      <td>-20449089</td>\n",
       "      <td>255.0</td>\n",
       "      <td>1.0</td>\n",
       "      <td>2</td>\n",
       "      <td>0</td>\n",
       "      <td>2023-05-18 19:23:00</td>\n",
       "      <td>0</td>\n",
       "      <td>0</td>\n",
       "      <td>...</td>\n",
       "      <td>0</td>\n",
       "      <td>1</td>\n",
       "      <td>0</td>\n",
       "      <td>0</td>\n",
       "      <td>0</td>\n",
       "      <td>0</td>\n",
       "      <td>0</td>\n",
       "      <td>0</td>\n",
       "      <td>0</td>\n",
       "      <td>активный девиз выпускник хантер кейвуд работать практика хантереть рассказывать новый выпуск под...</td>\n",
       "    </tr>\n",
       "  </tbody>\n",
       "</table>\n",
       "<p>1 rows × 42 columns</p>\n",
       "</div>"
      ],
      "text/plain": [
       "                                                                                            col_text_x  \\\n",
       "1  ⚡⚡ Будь активным! Это девиз выпускника ВШМ СПбГУ Хантера Кейвуда. Как он работает на практике, Х...   \n",
       "\n",
       "   col_from_id  col_owner_id  col_views_count  col_reposts_count  \\\n",
       "1    -20449089     -20449089            255.0                1.0   \n",
       "\n",
       "   col_likes_count  col_comments_count            col_date  has_video  \\\n",
       "1                2                   0 2023-05-18 19:23:00          0   \n",
       "\n",
       "   has_photo  ... month_4 month_5  month_6  month_7  month_8  month_9  \\\n",
       "1          0  ...       0       1        0        0        0        0   \n",
       "\n",
       "   month_10  month_11  month_12  \\\n",
       "1         0         0         0   \n",
       "\n",
       "                                                                                                  proc  \n",
       "1  активный девиз выпускник хантер кейвуд работать практика хантереть рассказывать новый выпуск под...  \n",
       "\n",
       "[1 rows x 42 columns]"
      ]
     },
     "execution_count": 58,
     "metadata": {},
     "output_type": "execute_result"
    }
   ],
   "source": [
    "df.loc[:, 'proc'] = proc\n",
    "print(df.shape)\n",
    "df.head(1)"
   ]
  },
  {
   "cell_type": "code",
   "execution_count": 59,
   "id": "81991cb4",
   "metadata": {},
   "outputs": [],
   "source": [
    "#df['proc'].loc[0]"
   ]
  },
  {
   "cell_type": "code",
   "execution_count": 60,
   "id": "6d1036e5",
   "metadata": {
    "scrolled": true
   },
   "outputs": [
    {
     "data": {
      "text/plain": [
       "[('программа', 2113),\n",
       " ('бизнес', 1562),\n",
       " ('школа', 1389),\n",
       " ('менеджмент', 1207),\n",
       " ('компания', 920),\n",
       " ('магистратура', 869),\n",
       " ('club', 858),\n",
       " ('проект', 782),\n",
       " ('вопрос', 747),\n",
       " ('новый', 726),\n",
       " ('выпускник', 719),\n",
       " ('пройти', 665),\n",
       " ('работа', 660),\n",
       " ('курс', 610),\n",
       " ('ссылка', 589),\n",
       " ('получить', 587),\n",
       " ('рассказать', 585),\n",
       " ('первый', 575),\n",
       " ('команда', 574),\n",
       " ('обучение', 572),\n",
       " ('участие', 570),\n",
       " ('мероприятие', 555),\n",
       " ('узнать', 551),\n",
       " ('регистрация', 548),\n",
       " ('высокий', 524),\n",
       " ('хороший', 519),\n",
       " ('развитие', 506),\n",
       " ('сайт', 500),\n",
       " ('возможность', 499),\n",
       " ('международный', 481),\n",
       " ('директор', 476),\n",
       " ('время', 475),\n",
       " ('онлайн', 471),\n",
       " ('россия', 461),\n",
       " ('поступление', 451),\n",
       " ('стать', 444),\n",
       " ('сегодня', 414),\n",
       " ('состояться', 406),\n",
       " ('управление', 403),\n",
       " ('преподаватель', 400),\n",
       " ('подробный', 381),\n",
       " ('кампус', 374),\n",
       " ('лекция', 373),\n",
       " ('университет', 370),\n",
       " ('участник', 369),\n",
       " ('бакалавриат', 366),\n",
       " ('презентация', 365),\n",
       " ('самый', 363),\n",
       " ('абитуриент', 363),\n",
       " ('открытый', 362),\n",
       " ('встреча', 351),\n",
       " ('конкурс', 347),\n",
       " ('менеджер', 345),\n",
       " ('интервью', 343),\n",
       " ('человек', 342),\n",
       " ('михайловский', 339),\n",
       " ('дача', 338),\n",
       " ('конференция', 334),\n",
       " ('документ', 334),\n",
       " ('опыт', 328),\n",
       " ('место', 328),\n",
       " ('мир', 325),\n",
       " ('санкт', 319),\n",
       " ('образование', 312),\n",
       " ('хотеть', 308),\n",
       " ('экзамен', 308),\n",
       " ('смочь', 308),\n",
       " ('ждать', 302),\n",
       " ('events', 299),\n",
       " ('читать', 298),\n",
       " ('карьера', 297),\n",
       " ('центр', 296),\n",
       " ('кейс', 296),\n",
       " ('принять', 294),\n",
       " ('хочуввшм', 291),\n",
       " ('российский', 290),\n",
       " ('информация', 290),\n",
       " ('март', 289),\n",
       " ('решение', 288),\n",
       " ('петербург', 286),\n",
       " ('большой', 280),\n",
       " ('каждый', 280),\n",
       " ('знание', 274),\n",
       " ('жизнь', 269),\n",
       " ('подробность', 269),\n",
       " ('помочь', 268),\n",
       " ('работать', 265),\n",
       " ('направление', 263),\n",
       " ('апрель', 262),\n",
       " ('management', 261),\n",
       " ('тема', 261),\n",
       " ('будущее', 257),\n",
       " ('представитель', 256),\n",
       " ('приём', 249),\n",
       " ('формат', 244),\n",
       " ('cems', 243),\n",
       " ('эксперт', 241),\n",
       " ('стажировка', 239),\n",
       " ('образовательный', 237),\n",
       " ('результат', 232)]"
      ]
     },
     "execution_count": 60,
     "metadata": {},
     "output_type": "execute_result"
    }
   ],
   "source": [
    "from collections import Counter\n",
    "Counter(\" \".join(df[\"proc\"]).split()).most_common(100)"
   ]
  },
  {
   "cell_type": "markdown",
   "id": "62336ebb",
   "metadata": {},
   "source": [
    "## 3. Modelling"
   ]
  },
  {
   "cell_type": "code",
   "execution_count": 61,
   "id": "7bfbc767",
   "metadata": {},
   "outputs": [],
   "source": [
    "MAX_DF = .5\n",
    "MIN_DF = 20"
   ]
  },
  {
   "cell_type": "code",
   "execution_count": 62,
   "id": "e6fbb682",
   "metadata": {},
   "outputs": [],
   "source": [
    "def text_features(data, vectorizer):\n",
    "    print('total texts:', len(data))\n",
    "    features = vectorizer.fit_transform(data)\n",
    "    print(\n",
    "        'features shape:', features.shape, \n",
    "        'max:', np.max(features), \n",
    "        'min:', np.min(features)\n",
    "    )\n",
    "    return features, vectorizer"
   ]
  },
  {
   "cell_type": "code",
   "execution_count": 63,
   "id": "5152db18",
   "metadata": {},
   "outputs": [
    {
     "name": "stdout",
     "output_type": "stream",
     "text": [
      "total texts: 3763\n",
      "features shape: (3763, 300) max: 1.0 min: 0.0\n",
      "CPU times: user 472 ms, sys: 33.9 ms, total: 506 ms\n",
      "Wall time: 505 ms\n"
     ]
    }
   ],
   "source": [
    "%%time\n",
    "vectorizer=TfidfVectorizer(\n",
    "    ngram_range=(1, 2), \n",
    "    max_df=MAX_DF, \n",
    "    min_df=MIN_DF,\n",
    "    max_features = 300\n",
    ")\n",
    "features, vectorizer = text_features(\n",
    "    df['proc'], \n",
    "    vectorizer=vectorizer\n",
    ")"
   ]
  },
  {
   "cell_type": "code",
   "execution_count": 64,
   "id": "496e038b",
   "metadata": {
    "scrolled": true
   },
   "outputs": [
    {
     "name": "stdout",
     "output_type": "stream",
     "text": [
      "[[0.         0.         0.         ... 0.         0.23823092 0.        ]\n",
      " [0.         0.         0.         ... 0.         0.         0.        ]\n",
      " [0.         0.         0.         ... 0.         0.         0.        ]\n",
      " ...\n",
      " [0.         0.         0.         ... 0.         0.         0.        ]\n",
      " [0.         0.         0.         ... 0.         0.         0.        ]\n",
      " [0.         0.         0.         ... 0.         0.         0.        ]]\n"
     ]
    }
   ],
   "source": [
    "print(features.todense())"
   ]
  },
  {
   "cell_type": "code",
   "execution_count": 65,
   "id": "6076f410",
   "metadata": {},
   "outputs": [
    {
     "data": {
      "text/plain": [
       "(2744, 42)"
      ]
     },
     "execution_count": 65,
     "metadata": {},
     "output_type": "execute_result"
    }
   ],
   "source": [
    "train_df = df[df.col_date <= '2021-04-01']\n",
    "train_df.shape"
   ]
  },
  {
   "cell_type": "code",
   "execution_count": 66,
   "id": "2d206f4a",
   "metadata": {},
   "outputs": [
    {
     "data": {
      "text/plain": [
       "(401, 42)"
      ]
     },
     "execution_count": 66,
     "metadata": {},
     "output_type": "execute_result"
    }
   ],
   "source": [
    "valid_df = df[(df.col_date < '2022-04-01')&(df.col_date > '2021-04-01')]\n",
    "valid_df.shape"
   ]
  },
  {
   "cell_type": "code",
   "execution_count": 67,
   "id": "7ec0b5ec",
   "metadata": {},
   "outputs": [
    {
     "data": {
      "text/plain": [
       "502    2022-04-01 15:20:28\n",
       "1004   2022-04-01 16:28:49\n",
       "408    2022-04-01 17:35:00\n",
       "499    2022-04-04 15:22:00\n",
       "405    2022-04-05 08:41:00\n",
       "               ...        \n",
       "11     2023-05-18 13:45:10\n",
       "1      2023-05-18 19:23:00\n",
       "8      2023-05-19 14:40:37\n",
       "5      2023-05-22 20:36:49\n",
       "2      2023-05-23 15:46:46\n",
       "Name: col_date, Length: 618, dtype: datetime64[ns]"
      ]
     },
     "execution_count": 67,
     "metadata": {},
     "output_type": "execute_result"
    }
   ],
   "source": [
    "test_df =  df[df.col_date >= '2022-04-01']\n",
    "test_df.col_date.sort_values(ascending=True)"
   ]
  },
  {
   "cell_type": "code",
   "execution_count": 68,
   "id": "c0b46ade",
   "metadata": {},
   "outputs": [
    {
     "data": {
      "text/plain": [
       "(618, 42)"
      ]
     },
     "execution_count": 68,
     "metadata": {},
     "output_type": "execute_result"
    }
   ],
   "source": [
    "test_df.shape"
   ]
  },
  {
   "cell_type": "code",
   "execution_count": 69,
   "id": "4534462b",
   "metadata": {},
   "outputs": [],
   "source": [
    "X_train = train_df['proc']\n",
    "X_valid = valid_df['proc']\n",
    "X_test = test_df['proc']"
   ]
  },
  {
   "cell_type": "markdown",
   "id": "3187b441",
   "metadata": {},
   "source": [
    "### Implementing Imbalanced-Learn"
   ]
  },
  {
   "cell_type": "code",
   "execution_count": 70,
   "id": "46d7224b",
   "metadata": {},
   "outputs": [],
   "source": [
    "#train_df.columns"
   ]
  },
  {
   "cell_type": "code",
   "execution_count": 71,
   "id": "4f8d1b19",
   "metadata": {},
   "outputs": [
    {
     "name": "stdout",
     "output_type": "stream",
     "text": [
      "total texts: 2744\n",
      "features shape: (2744, 300) max: 1.0 min: 0.0\n"
     ]
    }
   ],
   "source": [
    "X_train, vectorizer = text_features(\n",
    "    X_train, \n",
    "    vectorizer=vectorizer\n",
    ")\n",
    "X_test = vectorizer.transform(X_test)\n",
    "X_valid = vectorizer.transform(X_valid)"
   ]
  },
  {
   "cell_type": "code",
   "execution_count": 72,
   "id": "d3e3cebf",
   "metadata": {},
   "outputs": [],
   "source": [
    "y_train = train_df['like_presense']\n",
    "y_valid = valid_df['like_presense']\n",
    "y_test = test_df['like_presense']"
   ]
  },
  {
   "cell_type": "code",
   "execution_count": 73,
   "id": "85bd3f9b",
   "metadata": {},
   "outputs": [
    {
     "data": {
      "text/plain": [
       "1    317\n",
       "0     84\n",
       "Name: like_presense, dtype: int64"
      ]
     },
     "execution_count": 73,
     "metadata": {},
     "output_type": "execute_result"
    }
   ],
   "source": [
    "y_valid.value_counts()"
   ]
  },
  {
   "cell_type": "code",
   "execution_count": 74,
   "id": "af4e81c9-6010-4589-928a-06117679aa8b",
   "metadata": {},
   "outputs": [
    {
     "data": {
      "text/plain": [
       "1    538\n",
       "0     80\n",
       "Name: like_presense, dtype: int64"
      ]
     },
     "execution_count": 74,
     "metadata": {},
     "output_type": "execute_result"
    }
   ],
   "source": [
    "y_test.value_counts()"
   ]
  },
  {
   "cell_type": "code",
   "execution_count": 75,
   "id": "7f6d860f",
   "metadata": {},
   "outputs": [
    {
     "data": {
      "text/plain": [
       "False"
      ]
     },
     "execution_count": 75,
     "metadata": {},
     "output_type": "execute_result"
    }
   ],
   "source": [
    "np.isnan(X_train.data).any()"
   ]
  },
  {
   "cell_type": "code",
   "execution_count": 76,
   "id": "32e04d96",
   "metadata": {},
   "outputs": [
    {
     "data": {
      "text/plain": [
       "False"
      ]
     },
     "execution_count": 76,
     "metadata": {},
     "output_type": "execute_result"
    }
   ],
   "source": [
    "np.isnan(X_test.data).any()"
   ]
  },
  {
   "cell_type": "code",
   "execution_count": 77,
   "id": "579aed5e",
   "metadata": {},
   "outputs": [
    {
     "data": {
      "text/plain": [
       "False"
      ]
     },
     "execution_count": 77,
     "metadata": {},
     "output_type": "execute_result"
    }
   ],
   "source": [
    "np.isnan(y_train).any()"
   ]
  },
  {
   "cell_type": "code",
   "execution_count": 78,
   "id": "c9f43870",
   "metadata": {},
   "outputs": [
    {
     "data": {
      "text/plain": [
       "False"
      ]
     },
     "execution_count": 78,
     "metadata": {},
     "output_type": "execute_result"
    }
   ],
   "source": [
    "np.isnan(y_test).any()"
   ]
  },
  {
   "cell_type": "code",
   "execution_count": 79,
   "id": "1fd75065",
   "metadata": {},
   "outputs": [
    {
     "data": {
      "text/plain": [
       "1    1900\n",
       "0     844\n",
       "Name: like_presense, dtype: int64"
      ]
     },
     "execution_count": 79,
     "metadata": {},
     "output_type": "execute_result"
    }
   ],
   "source": [
    "y_train.value_counts()"
   ]
  },
  {
   "cell_type": "code",
   "execution_count": 80,
   "id": "24b9ee38",
   "metadata": {},
   "outputs": [],
   "source": [
    "ROS = RandomOverSampler(random_state=42,sampling_strategy=.5)"
   ]
  },
  {
   "cell_type": "code",
   "execution_count": 81,
   "id": "11c0302a",
   "metadata": {},
   "outputs": [],
   "source": [
    "#X_train_ros, y_train_ros = ROS.fit_resample(X_train, y_train)\n",
    "#y_train_ros.value_counts()"
   ]
  },
  {
   "cell_type": "code",
   "execution_count": 82,
   "id": "c8048b90",
   "metadata": {},
   "outputs": [],
   "source": [
    "X_train_ros = X_train\n",
    "y_train_ros = y_train"
   ]
  },
  {
   "cell_type": "code",
   "execution_count": 83,
   "id": "4860409a",
   "metadata": {},
   "outputs": [
    {
     "data": {
      "text/html": [
       "<style>#sk-container-id-1 {color: black;background-color: white;}#sk-container-id-1 pre{padding: 0;}#sk-container-id-1 div.sk-toggleable {background-color: white;}#sk-container-id-1 label.sk-toggleable__label {cursor: pointer;display: block;width: 100%;margin-bottom: 0;padding: 0.3em;box-sizing: border-box;text-align: center;}#sk-container-id-1 label.sk-toggleable__label-arrow:before {content: \"▸\";float: left;margin-right: 0.25em;color: #696969;}#sk-container-id-1 label.sk-toggleable__label-arrow:hover:before {color: black;}#sk-container-id-1 div.sk-estimator:hover label.sk-toggleable__label-arrow:before {color: black;}#sk-container-id-1 div.sk-toggleable__content {max-height: 0;max-width: 0;overflow: hidden;text-align: left;background-color: #f0f8ff;}#sk-container-id-1 div.sk-toggleable__content pre {margin: 0.2em;color: black;border-radius: 0.25em;background-color: #f0f8ff;}#sk-container-id-1 input.sk-toggleable__control:checked~div.sk-toggleable__content {max-height: 200px;max-width: 100%;overflow: auto;}#sk-container-id-1 input.sk-toggleable__control:checked~label.sk-toggleable__label-arrow:before {content: \"▾\";}#sk-container-id-1 div.sk-estimator input.sk-toggleable__control:checked~label.sk-toggleable__label {background-color: #d4ebff;}#sk-container-id-1 div.sk-label input.sk-toggleable__control:checked~label.sk-toggleable__label {background-color: #d4ebff;}#sk-container-id-1 input.sk-hidden--visually {border: 0;clip: rect(1px 1px 1px 1px);clip: rect(1px, 1px, 1px, 1px);height: 1px;margin: -1px;overflow: hidden;padding: 0;position: absolute;width: 1px;}#sk-container-id-1 div.sk-estimator {font-family: monospace;background-color: #f0f8ff;border: 1px dotted black;border-radius: 0.25em;box-sizing: border-box;margin-bottom: 0.5em;}#sk-container-id-1 div.sk-estimator:hover {background-color: #d4ebff;}#sk-container-id-1 div.sk-parallel-item::after {content: \"\";width: 100%;border-bottom: 1px solid gray;flex-grow: 1;}#sk-container-id-1 div.sk-label:hover label.sk-toggleable__label {background-color: #d4ebff;}#sk-container-id-1 div.sk-serial::before {content: \"\";position: absolute;border-left: 1px solid gray;box-sizing: border-box;top: 0;bottom: 0;left: 50%;z-index: 0;}#sk-container-id-1 div.sk-serial {display: flex;flex-direction: column;align-items: center;background-color: white;padding-right: 0.2em;padding-left: 0.2em;position: relative;}#sk-container-id-1 div.sk-item {position: relative;z-index: 1;}#sk-container-id-1 div.sk-parallel {display: flex;align-items: stretch;justify-content: center;background-color: white;position: relative;}#sk-container-id-1 div.sk-item::before, #sk-container-id-1 div.sk-parallel-item::before {content: \"\";position: absolute;border-left: 1px solid gray;box-sizing: border-box;top: 0;bottom: 0;left: 50%;z-index: -1;}#sk-container-id-1 div.sk-parallel-item {display: flex;flex-direction: column;z-index: 1;position: relative;background-color: white;}#sk-container-id-1 div.sk-parallel-item:first-child::after {align-self: flex-end;width: 50%;}#sk-container-id-1 div.sk-parallel-item:last-child::after {align-self: flex-start;width: 50%;}#sk-container-id-1 div.sk-parallel-item:only-child::after {width: 0;}#sk-container-id-1 div.sk-dashed-wrapped {border: 1px dashed gray;margin: 0 0.4em 0.5em 0.4em;box-sizing: border-box;padding-bottom: 0.4em;background-color: white;}#sk-container-id-1 div.sk-label label {font-family: monospace;font-weight: bold;display: inline-block;line-height: 1.2em;}#sk-container-id-1 div.sk-label-container {text-align: center;}#sk-container-id-1 div.sk-container {/* jupyter's `normalize.less` sets `[hidden] { display: none; }` but bootstrap.min.css set `[hidden] { display: none !important; }` so we also need the `!important` here to be able to override the default hidden behavior on the sphinx rendered scikit-learn.org. See: https://github.com/scikit-learn/scikit-learn/issues/21755 */display: inline-block !important;position: relative;}#sk-container-id-1 div.sk-text-repr-fallback {display: none;}</style><div id=\"sk-container-id-1\" class=\"sk-top-container\"><div class=\"sk-text-repr-fallback\"><pre>LogisticRegression(n_jobs=-1, random_state=42)</pre><b>In a Jupyter environment, please rerun this cell to show the HTML representation or trust the notebook. <br />On GitHub, the HTML representation is unable to render, please try loading this page with nbviewer.org.</b></div><div class=\"sk-container\" hidden><div class=\"sk-item\"><div class=\"sk-estimator sk-toggleable\"><input class=\"sk-toggleable__control sk-hidden--visually\" id=\"sk-estimator-id-1\" type=\"checkbox\" checked><label for=\"sk-estimator-id-1\" class=\"sk-toggleable__label sk-toggleable__label-arrow\">LogisticRegression</label><div class=\"sk-toggleable__content\"><pre>LogisticRegression(n_jobs=-1, random_state=42)</pre></div></div></div></div></div>"
      ],
      "text/plain": [
       "LogisticRegression(n_jobs=-1, random_state=42)"
      ]
     },
     "execution_count": 83,
     "metadata": {},
     "output_type": "execute_result"
    }
   ],
   "source": [
    "reg = LogisticRegression(penalty='l2', max_iter=100, random_state=42, n_jobs=-1)\n",
    "reg.fit(X_train_ros, y_train_ros)"
   ]
  },
  {
   "cell_type": "code",
   "execution_count": 84,
   "id": "5f2071a4",
   "metadata": {},
   "outputs": [
    {
     "data": {
      "text/plain": [
       "0.7882653061224489"
      ]
     },
     "execution_count": 84,
     "metadata": {},
     "output_type": "execute_result"
    }
   ],
   "source": [
    "reg.score(X_train_ros, y_train_ros)"
   ]
  },
  {
   "cell_type": "code",
   "execution_count": 85,
   "id": "0defbbf0",
   "metadata": {},
   "outputs": [],
   "source": [
    "y_pred_train = reg.predict(X_train_ros)\n",
    "y_pred = reg.predict(X_test)"
   ]
  },
  {
   "cell_type": "code",
   "execution_count": 86,
   "id": "c09f6ef0",
   "metadata": {},
   "outputs": [],
   "source": [
    "y_pred_valid = reg.predict(X_valid)"
   ]
  },
  {
   "cell_type": "code",
   "execution_count": 87,
   "id": "0c17dfc3",
   "metadata": {},
   "outputs": [
    {
     "name": "stdout",
     "output_type": "stream",
     "text": [
      "[0.94127905 0.80132039 0.87644802 0.87644802 0.97633355]\n"
     ]
    }
   ],
   "source": [
    "# Predict probabilities on test set\n",
    "p_test = reg.predict_proba(X_test) \n",
    "\n",
    "# Look at the first 5 probabilities\n",
    "print(p_test[:5, 1])"
   ]
  },
  {
   "cell_type": "code",
   "execution_count": 88,
   "id": "c5ee0cf4",
   "metadata": {},
   "outputs": [
    {
     "name": "stdout",
     "output_type": "stream",
     "text": [
      "MAE: 0.1537\n"
     ]
    }
   ],
   "source": [
    "print(\"MAE:\", round(mean_absolute_error(y_test, y_pred), 4))"
   ]
  },
  {
   "cell_type": "code",
   "execution_count": 89,
   "id": "a51038e8",
   "metadata": {},
   "outputs": [
    {
     "name": "stdout",
     "output_type": "stream",
     "text": [
      "ROC AUC: 0.5507\n"
     ]
    }
   ],
   "source": [
    "print(\"ROC AUC:\", round(roc_auc_score(y_test, p_test[:, 1]), 4))"
   ]
  },
  {
   "cell_type": "code",
   "execution_count": 90,
   "id": "c1a3060f",
   "metadata": {},
   "outputs": [
    {
     "data": {
      "text/plain": [
       "<sklearn.metrics._plot.roc_curve.RocCurveDisplay at 0x7f927adc2400>"
      ]
     },
     "execution_count": 90,
     "metadata": {},
     "output_type": "execute_result"
    },
    {
     "data": {
      "image/png": "[encoded data removed]",
      "text/plain": [
       "<Figure size 360x360 with 1 Axes>"
      ]
     },
     "metadata": {
      "needs_background": "light"
     },
     "output_type": "display_data"
    }
   ],
   "source": [
    "fig, ax = plt.subplots(figsize=(5, 5))\n",
    "\n",
    "RocCurveDisplay.from_estimator(reg, X_train_ros, y_train_ros, ax=ax)\n",
    "RocCurveDisplay.from_estimator(reg, X_test, y_test, ax=ax)\n",
    "RocCurveDisplay.from_estimator(reg, X_valid, y_valid, ax=ax)"
   ]
  },
  {
   "cell_type": "code",
   "execution_count": 91,
   "id": "55c118f1",
   "metadata": {},
   "outputs": [
    {
     "data": {
      "image/png": "[encoded data removed]",
      "text/plain": [
       "<Figure size 432x288 with 2 Axes>"
      ]
     },
     "metadata": {
      "needs_background": "light"
     },
     "output_type": "display_data"
    }
   ],
   "source": [
    "cm = confusion_matrix(y_true=y_test, y_pred=p_test[:, 1]> 0.5) \n",
    "cm_display = ConfusionMatrixDisplay(cm).plot()"
   ]
  },
  {
   "cell_type": "code",
   "execution_count": 92,
   "id": "62427663",
   "metadata": {},
   "outputs": [],
   "source": [
    "# Calculating the metrics\n",
    "def calculating_the_metrics(y, y_p):\n",
    "    accuracy = accuracy_score(y_true=y, y_pred=y_p)\n",
    "    precision = precision_score(y_true=y, y_pred=y_p)\n",
    "    recall = recall_score(y_true=y, y_pred=y_p)\n",
    "    f1 = f1_score(y_true=y, y_pred=y_p)\n",
    "    return (accuracy, precision, recall, f1)"
   ]
  },
  {
   "cell_type": "code",
   "execution_count": 93,
   "id": "ac939ccf",
   "metadata": {},
   "outputs": [],
   "source": [
    "def print_the_metrics(df_type, accuracy, precision, recall, f1):\n",
    "        print(str(df_type) + ' accuracy score: %.2f' % accuracy)\n",
    "        print(str(df_type) + ' precision score: %.2f' % precision)\n",
    "        print(str(df_type) + ' recall score: %.2f' % recall)\n",
    "        print(str(df_type) + ' f1 score: %.2f' % f1)"
   ]
  },
  {
   "cell_type": "code",
   "execution_count": 94,
   "id": "3c70a28f",
   "metadata": {},
   "outputs": [
    {
     "data": {
      "text/plain": [
       "2744"
      ]
     },
     "execution_count": 94,
     "metadata": {},
     "output_type": "execute_result"
    }
   ],
   "source": [
    "len(y_pred_train)"
   ]
  },
  {
   "cell_type": "code",
   "execution_count": 95,
   "id": "30fb5dac",
   "metadata": {},
   "outputs": [
    {
     "name": "stdout",
     "output_type": "stream",
     "text": [
      "Train accuracy score: 0.79\n",
      "Train precision score: 0.79\n",
      "Train recall score: 0.95\n",
      "Train f1 score: 0.86\n"
     ]
    }
   ],
   "source": [
    "accuracy, precision, recall, f1 = calculating_the_metrics(y_train_ros, y_pred_train)\n",
    "print_the_metrics('Train', accuracy, precision, recall, f1)"
   ]
  },
  {
   "cell_type": "code",
   "execution_count": 96,
   "id": "a1711ed7",
   "metadata": {},
   "outputs": [
    {
     "name": "stdout",
     "output_type": "stream",
     "text": [
      "Valid accuracy score: 0.79\n",
      "Valid precision score: 0.80\n",
      "Valid recall score: 0.97\n",
      "Valid f1 score: 0.88\n"
     ]
    }
   ],
   "source": [
    "accuracy, precision, recall, f1 = calculating_the_metrics(y_valid, y_pred_valid)\n",
    "print_the_metrics('Valid', accuracy, precision, recall, f1)"
   ]
  },
  {
   "cell_type": "code",
   "execution_count": 97,
   "id": "a2f5ec20",
   "metadata": {},
   "outputs": [
    {
     "name": "stdout",
     "output_type": "stream",
     "text": [
      "Test  accuracy score: 0.85\n",
      "Test  precision score: 0.87\n",
      "Test  recall score: 0.96\n",
      "Test  f1 score: 0.92\n"
     ]
    }
   ],
   "source": [
    "accuracy, precision, recall, f1 = calculating_the_metrics(y_test, y_pred)\n",
    "print_the_metrics('Test ', accuracy, precision, recall, f1)"
   ]
  },
  {
   "cell_type": "code",
   "execution_count": 98,
   "id": "f38a667a",
   "metadata": {},
   "outputs": [],
   "source": [
    "#plt.figure(figsize=(10, 10))\n",
    "#plt.scatter(y_test, y_pred)\n",
    "#plt.show()"
   ]
  },
  {
   "cell_type": "markdown",
   "id": "9b9299a6",
   "metadata": {},
   "source": [
    "## RandomForest with Grid Search"
   ]
  },
  {
   "cell_type": "code",
   "execution_count": 99,
   "id": "3872df94",
   "metadata": {},
   "outputs": [],
   "source": [
    "from sklearn.ensemble import RandomForestClassifier\n",
    "from sklearn.model_selection import GridSearchCV"
   ]
  },
  {
   "cell_type": "code",
   "execution_count": 100,
   "id": "af225ae1",
   "metadata": {},
   "outputs": [],
   "source": [
    "from sklearn.model_selection import TimeSeriesSplit\n",
    "tscv = TimeSeriesSplit(n_splits=5)"
   ]
  },
  {
   "cell_type": "code",
   "execution_count": 101,
   "id": "23aeddd0",
   "metadata": {},
   "outputs": [],
   "source": [
    "forest_classif = RandomForestClassifier(random_state=42)"
   ]
  },
  {
   "cell_type": "code",
   "execution_count": 102,
   "id": "da2bb80c",
   "metadata": {},
   "outputs": [
    {
     "name": "stdout",
     "output_type": "stream",
     "text": [
      "The best hyperparameters are  {'max_depth': 10, 'n_estimators': 50}\n"
     ]
    }
   ],
   "source": [
    "param_grid_forest = dict(\n",
    "    n_estimators=[50, 100, 200],\n",
    "    max_depth=[3, 5, 7,10]\n",
    "    )\n",
    "\n",
    "grid_search_forest = GridSearchCV(estimator=forest_classif, param_grid=param_grid_forest, \n",
    "                                  cv=tscv, n_jobs = -1).fit(X_train_ros, y_train_ros)\n",
    "\n",
    "print(\"The best hyperparameters are \",grid_search_forest.best_params_)"
   ]
  },
  {
   "cell_type": "code",
   "execution_count": 103,
   "id": "5576db11",
   "metadata": {},
   "outputs": [
    {
     "data": {
      "text/html": [
       "<style>#sk-container-id-2 {color: black;background-color: white;}#sk-container-id-2 pre{padding: 0;}#sk-container-id-2 div.sk-toggleable {background-color: white;}#sk-container-id-2 label.sk-toggleable__label {cursor: pointer;display: block;width: 100%;margin-bottom: 0;padding: 0.3em;box-sizing: border-box;text-align: center;}#sk-container-id-2 label.sk-toggleable__label-arrow:before {content: \"▸\";float: left;margin-right: 0.25em;color: #696969;}#sk-container-id-2 label.sk-toggleable__label-arrow:hover:before {color: black;}#sk-container-id-2 div.sk-estimator:hover label.sk-toggleable__label-arrow:before {color: black;}#sk-container-id-2 div.sk-toggleable__content {max-height: 0;max-width: 0;overflow: hidden;text-align: left;background-color: #f0f8ff;}#sk-container-id-2 div.sk-toggleable__content pre {margin: 0.2em;color: black;border-radius: 0.25em;background-color: #f0f8ff;}#sk-container-id-2 input.sk-toggleable__control:checked~div.sk-toggleable__content {max-height: 200px;max-width: 100%;overflow: auto;}#sk-container-id-2 input.sk-toggleable__control:checked~label.sk-toggleable__label-arrow:before {content: \"▾\";}#sk-container-id-2 div.sk-estimator input.sk-toggleable__control:checked~label.sk-toggleable__label {background-color: #d4ebff;}#sk-container-id-2 div.sk-label input.sk-toggleable__control:checked~label.sk-toggleable__label {background-color: #d4ebff;}#sk-container-id-2 input.sk-hidden--visually {border: 0;clip: rect(1px 1px 1px 1px);clip: rect(1px, 1px, 1px, 1px);height: 1px;margin: -1px;overflow: hidden;padding: 0;position: absolute;width: 1px;}#sk-container-id-2 div.sk-estimator {font-family: monospace;background-color: #f0f8ff;border: 1px dotted black;border-radius: 0.25em;box-sizing: border-box;margin-bottom: 0.5em;}#sk-container-id-2 div.sk-estimator:hover {background-color: #d4ebff;}#sk-container-id-2 div.sk-parallel-item::after {content: \"\";width: 100%;border-bottom: 1px solid gray;flex-grow: 1;}#sk-container-id-2 div.sk-label:hover label.sk-toggleable__label {background-color: #d4ebff;}#sk-container-id-2 div.sk-serial::before {content: \"\";position: absolute;border-left: 1px solid gray;box-sizing: border-box;top: 0;bottom: 0;left: 50%;z-index: 0;}#sk-container-id-2 div.sk-serial {display: flex;flex-direction: column;align-items: center;background-color: white;padding-right: 0.2em;padding-left: 0.2em;position: relative;}#sk-container-id-2 div.sk-item {position: relative;z-index: 1;}#sk-container-id-2 div.sk-parallel {display: flex;align-items: stretch;justify-content: center;background-color: white;position: relative;}#sk-container-id-2 div.sk-item::before, #sk-container-id-2 div.sk-parallel-item::before {content: \"\";position: absolute;border-left: 1px solid gray;box-sizing: border-box;top: 0;bottom: 0;left: 50%;z-index: -1;}#sk-container-id-2 div.sk-parallel-item {display: flex;flex-direction: column;z-index: 1;position: relative;background-color: white;}#sk-container-id-2 div.sk-parallel-item:first-child::after {align-self: flex-end;width: 50%;}#sk-container-id-2 div.sk-parallel-item:last-child::after {align-self: flex-start;width: 50%;}#sk-container-id-2 div.sk-parallel-item:only-child::after {width: 0;}#sk-container-id-2 div.sk-dashed-wrapped {border: 1px dashed gray;margin: 0 0.4em 0.5em 0.4em;box-sizing: border-box;padding-bottom: 0.4em;background-color: white;}#sk-container-id-2 div.sk-label label {font-family: monospace;font-weight: bold;display: inline-block;line-height: 1.2em;}#sk-container-id-2 div.sk-label-container {text-align: center;}#sk-container-id-2 div.sk-container {/* jupyter's `normalize.less` sets `[hidden] { display: none; }` but bootstrap.min.css set `[hidden] { display: none !important; }` so we also need the `!important` here to be able to override the default hidden behavior on the sphinx rendered scikit-learn.org. See: https://github.com/scikit-learn/scikit-learn/issues/21755 */display: inline-block !important;position: relative;}#sk-container-id-2 div.sk-text-repr-fallback {display: none;}</style><div id=\"sk-container-id-2\" class=\"sk-top-container\"><div class=\"sk-text-repr-fallback\"><pre>RandomForestClassifier(max_depth=10, n_estimators=50, random_state=42)</pre><b>In a Jupyter environment, please rerun this cell to show the HTML representation or trust the notebook. <br />On GitHub, the HTML representation is unable to render, please try loading this page with nbviewer.org.</b></div><div class=\"sk-container\" hidden><div class=\"sk-item\"><div class=\"sk-estimator sk-toggleable\"><input class=\"sk-toggleable__control sk-hidden--visually\" id=\"sk-estimator-id-2\" type=\"checkbox\" checked><label for=\"sk-estimator-id-2\" class=\"sk-toggleable__label sk-toggleable__label-arrow\">RandomForestClassifier</label><div class=\"sk-toggleable__content\"><pre>RandomForestClassifier(max_depth=10, n_estimators=50, random_state=42)</pre></div></div></div></div></div>"
      ],
      "text/plain": [
       "RandomForestClassifier(max_depth=10, n_estimators=50, random_state=42)"
      ]
     },
     "execution_count": 103,
     "metadata": {},
     "output_type": "execute_result"
    }
   ],
   "source": [
    "forest_classif = RandomForestClassifier(n_estimators  = grid_search_forest.best_params_[\"n_estimators\"],\n",
    "                               max_depth = grid_search_forest.best_params_[\"max_depth\"],\n",
    "                              random_state=42)\n",
    "forest_classif.fit(X_train_ros, y_train_ros)"
   ]
  },
  {
   "cell_type": "code",
   "execution_count": 104,
   "id": "2a7e63c9",
   "metadata": {},
   "outputs": [],
   "source": [
    "y_pred_rf_train = forest_classif.predict(X_train_ros)\n",
    "y_pred_rf_valid = forest_classif.predict(X_valid)\n",
    "y_pred_rf_test = forest_classif.predict(X_test)"
   ]
  },
  {
   "cell_type": "code",
   "execution_count": 105,
   "id": "a5338b93",
   "metadata": {},
   "outputs": [
    {
     "name": "stdout",
     "output_type": "stream",
     "text": [
      "[0.80995285 0.70472556 0.73203542 0.73203542 0.84198036]\n"
     ]
    }
   ],
   "source": [
    "# Predict probabilities on test set\n",
    "p_test = forest_classif.predict_proba(X_test) \n",
    "\n",
    "# Look at the first 5 probabilities\n",
    "print(p_test[:5, 1])"
   ]
  },
  {
   "cell_type": "code",
   "execution_count": 106,
   "id": "0f8a4280",
   "metadata": {},
   "outputs": [
    {
     "name": "stdout",
     "output_type": "stream",
     "text": [
      "ROC AUC: 0.5827\n"
     ]
    }
   ],
   "source": [
    "print(\"ROC AUC:\", round(roc_auc_score(y_test, p_test[:, 1]), 4))"
   ]
  },
  {
   "cell_type": "code",
   "execution_count": 107,
   "id": "9701cc3e",
   "metadata": {},
   "outputs": [
    {
     "data": {
      "text/plain": [
       "<sklearn.metrics._plot.roc_curve.RocCurveDisplay at 0x7f927a0633a0>"
      ]
     },
     "execution_count": 107,
     "metadata": {},
     "output_type": "execute_result"
    },
    {
     "data": {
      "image/png": "[encoded data removed]",
      "text/plain": [
       "<Figure size 360x360 with 1 Axes>"
      ]
     },
     "metadata": {
      "needs_background": "light"
     },
     "output_type": "display_data"
    }
   ],
   "source": [
    "fig, ax = plt.subplots(figsize=(5, 5))\n",
    "\n",
    "RocCurveDisplay.from_estimator(forest_classif, X_train_ros, y_train_ros, ax=ax)\n",
    "RocCurveDisplay.from_estimator(forest_classif, X_test, y_test, ax=ax)\n",
    "RocCurveDisplay.from_estimator(forest_classif, X_valid, y_valid, ax=ax)"
   ]
  },
  {
   "cell_type": "code",
   "execution_count": 108,
   "id": "b3568252",
   "metadata": {},
   "outputs": [
    {
     "name": "stdout",
     "output_type": "stream",
     "text": [
      "Train  accuracy score: 0.76\n",
      "Train  precision score: 0.74\n",
      "Train  recall score: 1.00\n",
      "Train  f1 score: 0.85\n"
     ]
    }
   ],
   "source": [
    "accuracy, precision, recall, f1 = calculating_the_metrics(y_train_ros, y_pred_rf_train)\n",
    "print_the_metrics('Train ', accuracy, precision, recall, f1)"
   ]
  },
  {
   "cell_type": "code",
   "execution_count": 109,
   "id": "228061d7",
   "metadata": {},
   "outputs": [
    {
     "name": "stdout",
     "output_type": "stream",
     "text": [
      "Valid accuracy score: 0.79\n",
      "Valid precision score: 0.79\n",
      "Valid recall score: 0.99\n",
      "Valid f1 score: 0.88\n"
     ]
    }
   ],
   "source": [
    "accuracy, precision, recall, f1 = calculating_the_metrics(y_valid, y_pred_rf_valid)\n",
    "print_the_metrics('Valid', accuracy, precision, recall, f1)"
   ]
  },
  {
   "cell_type": "code",
   "execution_count": 110,
   "id": "fb10b198",
   "metadata": {},
   "outputs": [
    {
     "name": "stdout",
     "output_type": "stream",
     "text": [
      "Test  accuracy score: 0.87\n",
      "Test  precision score: 0.87\n",
      "Test  recall score: 0.99\n",
      "Test  f1 score: 0.93\n"
     ]
    }
   ],
   "source": [
    "accuracy, precision, recall, f1 = calculating_the_metrics(y_test, y_pred_rf_test)\n",
    "print_the_metrics('Test ', accuracy, precision, recall, f1)"
   ]
  },
  {
   "cell_type": "markdown",
   "id": "b0963ca8",
   "metadata": {},
   "source": []
  },
  {
   "cell_type": "markdown",
   "id": "bba4ec45",
   "metadata": {},
   "source": [
    "# LGBM"
   ]
  },
  {
   "cell_type": "code",
   "execution_count": 111,
   "id": "aa55b45c",
   "metadata": {},
   "outputs": [
    {
     "name": "stdout",
     "output_type": "stream",
     "text": [
      "Requirement already satisfied: lightgbm in /opt/conda/lib/python3.9/site-packages (3.3.3)\n",
      "Requirement already satisfied: scipy in /opt/conda/lib/python3.9/site-packages (from lightgbm) (1.7.1)\n",
      "Requirement already satisfied: numpy in /opt/conda/lib/python3.9/site-packages (from lightgbm) (1.20.3)\n",
      "Requirement already satisfied: wheel in /opt/conda/lib/python3.9/site-packages (from lightgbm) (0.37.0)\n",
      "Requirement already satisfied: scikit-learn!=0.22.0 in /opt/conda/lib/python3.9/site-packages (from lightgbm) (1.2.2)\n",
      "Requirement already satisfied: threadpoolctl>=2.0.0 in /opt/conda/lib/python3.9/site-packages (from scikit-learn!=0.22.0->lightgbm) (2.2.0)\n",
      "Requirement already satisfied: joblib>=1.1.1 in /opt/conda/lib/python3.9/site-packages (from scikit-learn!=0.22.0->lightgbm) (1.2.0)\n",
      "\n",
      "\u001b[1m[\u001b[0m\u001b[34;49mnotice\u001b[0m\u001b[1;39;49m]\u001b[0m\u001b[39;49m A new release of pip available: \u001b[0m\u001b[31;49m22.3.1\u001b[0m\u001b[39;49m -> \u001b[0m\u001b[32;49m23.1.2\u001b[0m\n",
      "\u001b[1m[\u001b[0m\u001b[34;49mnotice\u001b[0m\u001b[1;39;49m]\u001b[0m\u001b[39;49m To update, run: \u001b[0m\u001b[32;49mpip install --upgrade pip\u001b[0m\n",
      "Note: you may need to restart the kernel to use updated packages.\n"
     ]
    }
   ],
   "source": [
    "pip install lightgbm"
   ]
  },
  {
   "cell_type": "code",
   "execution_count": 112,
   "id": "c30fe3c7",
   "metadata": {},
   "outputs": [],
   "source": [
    "import lightgbm as lgb\n",
    "from lightgbm import LGBMClassifier"
   ]
  },
  {
   "cell_type": "code",
   "execution_count": 113,
   "id": "e524af4b",
   "metadata": {},
   "outputs": [
    {
     "data": {
      "text/html": [
       "<style>#sk-container-id-3 {color: black;background-color: white;}#sk-container-id-3 pre{padding: 0;}#sk-container-id-3 div.sk-toggleable {background-color: white;}#sk-container-id-3 label.sk-toggleable__label {cursor: pointer;display: block;width: 100%;margin-bottom: 0;padding: 0.3em;box-sizing: border-box;text-align: center;}#sk-container-id-3 label.sk-toggleable__label-arrow:before {content: \"▸\";float: left;margin-right: 0.25em;color: #696969;}#sk-container-id-3 label.sk-toggleable__label-arrow:hover:before {color: black;}#sk-container-id-3 div.sk-estimator:hover label.sk-toggleable__label-arrow:before {color: black;}#sk-container-id-3 div.sk-toggleable__content {max-height: 0;max-width: 0;overflow: hidden;text-align: left;background-color: #f0f8ff;}#sk-container-id-3 div.sk-toggleable__content pre {margin: 0.2em;color: black;border-radius: 0.25em;background-color: #f0f8ff;}#sk-container-id-3 input.sk-toggleable__control:checked~div.sk-toggleable__content {max-height: 200px;max-width: 100%;overflow: auto;}#sk-container-id-3 input.sk-toggleable__control:checked~label.sk-toggleable__label-arrow:before {content: \"▾\";}#sk-container-id-3 div.sk-estimator input.sk-toggleable__control:checked~label.sk-toggleable__label {background-color: #d4ebff;}#sk-container-id-3 div.sk-label input.sk-toggleable__control:checked~label.sk-toggleable__label {background-color: #d4ebff;}#sk-container-id-3 input.sk-hidden--visually {border: 0;clip: rect(1px 1px 1px 1px);clip: rect(1px, 1px, 1px, 1px);height: 1px;margin: -1px;overflow: hidden;padding: 0;position: absolute;width: 1px;}#sk-container-id-3 div.sk-estimator {font-family: monospace;background-color: #f0f8ff;border: 1px dotted black;border-radius: 0.25em;box-sizing: border-box;margin-bottom: 0.5em;}#sk-container-id-3 div.sk-estimator:hover {background-color: #d4ebff;}#sk-container-id-3 div.sk-parallel-item::after {content: \"\";width: 100%;border-bottom: 1px solid gray;flex-grow: 1;}#sk-container-id-3 div.sk-label:hover label.sk-toggleable__label {background-color: #d4ebff;}#sk-container-id-3 div.sk-serial::before {content: \"\";position: absolute;border-left: 1px solid gray;box-sizing: border-box;top: 0;bottom: 0;left: 50%;z-index: 0;}#sk-container-id-3 div.sk-serial {display: flex;flex-direction: column;align-items: center;background-color: white;padding-right: 0.2em;padding-left: 0.2em;position: relative;}#sk-container-id-3 div.sk-item {position: relative;z-index: 1;}#sk-container-id-3 div.sk-parallel {display: flex;align-items: stretch;justify-content: center;background-color: white;position: relative;}#sk-container-id-3 div.sk-item::before, #sk-container-id-3 div.sk-parallel-item::before {content: \"\";position: absolute;border-left: 1px solid gray;box-sizing: border-box;top: 0;bottom: 0;left: 50%;z-index: -1;}#sk-container-id-3 div.sk-parallel-item {display: flex;flex-direction: column;z-index: 1;position: relative;background-color: white;}#sk-container-id-3 div.sk-parallel-item:first-child::after {align-self: flex-end;width: 50%;}#sk-container-id-3 div.sk-parallel-item:last-child::after {align-self: flex-start;width: 50%;}#sk-container-id-3 div.sk-parallel-item:only-child::after {width: 0;}#sk-container-id-3 div.sk-dashed-wrapped {border: 1px dashed gray;margin: 0 0.4em 0.5em 0.4em;box-sizing: border-box;padding-bottom: 0.4em;background-color: white;}#sk-container-id-3 div.sk-label label {font-family: monospace;font-weight: bold;display: inline-block;line-height: 1.2em;}#sk-container-id-3 div.sk-label-container {text-align: center;}#sk-container-id-3 div.sk-container {/* jupyter's `normalize.less` sets `[hidden] { display: none; }` but bootstrap.min.css set `[hidden] { display: none !important; }` so we also need the `!important` here to be able to override the default hidden behavior on the sphinx rendered scikit-learn.org. See: https://github.com/scikit-learn/scikit-learn/issues/21755 */display: inline-block !important;position: relative;}#sk-container-id-3 div.sk-text-repr-fallback {display: none;}</style><div id=\"sk-container-id-3\" class=\"sk-top-container\"><div class=\"sk-text-repr-fallback\"><pre>LGBMClassifier(objective=&#x27;binary&#x27;, random_state=42)</pre><b>In a Jupyter environment, please rerun this cell to show the HTML representation or trust the notebook. <br />On GitHub, the HTML representation is unable to render, please try loading this page with nbviewer.org.</b></div><div class=\"sk-container\" hidden><div class=\"sk-item\"><div class=\"sk-estimator sk-toggleable\"><input class=\"sk-toggleable__control sk-hidden--visually\" id=\"sk-estimator-id-3\" type=\"checkbox\" checked><label for=\"sk-estimator-id-3\" class=\"sk-toggleable__label sk-toggleable__label-arrow\">LGBMClassifier</label><div class=\"sk-toggleable__content\"><pre>LGBMClassifier(objective=&#x27;binary&#x27;, random_state=42)</pre></div></div></div></div></div>"
      ],
      "text/plain": [
       "LGBMClassifier(objective='binary', random_state=42)"
      ]
     },
     "execution_count": 113,
     "metadata": {},
     "output_type": "execute_result"
    }
   ],
   "source": [
    "lg = LGBMClassifier(objective='binary', random_state = 42)\n",
    "lg.fit(X_train_ros, y_train_ros)"
   ]
  },
  {
   "cell_type": "code",
   "execution_count": 114,
   "id": "06ff6261",
   "metadata": {},
   "outputs": [
    {
     "name": "stdout",
     "output_type": "stream",
     "text": [
      "The best hyperparameters are  {'max_depth': 10, 'n_estimators': 100}\n"
     ]
    }
   ],
   "source": [
    "param_grid_lg = dict(\n",
    "    n_estimators=[50, 100, 200],\n",
    "    max_depth=[3, 5, 7,10]\n",
    "    )\n",
    "\n",
    "grid_search_lg = GridSearchCV(estimator=lg, param_grid=param_grid_lg, \n",
    "                                  cv=tscv, n_jobs = -1).fit(X_train_ros, y_train_ros)\n",
    "\n",
    "print(\"The best hyperparameters are \",grid_search_lg.best_params_)"
   ]
  },
  {
   "cell_type": "code",
   "execution_count": 115,
   "id": "a4cd519d",
   "metadata": {},
   "outputs": [
    {
     "data": {
      "text/html": [
       "<style>#sk-container-id-4 {color: black;background-color: white;}#sk-container-id-4 pre{padding: 0;}#sk-container-id-4 div.sk-toggleable {background-color: white;}#sk-container-id-4 label.sk-toggleable__label {cursor: pointer;display: block;width: 100%;margin-bottom: 0;padding: 0.3em;box-sizing: border-box;text-align: center;}#sk-container-id-4 label.sk-toggleable__label-arrow:before {content: \"▸\";float: left;margin-right: 0.25em;color: #696969;}#sk-container-id-4 label.sk-toggleable__label-arrow:hover:before {color: black;}#sk-container-id-4 div.sk-estimator:hover label.sk-toggleable__label-arrow:before {color: black;}#sk-container-id-4 div.sk-toggleable__content {max-height: 0;max-width: 0;overflow: hidden;text-align: left;background-color: #f0f8ff;}#sk-container-id-4 div.sk-toggleable__content pre {margin: 0.2em;color: black;border-radius: 0.25em;background-color: #f0f8ff;}#sk-container-id-4 input.sk-toggleable__control:checked~div.sk-toggleable__content {max-height: 200px;max-width: 100%;overflow: auto;}#sk-container-id-4 input.sk-toggleable__control:checked~label.sk-toggleable__label-arrow:before {content: \"▾\";}#sk-container-id-4 div.sk-estimator input.sk-toggleable__control:checked~label.sk-toggleable__label {background-color: #d4ebff;}#sk-container-id-4 div.sk-label input.sk-toggleable__control:checked~label.sk-toggleable__label {background-color: #d4ebff;}#sk-container-id-4 input.sk-hidden--visually {border: 0;clip: rect(1px 1px 1px 1px);clip: rect(1px, 1px, 1px, 1px);height: 1px;margin: -1px;overflow: hidden;padding: 0;position: absolute;width: 1px;}#sk-container-id-4 div.sk-estimator {font-family: monospace;background-color: #f0f8ff;border: 1px dotted black;border-radius: 0.25em;box-sizing: border-box;margin-bottom: 0.5em;}#sk-container-id-4 div.sk-estimator:hover {background-color: #d4ebff;}#sk-container-id-4 div.sk-parallel-item::after {content: \"\";width: 100%;border-bottom: 1px solid gray;flex-grow: 1;}#sk-container-id-4 div.sk-label:hover label.sk-toggleable__label {background-color: #d4ebff;}#sk-container-id-4 div.sk-serial::before {content: \"\";position: absolute;border-left: 1px solid gray;box-sizing: border-box;top: 0;bottom: 0;left: 50%;z-index: 0;}#sk-container-id-4 div.sk-serial {display: flex;flex-direction: column;align-items: center;background-color: white;padding-right: 0.2em;padding-left: 0.2em;position: relative;}#sk-container-id-4 div.sk-item {position: relative;z-index: 1;}#sk-container-id-4 div.sk-parallel {display: flex;align-items: stretch;justify-content: center;background-color: white;position: relative;}#sk-container-id-4 div.sk-item::before, #sk-container-id-4 div.sk-parallel-item::before {content: \"\";position: absolute;border-left: 1px solid gray;box-sizing: border-box;top: 0;bottom: 0;left: 50%;z-index: -1;}#sk-container-id-4 div.sk-parallel-item {display: flex;flex-direction: column;z-index: 1;position: relative;background-color: white;}#sk-container-id-4 div.sk-parallel-item:first-child::after {align-self: flex-end;width: 50%;}#sk-container-id-4 div.sk-parallel-item:last-child::after {align-self: flex-start;width: 50%;}#sk-container-id-4 div.sk-parallel-item:only-child::after {width: 0;}#sk-container-id-4 div.sk-dashed-wrapped {border: 1px dashed gray;margin: 0 0.4em 0.5em 0.4em;box-sizing: border-box;padding-bottom: 0.4em;background-color: white;}#sk-container-id-4 div.sk-label label {font-family: monospace;font-weight: bold;display: inline-block;line-height: 1.2em;}#sk-container-id-4 div.sk-label-container {text-align: center;}#sk-container-id-4 div.sk-container {/* jupyter's `normalize.less` sets `[hidden] { display: none; }` but bootstrap.min.css set `[hidden] { display: none !important; }` so we also need the `!important` here to be able to override the default hidden behavior on the sphinx rendered scikit-learn.org. See: https://github.com/scikit-learn/scikit-learn/issues/21755 */display: inline-block !important;position: relative;}#sk-container-id-4 div.sk-text-repr-fallback {display: none;}</style><div id=\"sk-container-id-4\" class=\"sk-top-container\"><div class=\"sk-text-repr-fallback\"><pre>LGBMClassifier(max_depth=10, objective=&#x27;binary&#x27;, random_state=42)</pre><b>In a Jupyter environment, please rerun this cell to show the HTML representation or trust the notebook. <br />On GitHub, the HTML representation is unable to render, please try loading this page with nbviewer.org.</b></div><div class=\"sk-container\" hidden><div class=\"sk-item\"><div class=\"sk-estimator sk-toggleable\"><input class=\"sk-toggleable__control sk-hidden--visually\" id=\"sk-estimator-id-4\" type=\"checkbox\" checked><label for=\"sk-estimator-id-4\" class=\"sk-toggleable__label sk-toggleable__label-arrow\">LGBMClassifier</label><div class=\"sk-toggleable__content\"><pre>LGBMClassifier(max_depth=10, objective=&#x27;binary&#x27;, random_state=42)</pre></div></div></div></div></div>"
      ],
      "text/plain": [
       "LGBMClassifier(max_depth=10, objective='binary', random_state=42)"
      ]
     },
     "execution_count": 115,
     "metadata": {},
     "output_type": "execute_result"
    }
   ],
   "source": [
    "lg = LGBMClassifier(objective='binary', n_estimators  = grid_search_lg.best_params_[\"n_estimators\"],\n",
    "                               max_depth = grid_search_lg.best_params_[\"max_depth\"],\n",
    "                              random_state=42)\n",
    "lg.fit(X_train_ros, y_train_ros)"
   ]
  },
  {
   "cell_type": "code",
   "execution_count": 116,
   "id": "434a784a",
   "metadata": {},
   "outputs": [],
   "source": [
    "y_pred_lg_train = lg.predict(X_train_ros)\n",
    "y_pred_lg_valid = lg.predict(X_valid)\n",
    "y_pred_lg_test = lg.predict(X_test)"
   ]
  },
  {
   "cell_type": "code",
   "execution_count": 117,
   "id": "295b4f1a",
   "metadata": {},
   "outputs": [
    {
     "data": {
      "text/plain": [
       "0.9048833819241983"
      ]
     },
     "execution_count": 117,
     "metadata": {},
     "output_type": "execute_result"
    }
   ],
   "source": [
    "lg.score(X_train_ros, y_train_ros)"
   ]
  },
  {
   "cell_type": "code",
   "execution_count": 118,
   "id": "f93d22ba",
   "metadata": {},
   "outputs": [
    {
     "name": "stdout",
     "output_type": "stream",
     "text": [
      "[0.92883414 0.73672295 0.7691997  0.7691997  0.98415914]\n"
     ]
    }
   ],
   "source": [
    "# Predict probabilities on test set\n",
    "p_test = lg.predict_proba(X_test) \n",
    "\n",
    "# Look at the first 5 probabilities\n",
    "print(p_test[:5, 1])"
   ]
  },
  {
   "cell_type": "code",
   "execution_count": 119,
   "id": "979f2c5b",
   "metadata": {},
   "outputs": [
    {
     "name": "stdout",
     "output_type": "stream",
     "text": [
      "ROC AUC: 0.5612\n"
     ]
    }
   ],
   "source": [
    "print(\"ROC AUC:\", round(roc_auc_score(y_test, p_test[:, 1]), 4))"
   ]
  },
  {
   "cell_type": "code",
   "execution_count": 120,
   "id": "61ac1caf",
   "metadata": {},
   "outputs": [
    {
     "data": {
      "text/plain": [
       "<sklearn.metrics._plot.roc_curve.RocCurveDisplay at 0x7f927b608c70>"
      ]
     },
     "execution_count": 120,
     "metadata": {},
     "output_type": "execute_result"
    },
    {
     "data": {
      "image/png": "[encoded data removed]",
      "text/plain": [
       "<Figure size 360x360 with 1 Axes>"
      ]
     },
     "metadata": {
      "needs_background": "light"
     },
     "output_type": "display_data"
    }
   ],
   "source": [
    "fig, ax = plt.subplots(figsize=(5, 5))\n",
    "\n",
    "RocCurveDisplay.from_estimator(lg, X_train_ros, y_train_ros, ax=ax)\n",
    "RocCurveDisplay.from_estimator(lg, X_test, y_test, ax=ax)\n",
    "RocCurveDisplay.from_estimator(lg, X_valid, y_valid, ax=ax)"
   ]
  },
  {
   "cell_type": "code",
   "execution_count": 121,
   "id": "d45ad3a4",
   "metadata": {},
   "outputs": [
    {
     "name": "stdout",
     "output_type": "stream",
     "text": [
      "Train  accuracy score: 0.90\n",
      "Train  precision score: 0.89\n",
      "Train  recall score: 0.98\n",
      "Train  f1 score: 0.93\n"
     ]
    }
   ],
   "source": [
    "accuracy, precision, recall, f1 = calculating_the_metrics(y_train_ros, y_pred_lg_train)\n",
    "print_the_metrics('Train ', accuracy, precision, recall, f1)"
   ]
  },
  {
   "cell_type": "code",
   "execution_count": 122,
   "id": "dec113f9",
   "metadata": {},
   "outputs": [
    {
     "name": "stdout",
     "output_type": "stream",
     "text": [
      "Valid accuracy score: 0.77\n",
      "Valid precision score: 0.80\n",
      "Valid recall score: 0.94\n",
      "Valid f1 score: 0.87\n"
     ]
    }
   ],
   "source": [
    "accuracy, precision, recall, f1 = calculating_the_metrics(y_valid, y_pred_lg_valid)\n",
    "print_the_metrics('Valid', accuracy, precision, recall, f1)"
   ]
  },
  {
   "cell_type": "code",
   "execution_count": 123,
   "id": "44bc09d7",
   "metadata": {},
   "outputs": [
    {
     "name": "stdout",
     "output_type": "stream",
     "text": [
      "Test  accuracy score: 0.83\n",
      "Test  precision score: 0.87\n",
      "Test  recall score: 0.95\n",
      "Test  f1 score: 0.91\n"
     ]
    }
   ],
   "source": [
    "accuracy, precision, recall, f1 = calculating_the_metrics(y_test, y_pred_lg_test)\n",
    "print_the_metrics('Test ', accuracy, precision, recall, f1)"
   ]
  },
  {
   "cell_type": "code",
   "execution_count": 124,
   "id": "0b7b6023",
   "metadata": {},
   "outputs": [
    {
     "data": {
      "image/png": "[encoded data removed]",
      "text/plain": [
       "<Figure size 432x432 with 1 Axes>"
      ]
     },
     "metadata": {},
     "output_type": "display_data"
    }
   ],
   "source": [
    "from lightgbm import plot_importance\n",
    "import matplotlib.pyplot as plt\n",
    "plt.style.use('ggplot')\n",
    "plt.rcParams.update({'font.size': 14, 'text.color' : \"black\"})\n",
    "\n",
    "fig, ax = plt.subplots(figsize=(6, 6))\n",
    "plot_importance(lg, max_num_features=15, ax=ax)\n",
    "plt.show();"
   ]
  },
  {
   "cell_type": "markdown",
   "id": "907f6d93",
   "metadata": {},
   "source": [
    "## Feature importance"
   ]
  },
  {
   "cell_type": "code",
   "execution_count": 125,
   "id": "1b742d24",
   "metadata": {},
   "outputs": [],
   "source": [
    "feature_importances = pd.DataFrame(forest_classif.feature_importances_)"
   ]
  },
  {
   "cell_type": "code",
   "execution_count": 126,
   "id": "b919e4df",
   "metadata": {},
   "outputs": [],
   "source": [
    "feature_names = pd.DataFrame(vectorizer.get_feature_names_out())"
   ]
  },
  {
   "cell_type": "code",
   "execution_count": 127,
   "id": "faec1e7b",
   "metadata": {},
   "outputs": [
    {
     "data": {
      "text/html": [
       "<div>\n",
       "<style scoped>\n",
       "    .dataframe tbody tr th:only-of-type {\n",
       "        vertical-align: middle;\n",
       "    }\n",
       "\n",
       "    .dataframe tbody tr th {\n",
       "        vertical-align: top;\n",
       "    }\n",
       "\n",
       "    .dataframe thead th {\n",
       "        text-align: right;\n",
       "    }\n",
       "</style>\n",
       "<table border=\"1\" class=\"dataframe\">\n",
       "  <thead>\n",
       "    <tr style=\"text-align: right;\">\n",
       "      <th></th>\n",
       "      <th>0_x</th>\n",
       "      <th>0_y</th>\n",
       "    </tr>\n",
       "  </thead>\n",
       "  <tbody>\n",
       "    <tr>\n",
       "      <th>19</th>\n",
       "      <td>news</td>\n",
       "      <td>0.053545</td>\n",
       "    </tr>\n",
       "    <tr>\n",
       "      <th>190</th>\n",
       "      <td>презентация</td>\n",
       "      <td>0.032150</td>\n",
       "    </tr>\n",
       "    <tr>\n",
       "      <th>42</th>\n",
       "      <td>внимание</td>\n",
       "      <td>0.025782</td>\n",
       "    </tr>\n",
       "    <tr>\n",
       "      <th>205</th>\n",
       "      <td>программа магистратура</td>\n",
       "      <td>0.025400</td>\n",
       "    </tr>\n",
       "    <tr>\n",
       "      <th>164</th>\n",
       "      <td>открыть</td>\n",
       "      <td>0.024639</td>\n",
       "    </tr>\n",
       "    <tr>\n",
       "      <th>220</th>\n",
       "      <td>регистрация</td>\n",
       "      <td>0.021569</td>\n",
       "    </tr>\n",
       "    <tr>\n",
       "      <th>194</th>\n",
       "      <td>приглашать</td>\n",
       "      <td>0.017905</td>\n",
       "    </tr>\n",
       "    <tr>\n",
       "      <th>15</th>\n",
       "      <td>gsomnews</td>\n",
       "      <td>0.017678</td>\n",
       "    </tr>\n",
       "    <tr>\n",
       "      <th>217</th>\n",
       "      <td>рассказать</td>\n",
       "      <td>0.016903</td>\n",
       "    </tr>\n",
       "    <tr>\n",
       "      <th>191</th>\n",
       "      <td>презентация программа</td>\n",
       "      <td>0.015009</td>\n",
       "    </tr>\n",
       "    <tr>\n",
       "      <th>119</th>\n",
       "      <td>магистратура</td>\n",
       "      <td>0.014554</td>\n",
       "    </tr>\n",
       "    <tr>\n",
       "      <th>246</th>\n",
       "      <td>состояться</td>\n",
       "      <td>0.013665</td>\n",
       "    </tr>\n",
       "    <tr>\n",
       "      <th>128</th>\n",
       "      <td>мероприятие</td>\n",
       "      <td>0.013336</td>\n",
       "    </tr>\n",
       "    <tr>\n",
       "      <th>229</th>\n",
       "      <td>сайт</td>\n",
       "      <td>0.012845</td>\n",
       "    </tr>\n",
       "    <tr>\n",
       "      <th>178</th>\n",
       "      <td>поздравлять</td>\n",
       "      <td>0.012488</td>\n",
       "    </tr>\n",
       "    <tr>\n",
       "      <th>44</th>\n",
       "      <td>волховский</td>\n",
       "      <td>0.012436</td>\n",
       "    </tr>\n",
       "    <tr>\n",
       "      <th>79</th>\n",
       "      <td>ждать</td>\n",
       "      <td>0.012246</td>\n",
       "    </tr>\n",
       "    <tr>\n",
       "      <th>136</th>\n",
       "      <td>напоминать</td>\n",
       "      <td>0.012144</td>\n",
       "    </tr>\n",
       "    <tr>\n",
       "      <th>231</th>\n",
       "      <td>санкт</td>\n",
       "      <td>0.012026</td>\n",
       "    </tr>\n",
       "    <tr>\n",
       "      <th>92</th>\n",
       "      <td>интервью</td>\n",
       "      <td>0.011504</td>\n",
       "    </tr>\n",
       "  </tbody>\n",
       "</table>\n",
       "</div>"
      ],
      "text/plain": [
       "                        0_x       0_y\n",
       "19                     news  0.053545\n",
       "190             презентация  0.032150\n",
       "42                 внимание  0.025782\n",
       "205  программа магистратура  0.025400\n",
       "164                 открыть  0.024639\n",
       "220             регистрация  0.021569\n",
       "194              приглашать  0.017905\n",
       "15                 gsomnews  0.017678\n",
       "217              рассказать  0.016903\n",
       "191   презентация программа  0.015009\n",
       "119            магистратура  0.014554\n",
       "246              состояться  0.013665\n",
       "128             мероприятие  0.013336\n",
       "229                    сайт  0.012845\n",
       "178             поздравлять  0.012488\n",
       "44               волховский  0.012436\n",
       "79                    ждать  0.012246\n",
       "136              напоминать  0.012144\n",
       "231                   санкт  0.012026\n",
       "92                 интервью  0.011504"
      ]
     },
     "execution_count": 127,
     "metadata": {},
     "output_type": "execute_result"
    }
   ],
   "source": [
    "importances = pd.merge(feature_names, feature_importances, how='inner', left_index = True,  right_index = True)\n",
    "importances.sort_values(by = ['0_y'], ascending=False).head(20)"
   ]
  },
  {
   "cell_type": "markdown",
   "id": "13232b63",
   "metadata": {},
   "source": [
    "## Trying control variables"
   ]
  },
  {
   "cell_type": "code",
   "execution_count": 128,
   "id": "c41ff688",
   "metadata": {},
   "outputs": [
    {
     "data": {
      "text/plain": [
       "Index(['col_text_x', 'col_from_id', 'col_owner_id', 'col_views_count',\n",
       "       'col_reposts_count', 'col_likes_count', 'col_comments_count',\n",
       "       'col_date', 'has_video', 'has_photo', 'col_lang', 'col_sent',\n",
       "       'sent_prob', 'year', 'like_presense', 'group_gsom_abiturient',\n",
       "       'group_gsom_ma', 'group_gsom_spbu', 'day_of_week_0', 'day_of_week_1',\n",
       "       'day_of_week_2', 'day_of_week_3', 'day_of_week_4', 'day_of_week_5',\n",
       "       'day_of_week_6', 'd-n_day', 'd-n_evening', 'd-n_morning', 'd-n_night',\n",
       "       'month_1', 'month_2', 'month_3', 'month_4', 'month_5', 'month_6',\n",
       "       'month_7', 'month_8', 'month_9', 'month_10', 'month_11', 'month_12',\n",
       "       'proc'],\n",
       "      dtype='object')"
      ]
     },
     "execution_count": 128,
     "metadata": {},
     "output_type": "execute_result"
    }
   ],
   "source": [
    "train_df.columns"
   ]
  },
  {
   "cell_type": "code",
   "execution_count": 129,
   "id": "e787911e",
   "metadata": {},
   "outputs": [],
   "source": [
    "features = ['group_gsom_abiturient', 'group_gsom_ma',\n",
    "       'group_gsom_spbu', 'd-n_day', 'd-n_evening', 'd-n_morning', 'd-n_night', 'day_of_week_0',\n",
    "       'day_of_week_1', 'day_of_week_2', 'day_of_week_3', 'day_of_week_4',\n",
    "       'day_of_week_5', 'day_of_week_6', 'has_video', 'proc']"
   ]
  },
  {
   "cell_type": "code",
   "execution_count": 130,
   "id": "313d89ae",
   "metadata": {},
   "outputs": [],
   "source": [
    "X_train_new = train_df[features]\n",
    "X_valid_new = valid_df[features]\n",
    "X_test_new = test_df[features]"
   ]
  },
  {
   "cell_type": "code",
   "execution_count": 131,
   "id": "061db289",
   "metadata": {},
   "outputs": [
    {
     "data": {
      "text/html": [
       "<div>\n",
       "<style scoped>\n",
       "    .dataframe tbody tr th:only-of-type {\n",
       "        vertical-align: middle;\n",
       "    }\n",
       "\n",
       "    .dataframe tbody tr th {\n",
       "        vertical-align: top;\n",
       "    }\n",
       "\n",
       "    .dataframe thead th {\n",
       "        text-align: right;\n",
       "    }\n",
       "</style>\n",
       "<table border=\"1\" class=\"dataframe\">\n",
       "  <thead>\n",
       "    <tr style=\"text-align: right;\">\n",
       "      <th></th>\n",
       "      <th>group_gsom_abiturient</th>\n",
       "      <th>group_gsom_ma</th>\n",
       "      <th>group_gsom_spbu</th>\n",
       "      <th>d-n_day</th>\n",
       "      <th>d-n_evening</th>\n",
       "      <th>d-n_morning</th>\n",
       "      <th>d-n_night</th>\n",
       "      <th>day_of_week_0</th>\n",
       "      <th>day_of_week_1</th>\n",
       "      <th>day_of_week_2</th>\n",
       "      <th>day_of_week_3</th>\n",
       "      <th>day_of_week_4</th>\n",
       "      <th>day_of_week_5</th>\n",
       "      <th>day_of_week_6</th>\n",
       "      <th>has_video</th>\n",
       "      <th>proc</th>\n",
       "    </tr>\n",
       "  </thead>\n",
       "  <tbody>\n",
       "    <tr>\n",
       "      <th>684</th>\n",
       "      <td>1</td>\n",
       "      <td>0</td>\n",
       "      <td>0</td>\n",
       "      <td>0</td>\n",
       "      <td>0</td>\n",
       "      <td>1</td>\n",
       "      <td>0</td>\n",
       "      <td>1</td>\n",
       "      <td>0</td>\n",
       "      <td>0</td>\n",
       "      <td>0</td>\n",
       "      <td>0</td>\n",
       "      <td>0</td>\n",
       "      <td>0</td>\n",
       "      <td>0</td>\n",
       "      <td>перспектива выпускник гму совмещать работа стартап программа государственный муниципальный управ...</td>\n",
       "    </tr>\n",
       "  </tbody>\n",
       "</table>\n",
       "</div>"
      ],
      "text/plain": [
       "     group_gsom_abiturient  group_gsom_ma  group_gsom_spbu  d-n_day  \\\n",
       "684                      1              0                0        0   \n",
       "\n",
       "     d-n_evening  d-n_morning  d-n_night  day_of_week_0  day_of_week_1  \\\n",
       "684            0            1          0              1              0   \n",
       "\n",
       "     day_of_week_2  day_of_week_3  day_of_week_4  day_of_week_5  \\\n",
       "684              0              0              0              0   \n",
       "\n",
       "     day_of_week_6  has_video  \\\n",
       "684              0          0   \n",
       "\n",
       "                                                                                                    proc  \n",
       "684  перспектива выпускник гму совмещать работа стартап программа государственный муниципальный управ...  "
      ]
     },
     "execution_count": 131,
     "metadata": {},
     "output_type": "execute_result"
    }
   ],
   "source": [
    "X_train_new.head(1)"
   ]
  },
  {
   "cell_type": "code",
   "execution_count": 132,
   "id": "02b25ad7",
   "metadata": {},
   "outputs": [
    {
     "name": "stdout",
     "output_type": "stream",
     "text": [
      "total texts: 2744\n",
      "features shape: (2744, 300) max: 1.0 min: 0.0\n"
     ]
    }
   ],
   "source": [
    " X_train_text, vectorizer = text_features(\n",
    "    X_train_new['proc'], \n",
    "    vectorizer=vectorizer)\n",
    "\n",
    "X_test_text = vectorizer.transform(X_test_new['proc'])\n",
    "X_valid_text = vectorizer.transform(X_valid_new['proc'])"
   ]
  },
  {
   "cell_type": "code",
   "execution_count": 133,
   "id": "3500c85b",
   "metadata": {},
   "outputs": [
    {
     "data": {
      "text/html": [
       "<div>\n",
       "<style scoped>\n",
       "    .dataframe tbody tr th:only-of-type {\n",
       "        vertical-align: middle;\n",
       "    }\n",
       "\n",
       "    .dataframe tbody tr th {\n",
       "        vertical-align: top;\n",
       "    }\n",
       "\n",
       "    .dataframe thead th {\n",
       "        text-align: right;\n",
       "    }\n",
       "</style>\n",
       "<table border=\"1\" class=\"dataframe\">\n",
       "  <thead>\n",
       "    <tr style=\"text-align: right;\">\n",
       "      <th></th>\n",
       "      <th>abiturient</th>\n",
       "      <th>about</th>\n",
       "      <th>bcg</th>\n",
       "      <th>business</th>\n",
       "      <th>career</th>\n",
       "      <th>cems</th>\n",
       "      <th>club</th>\n",
       "      <th>day</th>\n",
       "      <th>event</th>\n",
       "      <th>events</th>\n",
       "      <th>...</th>\n",
       "      <th>чемпионат</th>\n",
       "      <th>читать</th>\n",
       "      <th>шанс</th>\n",
       "      <th>школа</th>\n",
       "      <th>школа менеджмент</th>\n",
       "      <th>экзамен</th>\n",
       "      <th>эксперт</th>\n",
       "      <th>этап</th>\n",
       "      <th>являться</th>\n",
       "      <th>язык</th>\n",
       "    </tr>\n",
       "  </thead>\n",
       "  <tbody>\n",
       "    <tr>\n",
       "      <th>0</th>\n",
       "      <td>0.0</td>\n",
       "      <td>0.0</td>\n",
       "      <td>0.0</td>\n",
       "      <td>0.0</td>\n",
       "      <td>0.0</td>\n",
       "      <td>0.0</td>\n",
       "      <td>0.0</td>\n",
       "      <td>0.0</td>\n",
       "      <td>0.0</td>\n",
       "      <td>0.0</td>\n",
       "      <td>...</td>\n",
       "      <td>0.0</td>\n",
       "      <td>0.193626</td>\n",
       "      <td>0.0</td>\n",
       "      <td>0.0</td>\n",
       "      <td>0.0</td>\n",
       "      <td>0.0</td>\n",
       "      <td>0.0</td>\n",
       "      <td>0.0</td>\n",
       "      <td>0.0</td>\n",
       "      <td>0.0</td>\n",
       "    </tr>\n",
       "  </tbody>\n",
       "</table>\n",
       "<p>1 rows × 300 columns</p>\n",
       "</div>"
      ],
      "text/plain": [
       "   abiturient  about  bcg  business  career  cems  club  day  event  events  \\\n",
       "0         0.0    0.0  0.0       0.0     0.0   0.0   0.0  0.0    0.0     0.0   \n",
       "\n",
       "   ...  чемпионат    читать  шанс  школа  школа менеджмент  экзамен  эксперт  \\\n",
       "0  ...        0.0  0.193626   0.0    0.0               0.0      0.0      0.0   \n",
       "\n",
       "   этап  являться  язык  \n",
       "0   0.0       0.0   0.0  \n",
       "\n",
       "[1 rows x 300 columns]"
      ]
     },
     "execution_count": 133,
     "metadata": {},
     "output_type": "execute_result"
    }
   ],
   "source": [
    "X_train_text = pd.DataFrame.sparse.from_spmatrix(X_train_text)\n",
    "X_train_text.columns = vectorizer.get_feature_names_out()\n",
    "X_train_text.head(1)"
   ]
  },
  {
   "cell_type": "code",
   "execution_count": 134,
   "id": "5328d069",
   "metadata": {},
   "outputs": [
    {
     "data": {
      "text/html": [
       "<div>\n",
       "<style scoped>\n",
       "    .dataframe tbody tr th:only-of-type {\n",
       "        vertical-align: middle;\n",
       "    }\n",
       "\n",
       "    .dataframe tbody tr th {\n",
       "        vertical-align: top;\n",
       "    }\n",
       "\n",
       "    .dataframe thead th {\n",
       "        text-align: right;\n",
       "    }\n",
       "</style>\n",
       "<table border=\"1\" class=\"dataframe\">\n",
       "  <thead>\n",
       "    <tr style=\"text-align: right;\">\n",
       "      <th></th>\n",
       "      <th>abiturient</th>\n",
       "      <th>about</th>\n",
       "      <th>bcg</th>\n",
       "      <th>business</th>\n",
       "      <th>career</th>\n",
       "      <th>cems</th>\n",
       "      <th>club</th>\n",
       "      <th>day</th>\n",
       "      <th>event</th>\n",
       "      <th>events</th>\n",
       "      <th>...</th>\n",
       "      <th>чемпионат</th>\n",
       "      <th>читать</th>\n",
       "      <th>шанс</th>\n",
       "      <th>школа</th>\n",
       "      <th>школа менеджмент</th>\n",
       "      <th>экзамен</th>\n",
       "      <th>эксперт</th>\n",
       "      <th>этап</th>\n",
       "      <th>являться</th>\n",
       "      <th>язык</th>\n",
       "    </tr>\n",
       "  </thead>\n",
       "  <tbody>\n",
       "    <tr>\n",
       "      <th>0</th>\n",
       "      <td>0.0</td>\n",
       "      <td>0.0</td>\n",
       "      <td>0.0</td>\n",
       "      <td>0.0</td>\n",
       "      <td>0.0</td>\n",
       "      <td>0.0</td>\n",
       "      <td>0.0</td>\n",
       "      <td>0.0</td>\n",
       "      <td>0.0</td>\n",
       "      <td>0.0</td>\n",
       "      <td>...</td>\n",
       "      <td>0.0</td>\n",
       "      <td>0.0</td>\n",
       "      <td>0.0</td>\n",
       "      <td>0.0</td>\n",
       "      <td>0.0</td>\n",
       "      <td>0.0</td>\n",
       "      <td>0.0</td>\n",
       "      <td>0.0</td>\n",
       "      <td>0.232998</td>\n",
       "      <td>0.0</td>\n",
       "    </tr>\n",
       "  </tbody>\n",
       "</table>\n",
       "<p>1 rows × 300 columns</p>\n",
       "</div>"
      ],
      "text/plain": [
       "   abiturient  about  bcg  business  career  cems  club  day  event  events  \\\n",
       "0         0.0    0.0  0.0       0.0     0.0   0.0   0.0  0.0    0.0     0.0   \n",
       "\n",
       "   ...  чемпионат  читать  шанс  школа  школа менеджмент  экзамен  эксперт  \\\n",
       "0  ...        0.0     0.0   0.0    0.0               0.0      0.0      0.0   \n",
       "\n",
       "   этап  являться  язык  \n",
       "0   0.0  0.232998   0.0  \n",
       "\n",
       "[1 rows x 300 columns]"
      ]
     },
     "execution_count": 134,
     "metadata": {},
     "output_type": "execute_result"
    }
   ],
   "source": [
    "X_test_text = pd.DataFrame.sparse.from_spmatrix(X_test_text)\n",
    "X_test_text.columns = vectorizer.get_feature_names_out()\n",
    "X_test_text.head(1)"
   ]
  },
  {
   "cell_type": "code",
   "execution_count": 135,
   "id": "b9ab22ce",
   "metadata": {},
   "outputs": [
    {
     "data": {
      "text/html": [
       "<div>\n",
       "<style scoped>\n",
       "    .dataframe tbody tr th:only-of-type {\n",
       "        vertical-align: middle;\n",
       "    }\n",
       "\n",
       "    .dataframe tbody tr th {\n",
       "        vertical-align: top;\n",
       "    }\n",
       "\n",
       "    .dataframe thead th {\n",
       "        text-align: right;\n",
       "    }\n",
       "</style>\n",
       "<table border=\"1\" class=\"dataframe\">\n",
       "  <thead>\n",
       "    <tr style=\"text-align: right;\">\n",
       "      <th></th>\n",
       "      <th>abiturient</th>\n",
       "      <th>about</th>\n",
       "      <th>bcg</th>\n",
       "      <th>business</th>\n",
       "      <th>career</th>\n",
       "      <th>cems</th>\n",
       "      <th>club</th>\n",
       "      <th>day</th>\n",
       "      <th>event</th>\n",
       "      <th>events</th>\n",
       "      <th>...</th>\n",
       "      <th>чемпионат</th>\n",
       "      <th>читать</th>\n",
       "      <th>шанс</th>\n",
       "      <th>школа</th>\n",
       "      <th>школа менеджмент</th>\n",
       "      <th>экзамен</th>\n",
       "      <th>эксперт</th>\n",
       "      <th>этап</th>\n",
       "      <th>являться</th>\n",
       "      <th>язык</th>\n",
       "    </tr>\n",
       "  </thead>\n",
       "  <tbody>\n",
       "    <tr>\n",
       "      <th>0</th>\n",
       "      <td>0.312878</td>\n",
       "      <td>0.0</td>\n",
       "      <td>0.0</td>\n",
       "      <td>0.0</td>\n",
       "      <td>0.0</td>\n",
       "      <td>0.0</td>\n",
       "      <td>0.0</td>\n",
       "      <td>0.0</td>\n",
       "      <td>0.0</td>\n",
       "      <td>0.0</td>\n",
       "      <td>...</td>\n",
       "      <td>0.0</td>\n",
       "      <td>0.0</td>\n",
       "      <td>0.0</td>\n",
       "      <td>0.0</td>\n",
       "      <td>0.0</td>\n",
       "      <td>0.0</td>\n",
       "      <td>0.0</td>\n",
       "      <td>0.0</td>\n",
       "      <td>0.0</td>\n",
       "      <td>0.0</td>\n",
       "    </tr>\n",
       "  </tbody>\n",
       "</table>\n",
       "<p>1 rows × 300 columns</p>\n",
       "</div>"
      ],
      "text/plain": [
       "   abiturient  about  bcg  business  career  cems  club  day  event  events  \\\n",
       "0    0.312878    0.0  0.0       0.0     0.0   0.0   0.0  0.0    0.0     0.0   \n",
       "\n",
       "   ...  чемпионат  читать  шанс  школа  школа менеджмент  экзамен  эксперт  \\\n",
       "0  ...        0.0     0.0   0.0    0.0               0.0      0.0      0.0   \n",
       "\n",
       "   этап  являться  язык  \n",
       "0   0.0       0.0   0.0  \n",
       "\n",
       "[1 rows x 300 columns]"
      ]
     },
     "execution_count": 135,
     "metadata": {},
     "output_type": "execute_result"
    }
   ],
   "source": [
    "X_valid_text = pd.DataFrame.sparse.from_spmatrix(X_valid_text)\n",
    "X_valid_text.columns = vectorizer.get_feature_names_out()\n",
    "X_valid_text.head(1)"
   ]
  },
  {
   "cell_type": "code",
   "execution_count": 136,
   "id": "05ff4e9a",
   "metadata": {},
   "outputs": [
    {
     "data": {
      "text/html": [
       "<div>\n",
       "<style scoped>\n",
       "    .dataframe tbody tr th:only-of-type {\n",
       "        vertical-align: middle;\n",
       "    }\n",
       "\n",
       "    .dataframe tbody tr th {\n",
       "        vertical-align: top;\n",
       "    }\n",
       "\n",
       "    .dataframe thead th {\n",
       "        text-align: right;\n",
       "    }\n",
       "</style>\n",
       "<table border=\"1\" class=\"dataframe\">\n",
       "  <thead>\n",
       "    <tr style=\"text-align: right;\">\n",
       "      <th></th>\n",
       "      <th>group_gsom_abiturient</th>\n",
       "      <th>group_gsom_ma</th>\n",
       "      <th>group_gsom_spbu</th>\n",
       "      <th>d-n_day</th>\n",
       "      <th>d-n_evening</th>\n",
       "      <th>d-n_morning</th>\n",
       "      <th>d-n_night</th>\n",
       "      <th>day_of_week_0</th>\n",
       "      <th>day_of_week_1</th>\n",
       "      <th>day_of_week_2</th>\n",
       "      <th>...</th>\n",
       "      <th>чемпионат</th>\n",
       "      <th>читать</th>\n",
       "      <th>шанс</th>\n",
       "      <th>школа</th>\n",
       "      <th>школа менеджмент</th>\n",
       "      <th>экзамен</th>\n",
       "      <th>эксперт</th>\n",
       "      <th>этап</th>\n",
       "      <th>являться</th>\n",
       "      <th>язык</th>\n",
       "    </tr>\n",
       "  </thead>\n",
       "  <tbody>\n",
       "    <tr>\n",
       "      <th>0</th>\n",
       "      <td>1</td>\n",
       "      <td>0</td>\n",
       "      <td>0</td>\n",
       "      <td>0</td>\n",
       "      <td>0</td>\n",
       "      <td>1</td>\n",
       "      <td>0</td>\n",
       "      <td>1</td>\n",
       "      <td>0</td>\n",
       "      <td>0</td>\n",
       "      <td>...</td>\n",
       "      <td>0.0</td>\n",
       "      <td>0.193626</td>\n",
       "      <td>0.0</td>\n",
       "      <td>0.0</td>\n",
       "      <td>0.0</td>\n",
       "      <td>0.0</td>\n",
       "      <td>0.0</td>\n",
       "      <td>0.0</td>\n",
       "      <td>0.0</td>\n",
       "      <td>0.0</td>\n",
       "    </tr>\n",
       "  </tbody>\n",
       "</table>\n",
       "<p>1 rows × 316 columns</p>\n",
       "</div>"
      ],
      "text/plain": [
       "   group_gsom_abiturient  group_gsom_ma  group_gsom_spbu  d-n_day  \\\n",
       "0                      1              0                0        0   \n",
       "\n",
       "   d-n_evening  d-n_morning  d-n_night  day_of_week_0  day_of_week_1  \\\n",
       "0            0            1          0              1              0   \n",
       "\n",
       "   day_of_week_2  ...  чемпионат    читать  шанс  школа  школа менеджмент  \\\n",
       "0              0  ...        0.0  0.193626   0.0    0.0               0.0   \n",
       "\n",
       "  экзамен  эксперт  этап  являться  язык  \n",
       "0     0.0      0.0   0.0       0.0   0.0  \n",
       "\n",
       "[1 rows x 316 columns]"
      ]
     },
     "execution_count": 136,
     "metadata": {},
     "output_type": "execute_result"
    }
   ],
   "source": [
    "X_train_new.reset_index(drop=True, inplace=True)\n",
    "X_train_new = pd.concat([X_train_new, X_train_text], axis=1)\n",
    "X_train_new.head(1)"
   ]
  },
  {
   "cell_type": "code",
   "execution_count": 137,
   "id": "7f4a9f6d",
   "metadata": {},
   "outputs": [
    {
     "data": {
      "text/html": [
       "<div>\n",
       "<style scoped>\n",
       "    .dataframe tbody tr th:only-of-type {\n",
       "        vertical-align: middle;\n",
       "    }\n",
       "\n",
       "    .dataframe tbody tr th {\n",
       "        vertical-align: top;\n",
       "    }\n",
       "\n",
       "    .dataframe thead th {\n",
       "        text-align: right;\n",
       "    }\n",
       "</style>\n",
       "<table border=\"1\" class=\"dataframe\">\n",
       "  <thead>\n",
       "    <tr style=\"text-align: right;\">\n",
       "      <th></th>\n",
       "      <th>group_gsom_abiturient</th>\n",
       "      <th>group_gsom_ma</th>\n",
       "      <th>group_gsom_spbu</th>\n",
       "      <th>d-n_day</th>\n",
       "      <th>d-n_evening</th>\n",
       "      <th>d-n_morning</th>\n",
       "      <th>d-n_night</th>\n",
       "      <th>day_of_week_0</th>\n",
       "      <th>day_of_week_1</th>\n",
       "      <th>day_of_week_2</th>\n",
       "      <th>...</th>\n",
       "      <th>чемпионат</th>\n",
       "      <th>читать</th>\n",
       "      <th>шанс</th>\n",
       "      <th>школа</th>\n",
       "      <th>школа менеджмент</th>\n",
       "      <th>экзамен</th>\n",
       "      <th>эксперт</th>\n",
       "      <th>этап</th>\n",
       "      <th>являться</th>\n",
       "      <th>язык</th>\n",
       "    </tr>\n",
       "  </thead>\n",
       "  <tbody>\n",
       "    <tr>\n",
       "      <th>0</th>\n",
       "      <td>0</td>\n",
       "      <td>1</td>\n",
       "      <td>0</td>\n",
       "      <td>0</td>\n",
       "      <td>1</td>\n",
       "      <td>0</td>\n",
       "      <td>0</td>\n",
       "      <td>0</td>\n",
       "      <td>0</td>\n",
       "      <td>0</td>\n",
       "      <td>...</td>\n",
       "      <td>0.0</td>\n",
       "      <td>0.0</td>\n",
       "      <td>0.0</td>\n",
       "      <td>0.0</td>\n",
       "      <td>0.0</td>\n",
       "      <td>0.0</td>\n",
       "      <td>0.0</td>\n",
       "      <td>0.0</td>\n",
       "      <td>0.232998</td>\n",
       "      <td>0.0</td>\n",
       "    </tr>\n",
       "  </tbody>\n",
       "</table>\n",
       "<p>1 rows × 316 columns</p>\n",
       "</div>"
      ],
      "text/plain": [
       "   group_gsom_abiturient  group_gsom_ma  group_gsom_spbu  d-n_day  \\\n",
       "0                      0              1                0        0   \n",
       "\n",
       "   d-n_evening  d-n_morning  d-n_night  day_of_week_0  day_of_week_1  \\\n",
       "0            1            0          0              0              0   \n",
       "\n",
       "   day_of_week_2  ...  чемпионат  читать  шанс  школа  школа менеджмент  \\\n",
       "0              0  ...        0.0     0.0   0.0    0.0               0.0   \n",
       "\n",
       "  экзамен  эксперт  этап  являться  язык  \n",
       "0     0.0      0.0   0.0  0.232998   0.0  \n",
       "\n",
       "[1 rows x 316 columns]"
      ]
     },
     "execution_count": 137,
     "metadata": {},
     "output_type": "execute_result"
    }
   ],
   "source": [
    "X_test_new.reset_index(drop=True, inplace=True)\n",
    "X_test_new = pd.concat([X_test_new, X_test_text], axis=1)\n",
    "X_test_new.head(1)"
   ]
  },
  {
   "cell_type": "code",
   "execution_count": 138,
   "id": "1e6c931d",
   "metadata": {},
   "outputs": [
    {
     "data": {
      "text/html": [
       "<div>\n",
       "<style scoped>\n",
       "    .dataframe tbody tr th:only-of-type {\n",
       "        vertical-align: middle;\n",
       "    }\n",
       "\n",
       "    .dataframe tbody tr th {\n",
       "        vertical-align: top;\n",
       "    }\n",
       "\n",
       "    .dataframe thead th {\n",
       "        text-align: right;\n",
       "    }\n",
       "</style>\n",
       "<table border=\"1\" class=\"dataframe\">\n",
       "  <thead>\n",
       "    <tr style=\"text-align: right;\">\n",
       "      <th></th>\n",
       "      <th>group_gsom_abiturient</th>\n",
       "      <th>group_gsom_ma</th>\n",
       "      <th>group_gsom_spbu</th>\n",
       "      <th>d-n_day</th>\n",
       "      <th>d-n_evening</th>\n",
       "      <th>d-n_morning</th>\n",
       "      <th>d-n_night</th>\n",
       "      <th>day_of_week_0</th>\n",
       "      <th>day_of_week_1</th>\n",
       "      <th>day_of_week_2</th>\n",
       "      <th>...</th>\n",
       "      <th>чемпионат</th>\n",
       "      <th>читать</th>\n",
       "      <th>шанс</th>\n",
       "      <th>школа</th>\n",
       "      <th>школа менеджмент</th>\n",
       "      <th>экзамен</th>\n",
       "      <th>эксперт</th>\n",
       "      <th>этап</th>\n",
       "      <th>являться</th>\n",
       "      <th>язык</th>\n",
       "    </tr>\n",
       "  </thead>\n",
       "  <tbody>\n",
       "    <tr>\n",
       "      <th>0</th>\n",
       "      <td>1</td>\n",
       "      <td>0</td>\n",
       "      <td>0</td>\n",
       "      <td>0</td>\n",
       "      <td>1</td>\n",
       "      <td>0</td>\n",
       "      <td>0</td>\n",
       "      <td>0</td>\n",
       "      <td>0</td>\n",
       "      <td>1</td>\n",
       "      <td>...</td>\n",
       "      <td>0.0</td>\n",
       "      <td>0.0</td>\n",
       "      <td>0.0</td>\n",
       "      <td>0.0</td>\n",
       "      <td>0.0</td>\n",
       "      <td>0.0</td>\n",
       "      <td>0.0</td>\n",
       "      <td>0.0</td>\n",
       "      <td>0.0</td>\n",
       "      <td>0.0</td>\n",
       "    </tr>\n",
       "  </tbody>\n",
       "</table>\n",
       "<p>1 rows × 316 columns</p>\n",
       "</div>"
      ],
      "text/plain": [
       "   group_gsom_abiturient  group_gsom_ma  group_gsom_spbu  d-n_day  \\\n",
       "0                      1              0                0        0   \n",
       "\n",
       "   d-n_evening  d-n_morning  d-n_night  day_of_week_0  day_of_week_1  \\\n",
       "0            1            0          0              0              0   \n",
       "\n",
       "   day_of_week_2  ...  чемпионат  читать  шанс  школа  школа менеджмент  \\\n",
       "0              1  ...        0.0     0.0   0.0    0.0               0.0   \n",
       "\n",
       "  экзамен  эксперт  этап  являться  язык  \n",
       "0     0.0      0.0   0.0       0.0   0.0  \n",
       "\n",
       "[1 rows x 316 columns]"
      ]
     },
     "execution_count": 138,
     "metadata": {},
     "output_type": "execute_result"
    }
   ],
   "source": [
    "X_valid_new.reset_index(drop=True, inplace=True)\n",
    "X_valid = pd.concat([X_valid_new, X_valid_text], axis=1)\n",
    "X_valid.head(1)"
   ]
  },
  {
   "cell_type": "code",
   "execution_count": 139,
   "id": "e368ae98",
   "metadata": {},
   "outputs": [
    {
     "data": {
      "text/plain": [
       "(300,)"
      ]
     },
     "execution_count": 139,
     "metadata": {},
     "output_type": "execute_result"
    }
   ],
   "source": [
    "vectorizer.get_feature_names_out().shape"
   ]
  },
  {
   "cell_type": "code",
   "execution_count": 140,
   "id": "25f94d02",
   "metadata": {},
   "outputs": [
    {
     "data": {
      "text/plain": [
       "array(['abiturient', 'about', 'bcg'], dtype=object)"
      ]
     },
     "execution_count": 140,
     "metadata": {},
     "output_type": "execute_result"
    }
   ],
   "source": [
    "vectorizer.get_feature_names_out()[:3]"
   ]
  },
  {
   "cell_type": "code",
   "execution_count": 141,
   "id": "0c2feaee",
   "metadata": {},
   "outputs": [],
   "source": [
    "y_train = train_df['like_presense']\n",
    "y_valid = valid_df['like_presense']\n",
    "y_test = test_df['like_presense']"
   ]
  },
  {
   "cell_type": "code",
   "execution_count": 142,
   "id": "87a786af",
   "metadata": {},
   "outputs": [],
   "source": [
    "X_train_new = X_train_new.drop(columns=['proc'])\n",
    "X_valid= X_valid.drop(columns=['proc'])\n",
    "X_test_new = X_test_new.drop(columns=['proc'])"
   ]
  },
  {
   "cell_type": "code",
   "execution_count": 143,
   "id": "abf13bc5",
   "metadata": {},
   "outputs": [
    {
     "data": {
      "text/plain": [
       "Index(['group_gsom_abiturient', 'group_gsom_ma', 'group_gsom_spbu', 'd-n_day',\n",
       "       'd-n_evening', 'd-n_morning', 'd-n_night', 'day_of_week_0',\n",
       "       'day_of_week_1', 'day_of_week_2',\n",
       "       ...\n",
       "       'чемпионат', 'читать', 'шанс', 'школа', 'школа менеджмент', 'экзамен',\n",
       "       'эксперт', 'этап', 'являться', 'язык'],\n",
       "      dtype='object', length=315)"
      ]
     },
     "execution_count": 143,
     "metadata": {},
     "output_type": "execute_result"
    }
   ],
   "source": [
    "X_train_new.columns"
   ]
  },
  {
   "cell_type": "code",
   "execution_count": 144,
   "id": "37864c83",
   "metadata": {},
   "outputs": [],
   "source": [
    "features = [x for x in X_train_new.columns if x not in ['proc']]"
   ]
  },
  {
   "cell_type": "code",
   "execution_count": 145,
   "id": "4984d527",
   "metadata": {},
   "outputs": [],
   "source": [
    "#ROS = RandomOverSampler(random_state=42,sampling_strategy=.45)"
   ]
  },
  {
   "cell_type": "code",
   "execution_count": 146,
   "id": "6c240c0c",
   "metadata": {},
   "outputs": [],
   "source": [
    "#X_train_ros, y_train_ros = ROS.fit_resample(X_train_new, y_train)\n",
    "#y_train_ros.value_counts()"
   ]
  },
  {
   "cell_type": "code",
   "execution_count": 147,
   "id": "08f27fd8",
   "metadata": {},
   "outputs": [],
   "source": [
    "X_train_ros = X_train_new\n",
    "y_train_ros = y_train"
   ]
  },
  {
   "cell_type": "markdown",
   "id": "ac20cbac",
   "metadata": {},
   "source": [
    "## Logistic regression with additional features"
   ]
  },
  {
   "cell_type": "code",
   "execution_count": 148,
   "id": "ff6f8cbc",
   "metadata": {},
   "outputs": [
    {
     "data": {
      "text/html": [
       "<style>#sk-container-id-5 {color: black;background-color: white;}#sk-container-id-5 pre{padding: 0;}#sk-container-id-5 div.sk-toggleable {background-color: white;}#sk-container-id-5 label.sk-toggleable__label {cursor: pointer;display: block;width: 100%;margin-bottom: 0;padding: 0.3em;box-sizing: border-box;text-align: center;}#sk-container-id-5 label.sk-toggleable__label-arrow:before {content: \"▸\";float: left;margin-right: 0.25em;color: #696969;}#sk-container-id-5 label.sk-toggleable__label-arrow:hover:before {color: black;}#sk-container-id-5 div.sk-estimator:hover label.sk-toggleable__label-arrow:before {color: black;}#sk-container-id-5 div.sk-toggleable__content {max-height: 0;max-width: 0;overflow: hidden;text-align: left;background-color: #f0f8ff;}#sk-container-id-5 div.sk-toggleable__content pre {margin: 0.2em;color: black;border-radius: 0.25em;background-color: #f0f8ff;}#sk-container-id-5 input.sk-toggleable__control:checked~div.sk-toggleable__content {max-height: 200px;max-width: 100%;overflow: auto;}#sk-container-id-5 input.sk-toggleable__control:checked~label.sk-toggleable__label-arrow:before {content: \"▾\";}#sk-container-id-5 div.sk-estimator input.sk-toggleable__control:checked~label.sk-toggleable__label {background-color: #d4ebff;}#sk-container-id-5 div.sk-label input.sk-toggleable__control:checked~label.sk-toggleable__label {background-color: #d4ebff;}#sk-container-id-5 input.sk-hidden--visually {border: 0;clip: rect(1px 1px 1px 1px);clip: rect(1px, 1px, 1px, 1px);height: 1px;margin: -1px;overflow: hidden;padding: 0;position: absolute;width: 1px;}#sk-container-id-5 div.sk-estimator {font-family: monospace;background-color: #f0f8ff;border: 1px dotted black;border-radius: 0.25em;box-sizing: border-box;margin-bottom: 0.5em;}#sk-container-id-5 div.sk-estimator:hover {background-color: #d4ebff;}#sk-container-id-5 div.sk-parallel-item::after {content: \"\";width: 100%;border-bottom: 1px solid gray;flex-grow: 1;}#sk-container-id-5 div.sk-label:hover label.sk-toggleable__label {background-color: #d4ebff;}#sk-container-id-5 div.sk-serial::before {content: \"\";position: absolute;border-left: 1px solid gray;box-sizing: border-box;top: 0;bottom: 0;left: 50%;z-index: 0;}#sk-container-id-5 div.sk-serial {display: flex;flex-direction: column;align-items: center;background-color: white;padding-right: 0.2em;padding-left: 0.2em;position: relative;}#sk-container-id-5 div.sk-item {position: relative;z-index: 1;}#sk-container-id-5 div.sk-parallel {display: flex;align-items: stretch;justify-content: center;background-color: white;position: relative;}#sk-container-id-5 div.sk-item::before, #sk-container-id-5 div.sk-parallel-item::before {content: \"\";position: absolute;border-left: 1px solid gray;box-sizing: border-box;top: 0;bottom: 0;left: 50%;z-index: -1;}#sk-container-id-5 div.sk-parallel-item {display: flex;flex-direction: column;z-index: 1;position: relative;background-color: white;}#sk-container-id-5 div.sk-parallel-item:first-child::after {align-self: flex-end;width: 50%;}#sk-container-id-5 div.sk-parallel-item:last-child::after {align-self: flex-start;width: 50%;}#sk-container-id-5 div.sk-parallel-item:only-child::after {width: 0;}#sk-container-id-5 div.sk-dashed-wrapped {border: 1px dashed gray;margin: 0 0.4em 0.5em 0.4em;box-sizing: border-box;padding-bottom: 0.4em;background-color: white;}#sk-container-id-5 div.sk-label label {font-family: monospace;font-weight: bold;display: inline-block;line-height: 1.2em;}#sk-container-id-5 div.sk-label-container {text-align: center;}#sk-container-id-5 div.sk-container {/* jupyter's `normalize.less` sets `[hidden] { display: none; }` but bootstrap.min.css set `[hidden] { display: none !important; }` so we also need the `!important` here to be able to override the default hidden behavior on the sphinx rendered scikit-learn.org. See: https://github.com/scikit-learn/scikit-learn/issues/21755 */display: inline-block !important;position: relative;}#sk-container-id-5 div.sk-text-repr-fallback {display: none;}</style><div id=\"sk-container-id-5\" class=\"sk-top-container\"><div class=\"sk-text-repr-fallback\"><pre>LogisticRegression(n_jobs=-1, random_state=42)</pre><b>In a Jupyter environment, please rerun this cell to show the HTML representation or trust the notebook. <br />On GitHub, the HTML representation is unable to render, please try loading this page with nbviewer.org.</b></div><div class=\"sk-container\" hidden><div class=\"sk-item\"><div class=\"sk-estimator sk-toggleable\"><input class=\"sk-toggleable__control sk-hidden--visually\" id=\"sk-estimator-id-5\" type=\"checkbox\" checked><label for=\"sk-estimator-id-5\" class=\"sk-toggleable__label sk-toggleable__label-arrow\">LogisticRegression</label><div class=\"sk-toggleable__content\"><pre>LogisticRegression(n_jobs=-1, random_state=42)</pre></div></div></div></div></div>"
      ],
      "text/plain": [
       "LogisticRegression(n_jobs=-1, random_state=42)"
      ]
     },
     "execution_count": 148,
     "metadata": {},
     "output_type": "execute_result"
    }
   ],
   "source": [
    "reg = LogisticRegression(penalty='l2', max_iter=100, random_state=42, n_jobs=-1)\n",
    "reg.fit(X_train_ros, y_train_ros)"
   ]
  },
  {
   "cell_type": "code",
   "execution_count": 149,
   "id": "782fd3fc",
   "metadata": {},
   "outputs": [],
   "source": [
    "y_pred_tr = reg.predict(X_train_ros)\n",
    "y_pred_valid = reg.predict(X_valid)\n",
    "y_pred = reg.predict(X_test_new)"
   ]
  },
  {
   "cell_type": "code",
   "execution_count": 150,
   "id": "91d1a52b",
   "metadata": {},
   "outputs": [
    {
     "name": "stdout",
     "output_type": "stream",
     "text": [
      "[0.90409272 0.78467221 0.97419129 0.81948925 0.97100256]\n"
     ]
    }
   ],
   "source": [
    "# Predict probabilities on test set\n",
    "p_test = reg.predict_proba(X_test_new) \n",
    "\n",
    "# Look at the first 5 probabilities\n",
    "print(p_test[:5, 1])"
   ]
  },
  {
   "cell_type": "code",
   "execution_count": 151,
   "id": "7e2906ed",
   "metadata": {},
   "outputs": [
    {
     "name": "stdout",
     "output_type": "stream",
     "text": [
      "ROC AUC: 0.6894\n"
     ]
    }
   ],
   "source": [
    "from sklearn.metrics import roc_auc_score\n",
    "print(\"ROC AUC:\", round(roc_auc_score(y_test, p_test[:, 1]), 4))"
   ]
  },
  {
   "cell_type": "code",
   "execution_count": 152,
   "id": "e78210bd",
   "metadata": {},
   "outputs": [
    {
     "data": {
      "text/plain": [
       "0.7970116618075802"
      ]
     },
     "execution_count": 152,
     "metadata": {},
     "output_type": "execute_result"
    }
   ],
   "source": [
    "reg.score(X_train_ros, y_train_ros)"
   ]
  },
  {
   "cell_type": "code",
   "execution_count": 153,
   "id": "b2af2edd",
   "metadata": {},
   "outputs": [
    {
     "data": {
      "text/plain": [
       "<sklearn.metrics._plot.roc_curve.RocCurveDisplay at 0x7f9279dc90a0>"
      ]
     },
     "execution_count": 153,
     "metadata": {},
     "output_type": "execute_result"
    },
    {
     "data": {
      "image/png": "[encoded data removed]",
      "text/plain": [
       "<Figure size 360x360 with 1 Axes>"
      ]
     },
     "metadata": {},
     "output_type": "display_data"
    }
   ],
   "source": [
    "fig, ax = plt.subplots(figsize=(5, 5))\n",
    "\n",
    "RocCurveDisplay.from_estimator(reg, X_train_ros, y_train_ros, ax=ax)\n",
    "RocCurveDisplay.from_estimator(reg, X_valid, y_valid, ax=ax)\n",
    "RocCurveDisplay.from_estimator(reg, X_test_new, y_test, ax=ax)"
   ]
  },
  {
   "cell_type": "code",
   "execution_count": 154,
   "id": "4a1ca2d4",
   "metadata": {},
   "outputs": [
    {
     "name": "stdout",
     "output_type": "stream",
     "text": [
      "Train  accuracy score: 0.80\n",
      "Train  precision score: 0.80\n",
      "Train  recall score: 0.94\n",
      "Train  f1 score: 0.86\n"
     ]
    }
   ],
   "source": [
    "accuracy, precision, recall, f1 = calculating_the_metrics(y_train_ros, y_pred_tr)\n",
    "print_the_metrics('Train ', accuracy, precision, recall, f1)"
   ]
  },
  {
   "cell_type": "code",
   "execution_count": 155,
   "id": "d5729ca7",
   "metadata": {},
   "outputs": [
    {
     "name": "stdout",
     "output_type": "stream",
     "text": [
      "Valid accuracy score: 0.79\n",
      "Valid precision score: 0.81\n",
      "Valid recall score: 0.95\n",
      "Valid f1 score: 0.88\n"
     ]
    }
   ],
   "source": [
    "accuracy, precision, recall, f1 = calculating_the_metrics(y_valid, y_pred_valid)\n",
    "print_the_metrics('Valid', accuracy, precision, recall, f1)"
   ]
  },
  {
   "cell_type": "code",
   "execution_count": 156,
   "id": "fa3c914e",
   "metadata": {},
   "outputs": [
    {
     "name": "stdout",
     "output_type": "stream",
     "text": [
      "Test  accuracy score: 0.87\n",
      "Test  precision score: 0.89\n",
      "Test  recall score: 0.97\n",
      "Test  f1 score: 0.93\n"
     ]
    }
   ],
   "source": [
    "accuracy, precision, recall, f1 = calculating_the_metrics(y_test, y_pred)\n",
    "print_the_metrics('Test ', accuracy, precision, recall, f1)"
   ]
  },
  {
   "cell_type": "markdown",
   "id": "a72d754f",
   "metadata": {},
   "source": [
    "## RandomForest with Grid Search"
   ]
  },
  {
   "cell_type": "code",
   "execution_count": 157,
   "id": "811432e3",
   "metadata": {},
   "outputs": [],
   "source": [
    "from sklearn.model_selection import GridSearchCV"
   ]
  },
  {
   "cell_type": "code",
   "execution_count": 158,
   "id": "2fa72924",
   "metadata": {},
   "outputs": [],
   "source": [
    "forest = RandomForestClassifier(random_state=42)"
   ]
  },
  {
   "cell_type": "code",
   "execution_count": 159,
   "id": "fbb5253a",
   "metadata": {},
   "outputs": [
    {
     "name": "stderr",
     "output_type": "stream",
     "text": [
      "/opt/conda/lib/python3.9/site-packages/sklearn/utils/validation.py:768: UserWarning: pandas.DataFrame with sparse columns found.It will be converted to a dense numpy array.\n",
      "  warnings.warn(\n",
      "/opt/conda/lib/python3.9/site-packages/sklearn/utils/validation.py:768: UserWarning: pandas.DataFrame with sparse columns found.It will be converted to a dense numpy array.\n",
      "  warnings.warn(\n",
      "/opt/conda/lib/python3.9/site-packages/sklearn/utils/validation.py:768: UserWarning: pandas.DataFrame with sparse columns found.It will be converted to a dense numpy array.\n",
      "  warnings.warn(\n",
      "/opt/conda/lib/python3.9/site-packages/sklearn/utils/validation.py:768: UserWarning: pandas.DataFrame with sparse columns found.It will be converted to a dense numpy array.\n",
      "  warnings.warn(\n",
      "/opt/conda/lib/python3.9/site-packages/sklearn/utils/validation.py:768: UserWarning: pandas.DataFrame with sparse columns found.It will be converted to a dense numpy array.\n",
      "  warnings.warn(\n",
      "/opt/conda/lib/python3.9/site-packages/sklearn/utils/validation.py:768: UserWarning: pandas.DataFrame with sparse columns found.It will be converted to a dense numpy array.\n",
      "  warnings.warn(\n",
      "/opt/conda/lib/python3.9/site-packages/sklearn/utils/validation.py:768: UserWarning: pandas.DataFrame with sparse columns found.It will be converted to a dense numpy array.\n",
      "  warnings.warn(\n",
      "/opt/conda/lib/python3.9/site-packages/sklearn/utils/validation.py:768: UserWarning: pandas.DataFrame with sparse columns found.It will be converted to a dense numpy array.\n",
      "  warnings.warn(\n",
      "/opt/conda/lib/python3.9/site-packages/sklearn/utils/validation.py:768: UserWarning: pandas.DataFrame with sparse columns found.It will be converted to a dense numpy array.\n",
      "  warnings.warn(\n",
      "/opt/conda/lib/python3.9/site-packages/sklearn/utils/validation.py:768: UserWarning: pandas.DataFrame with sparse columns found.It will be converted to a dense numpy array.\n",
      "  warnings.warn(\n",
      "/opt/conda/lib/python3.9/site-packages/sklearn/utils/validation.py:768: UserWarning: pandas.DataFrame with sparse columns found.It will be converted to a dense numpy array.\n",
      "  warnings.warn(\n",
      "/opt/conda/lib/python3.9/site-packages/sklearn/utils/validation.py:768: UserWarning: pandas.DataFrame with sparse columns found.It will be converted to a dense numpy array.\n",
      "  warnings.warn(\n",
      "/opt/conda/lib/python3.9/site-packages/sklearn/utils/validation.py:768: UserWarning: pandas.DataFrame with sparse columns found.It will be converted to a dense numpy array.\n",
      "  warnings.warn(\n",
      "/opt/conda/lib/python3.9/site-packages/sklearn/utils/validation.py:768: UserWarning: pandas.DataFrame with sparse columns found.It will be converted to a dense numpy array.\n",
      "  warnings.warn(\n",
      "/opt/conda/lib/python3.9/site-packages/sklearn/utils/validation.py:768: UserWarning: pandas.DataFrame with sparse columns found.It will be converted to a dense numpy array.\n",
      "  warnings.warn(\n",
      "/opt/conda/lib/python3.9/site-packages/sklearn/utils/validation.py:768: UserWarning: pandas.DataFrame with sparse columns found.It will be converted to a dense numpy array.\n",
      "  warnings.warn(\n",
      "/opt/conda/lib/python3.9/site-packages/sklearn/utils/validation.py:768: UserWarning: pandas.DataFrame with sparse columns found.It will be converted to a dense numpy array.\n",
      "  warnings.warn(\n",
      "/opt/conda/lib/python3.9/site-packages/sklearn/utils/validation.py:768: UserWarning: pandas.DataFrame with sparse columns found.It will be converted to a dense numpy array.\n",
      "  warnings.warn(\n",
      "/opt/conda/lib/python3.9/site-packages/sklearn/utils/validation.py:768: UserWarning: pandas.DataFrame with sparse columns found.It will be converted to a dense numpy array.\n",
      "  warnings.warn(\n",
      "/opt/conda/lib/python3.9/site-packages/sklearn/utils/validation.py:768: UserWarning: pandas.DataFrame with sparse columns found.It will be converted to a dense numpy array.\n",
      "  warnings.warn(\n",
      "/opt/conda/lib/python3.9/site-packages/sklearn/utils/validation.py:768: UserWarning: pandas.DataFrame with sparse columns found.It will be converted to a dense numpy array.\n",
      "  warnings.warn(\n",
      "/opt/conda/lib/python3.9/site-packages/sklearn/utils/validation.py:768: UserWarning: pandas.DataFrame with sparse columns found.It will be converted to a dense numpy array.\n",
      "  warnings.warn(\n",
      "/opt/conda/lib/python3.9/site-packages/sklearn/utils/validation.py:768: UserWarning: pandas.DataFrame with sparse columns found.It will be converted to a dense numpy array.\n",
      "  warnings.warn(\n",
      "/opt/conda/lib/python3.9/site-packages/sklearn/utils/validation.py:768: UserWarning: pandas.DataFrame with sparse columns found.It will be converted to a dense numpy array.\n",
      "  warnings.warn(\n",
      "/opt/conda/lib/python3.9/site-packages/sklearn/utils/validation.py:768: UserWarning: pandas.DataFrame with sparse columns found.It will be converted to a dense numpy array.\n",
      "  warnings.warn(\n",
      "/opt/conda/lib/python3.9/site-packages/sklearn/utils/validation.py:768: UserWarning: pandas.DataFrame with sparse columns found.It will be converted to a dense numpy array.\n",
      "  warnings.warn(\n",
      "/opt/conda/lib/python3.9/site-packages/sklearn/utils/validation.py:768: UserWarning: pandas.DataFrame with sparse columns found.It will be converted to a dense numpy array.\n",
      "  warnings.warn(\n",
      "/opt/conda/lib/python3.9/site-packages/sklearn/utils/validation.py:768: UserWarning: pandas.DataFrame with sparse columns found.It will be converted to a dense numpy array.\n",
      "  warnings.warn(\n",
      "/opt/conda/lib/python3.9/site-packages/sklearn/utils/validation.py:768: UserWarning: pandas.DataFrame with sparse columns found.It will be converted to a dense numpy array.\n",
      "  warnings.warn(\n",
      "/opt/conda/lib/python3.9/site-packages/sklearn/utils/validation.py:768: UserWarning: pandas.DataFrame with sparse columns found.It will be converted to a dense numpy array.\n",
      "  warnings.warn(\n",
      "/opt/conda/lib/python3.9/site-packages/sklearn/utils/validation.py:768: UserWarning: pandas.DataFrame with sparse columns found.It will be converted to a dense numpy array.\n",
      "  warnings.warn(\n",
      "/opt/conda/lib/python3.9/site-packages/sklearn/utils/validation.py:768: UserWarning: pandas.DataFrame with sparse columns found.It will be converted to a dense numpy array.\n",
      "  warnings.warn(\n",
      "/opt/conda/lib/python3.9/site-packages/sklearn/utils/validation.py:768: UserWarning: pandas.DataFrame with sparse columns found.It will be converted to a dense numpy array.\n",
      "  warnings.warn(\n",
      "/opt/conda/lib/python3.9/site-packages/sklearn/utils/validation.py:768: UserWarning: pandas.DataFrame with sparse columns found.It will be converted to a dense numpy array.\n",
      "  warnings.warn(\n",
      "/opt/conda/lib/python3.9/site-packages/sklearn/utils/validation.py:768: UserWarning: pandas.DataFrame with sparse columns found.It will be converted to a dense numpy array.\n",
      "  warnings.warn(\n",
      "/opt/conda/lib/python3.9/site-packages/sklearn/utils/validation.py:768: UserWarning: pandas.DataFrame with sparse columns found.It will be converted to a dense numpy array.\n",
      "  warnings.warn(\n",
      "/opt/conda/lib/python3.9/site-packages/sklearn/utils/validation.py:768: UserWarning: pandas.DataFrame with sparse columns found.It will be converted to a dense numpy array.\n",
      "  warnings.warn(\n",
      "/opt/conda/lib/python3.9/site-packages/sklearn/utils/validation.py:768: UserWarning: pandas.DataFrame with sparse columns found.It will be converted to a dense numpy array.\n",
      "  warnings.warn(\n",
      "/opt/conda/lib/python3.9/site-packages/sklearn/utils/validation.py:768: UserWarning: pandas.DataFrame with sparse columns found.It will be converted to a dense numpy array.\n",
      "  warnings.warn(\n",
      "/opt/conda/lib/python3.9/site-packages/sklearn/utils/validation.py:768: UserWarning: pandas.DataFrame with sparse columns found.It will be converted to a dense numpy array.\n",
      "  warnings.warn(\n",
      "/opt/conda/lib/python3.9/site-packages/sklearn/utils/validation.py:768: UserWarning: pandas.DataFrame with sparse columns found.It will be converted to a dense numpy array.\n",
      "  warnings.warn(\n",
      "/opt/conda/lib/python3.9/site-packages/sklearn/utils/validation.py:768: UserWarning: pandas.DataFrame with sparse columns found.It will be converted to a dense numpy array.\n",
      "  warnings.warn(\n",
      "/opt/conda/lib/python3.9/site-packages/sklearn/utils/validation.py:768: UserWarning: pandas.DataFrame with sparse columns found.It will be converted to a dense numpy array.\n",
      "  warnings.warn(\n",
      "/opt/conda/lib/python3.9/site-packages/sklearn/utils/validation.py:768: UserWarning: pandas.DataFrame with sparse columns found.It will be converted to a dense numpy array.\n",
      "  warnings.warn(\n",
      "/opt/conda/lib/python3.9/site-packages/sklearn/utils/validation.py:768: UserWarning: pandas.DataFrame with sparse columns found.It will be converted to a dense numpy array.\n",
      "  warnings.warn(\n",
      "/opt/conda/lib/python3.9/site-packages/sklearn/utils/validation.py:768: UserWarning: pandas.DataFrame with sparse columns found.It will be converted to a dense numpy array.\n",
      "  warnings.warn(\n",
      "/opt/conda/lib/python3.9/site-packages/sklearn/utils/validation.py:768: UserWarning: pandas.DataFrame with sparse columns found.It will be converted to a dense numpy array.\n",
      "  warnings.warn(\n",
      "/opt/conda/lib/python3.9/site-packages/sklearn/utils/validation.py:768: UserWarning: pandas.DataFrame with sparse columns found.It will be converted to a dense numpy array.\n",
      "  warnings.warn(\n",
      "/opt/conda/lib/python3.9/site-packages/sklearn/utils/validation.py:768: UserWarning: pandas.DataFrame with sparse columns found.It will be converted to a dense numpy array.\n",
      "  warnings.warn(\n",
      "/opt/conda/lib/python3.9/site-packages/sklearn/utils/validation.py:768: UserWarning: pandas.DataFrame with sparse columns found.It will be converted to a dense numpy array.\n",
      "  warnings.warn(\n",
      "/opt/conda/lib/python3.9/site-packages/sklearn/utils/validation.py:768: UserWarning: pandas.DataFrame with sparse columns found.It will be converted to a dense numpy array.\n",
      "  warnings.warn(\n",
      "/opt/conda/lib/python3.9/site-packages/sklearn/utils/validation.py:768: UserWarning: pandas.DataFrame with sparse columns found.It will be converted to a dense numpy array.\n",
      "  warnings.warn(\n",
      "/opt/conda/lib/python3.9/site-packages/sklearn/utils/validation.py:768: UserWarning: pandas.DataFrame with sparse columns found.It will be converted to a dense numpy array.\n",
      "  warnings.warn(\n",
      "/opt/conda/lib/python3.9/site-packages/sklearn/utils/validation.py:768: UserWarning: pandas.DataFrame with sparse columns found.It will be converted to a dense numpy array.\n",
      "  warnings.warn(\n",
      "/opt/conda/lib/python3.9/site-packages/sklearn/utils/validation.py:768: UserWarning: pandas.DataFrame with sparse columns found.It will be converted to a dense numpy array.\n",
      "  warnings.warn(\n",
      "/opt/conda/lib/python3.9/site-packages/sklearn/utils/validation.py:768: UserWarning: pandas.DataFrame with sparse columns found.It will be converted to a dense numpy array.\n",
      "  warnings.warn(\n",
      "/opt/conda/lib/python3.9/site-packages/sklearn/utils/validation.py:768: UserWarning: pandas.DataFrame with sparse columns found.It will be converted to a dense numpy array.\n",
      "  warnings.warn(\n",
      "/opt/conda/lib/python3.9/site-packages/sklearn/utils/validation.py:768: UserWarning: pandas.DataFrame with sparse columns found.It will be converted to a dense numpy array.\n",
      "  warnings.warn(\n",
      "/opt/conda/lib/python3.9/site-packages/sklearn/utils/validation.py:768: UserWarning: pandas.DataFrame with sparse columns found.It will be converted to a dense numpy array.\n",
      "  warnings.warn(\n",
      "/opt/conda/lib/python3.9/site-packages/sklearn/utils/validation.py:768: UserWarning: pandas.DataFrame with sparse columns found.It will be converted to a dense numpy array.\n",
      "  warnings.warn(\n",
      "/opt/conda/lib/python3.9/site-packages/sklearn/utils/validation.py:768: UserWarning: pandas.DataFrame with sparse columns found.It will be converted to a dense numpy array.\n",
      "  warnings.warn(\n",
      "/opt/conda/lib/python3.9/site-packages/sklearn/utils/validation.py:768: UserWarning: pandas.DataFrame with sparse columns found.It will be converted to a dense numpy array.\n",
      "  warnings.warn(\n",
      "/opt/conda/lib/python3.9/site-packages/sklearn/utils/validation.py:768: UserWarning: pandas.DataFrame with sparse columns found.It will be converted to a dense numpy array.\n",
      "  warnings.warn(\n",
      "/opt/conda/lib/python3.9/site-packages/sklearn/utils/validation.py:768: UserWarning: pandas.DataFrame with sparse columns found.It will be converted to a dense numpy array.\n",
      "  warnings.warn(\n",
      "/opt/conda/lib/python3.9/site-packages/sklearn/utils/validation.py:768: UserWarning: pandas.DataFrame with sparse columns found.It will be converted to a dense numpy array.\n",
      "  warnings.warn(\n",
      "/opt/conda/lib/python3.9/site-packages/sklearn/utils/validation.py:768: UserWarning: pandas.DataFrame with sparse columns found.It will be converted to a dense numpy array.\n",
      "  warnings.warn(\n",
      "/opt/conda/lib/python3.9/site-packages/sklearn/utils/validation.py:768: UserWarning: pandas.DataFrame with sparse columns found.It will be converted to a dense numpy array.\n",
      "  warnings.warn(\n",
      "/opt/conda/lib/python3.9/site-packages/sklearn/utils/validation.py:768: UserWarning: pandas.DataFrame with sparse columns found.It will be converted to a dense numpy array.\n",
      "  warnings.warn(\n",
      "/opt/conda/lib/python3.9/site-packages/sklearn/utils/validation.py:768: UserWarning: pandas.DataFrame with sparse columns found.It will be converted to a dense numpy array.\n",
      "  warnings.warn(\n",
      "/opt/conda/lib/python3.9/site-packages/sklearn/utils/validation.py:768: UserWarning: pandas.DataFrame with sparse columns found.It will be converted to a dense numpy array.\n",
      "  warnings.warn(\n",
      "/opt/conda/lib/python3.9/site-packages/sklearn/utils/validation.py:768: UserWarning: pandas.DataFrame with sparse columns found.It will be converted to a dense numpy array.\n",
      "  warnings.warn(\n",
      "/opt/conda/lib/python3.9/site-packages/sklearn/utils/validation.py:768: UserWarning: pandas.DataFrame with sparse columns found.It will be converted to a dense numpy array.\n",
      "  warnings.warn(\n",
      "/opt/conda/lib/python3.9/site-packages/sklearn/utils/validation.py:768: UserWarning: pandas.DataFrame with sparse columns found.It will be converted to a dense numpy array.\n",
      "  warnings.warn(\n",
      "/opt/conda/lib/python3.9/site-packages/sklearn/utils/validation.py:768: UserWarning: pandas.DataFrame with sparse columns found.It will be converted to a dense numpy array.\n",
      "  warnings.warn(\n",
      "/opt/conda/lib/python3.9/site-packages/sklearn/utils/validation.py:768: UserWarning: pandas.DataFrame with sparse columns found.It will be converted to a dense numpy array.\n",
      "  warnings.warn(\n",
      "/opt/conda/lib/python3.9/site-packages/sklearn/utils/validation.py:768: UserWarning: pandas.DataFrame with sparse columns found.It will be converted to a dense numpy array.\n",
      "  warnings.warn(\n",
      "/opt/conda/lib/python3.9/site-packages/sklearn/utils/validation.py:768: UserWarning: pandas.DataFrame with sparse columns found.It will be converted to a dense numpy array.\n",
      "  warnings.warn(\n",
      "/opt/conda/lib/python3.9/site-packages/sklearn/utils/validation.py:768: UserWarning: pandas.DataFrame with sparse columns found.It will be converted to a dense numpy array.\n",
      "  warnings.warn(\n",
      "/opt/conda/lib/python3.9/site-packages/sklearn/utils/validation.py:768: UserWarning: pandas.DataFrame with sparse columns found.It will be converted to a dense numpy array.\n",
      "  warnings.warn(\n",
      "/opt/conda/lib/python3.9/site-packages/sklearn/utils/validation.py:768: UserWarning: pandas.DataFrame with sparse columns found.It will be converted to a dense numpy array.\n",
      "  warnings.warn(\n",
      "/opt/conda/lib/python3.9/site-packages/sklearn/utils/validation.py:768: UserWarning: pandas.DataFrame with sparse columns found.It will be converted to a dense numpy array.\n",
      "  warnings.warn(\n",
      "/opt/conda/lib/python3.9/site-packages/sklearn/utils/validation.py:768: UserWarning: pandas.DataFrame with sparse columns found.It will be converted to a dense numpy array.\n",
      "  warnings.warn(\n",
      "/opt/conda/lib/python3.9/site-packages/sklearn/utils/validation.py:768: UserWarning: pandas.DataFrame with sparse columns found.It will be converted to a dense numpy array.\n",
      "  warnings.warn(\n",
      "/opt/conda/lib/python3.9/site-packages/sklearn/utils/validation.py:768: UserWarning: pandas.DataFrame with sparse columns found.It will be converted to a dense numpy array.\n",
      "  warnings.warn(\n",
      "/opt/conda/lib/python3.9/site-packages/sklearn/utils/validation.py:768: UserWarning: pandas.DataFrame with sparse columns found.It will be converted to a dense numpy array.\n",
      "  warnings.warn(\n",
      "/opt/conda/lib/python3.9/site-packages/sklearn/utils/validation.py:768: UserWarning: pandas.DataFrame with sparse columns found.It will be converted to a dense numpy array.\n",
      "  warnings.warn(\n",
      "/opt/conda/lib/python3.9/site-packages/sklearn/utils/validation.py:768: UserWarning: pandas.DataFrame with sparse columns found.It will be converted to a dense numpy array.\n",
      "  warnings.warn(\n",
      "/opt/conda/lib/python3.9/site-packages/sklearn/utils/validation.py:768: UserWarning: pandas.DataFrame with sparse columns found.It will be converted to a dense numpy array.\n",
      "  warnings.warn(\n",
      "/opt/conda/lib/python3.9/site-packages/sklearn/utils/validation.py:768: UserWarning: pandas.DataFrame with sparse columns found.It will be converted to a dense numpy array.\n",
      "  warnings.warn(\n",
      "/opt/conda/lib/python3.9/site-packages/sklearn/utils/validation.py:768: UserWarning: pandas.DataFrame with sparse columns found.It will be converted to a dense numpy array.\n",
      "  warnings.warn(\n",
      "/opt/conda/lib/python3.9/site-packages/sklearn/utils/validation.py:768: UserWarning: pandas.DataFrame with sparse columns found.It will be converted to a dense numpy array.\n",
      "  warnings.warn(\n",
      "/opt/conda/lib/python3.9/site-packages/sklearn/utils/validation.py:768: UserWarning: pandas.DataFrame with sparse columns found.It will be converted to a dense numpy array.\n",
      "  warnings.warn(\n",
      "/opt/conda/lib/python3.9/site-packages/sklearn/utils/validation.py:768: UserWarning: pandas.DataFrame with sparse columns found.It will be converted to a dense numpy array.\n",
      "  warnings.warn(\n",
      "/opt/conda/lib/python3.9/site-packages/sklearn/utils/validation.py:768: UserWarning: pandas.DataFrame with sparse columns found.It will be converted to a dense numpy array.\n",
      "  warnings.warn(\n",
      "/opt/conda/lib/python3.9/site-packages/sklearn/utils/validation.py:768: UserWarning: pandas.DataFrame with sparse columns found.It will be converted to a dense numpy array.\n",
      "  warnings.warn(\n",
      "/opt/conda/lib/python3.9/site-packages/sklearn/utils/validation.py:768: UserWarning: pandas.DataFrame with sparse columns found.It will be converted to a dense numpy array.\n",
      "  warnings.warn(\n",
      "/opt/conda/lib/python3.9/site-packages/sklearn/utils/validation.py:768: UserWarning: pandas.DataFrame with sparse columns found.It will be converted to a dense numpy array.\n",
      "  warnings.warn(\n",
      "/opt/conda/lib/python3.9/site-packages/sklearn/utils/validation.py:768: UserWarning: pandas.DataFrame with sparse columns found.It will be converted to a dense numpy array.\n",
      "  warnings.warn(\n",
      "/opt/conda/lib/python3.9/site-packages/sklearn/utils/validation.py:768: UserWarning: pandas.DataFrame with sparse columns found.It will be converted to a dense numpy array.\n",
      "  warnings.warn(\n",
      "/opt/conda/lib/python3.9/site-packages/sklearn/utils/validation.py:768: UserWarning: pandas.DataFrame with sparse columns found.It will be converted to a dense numpy array.\n",
      "  warnings.warn(\n",
      "/opt/conda/lib/python3.9/site-packages/sklearn/utils/validation.py:768: UserWarning: pandas.DataFrame with sparse columns found.It will be converted to a dense numpy array.\n",
      "  warnings.warn(\n",
      "/opt/conda/lib/python3.9/site-packages/sklearn/utils/validation.py:768: UserWarning: pandas.DataFrame with sparse columns found.It will be converted to a dense numpy array.\n",
      "  warnings.warn(\n",
      "/opt/conda/lib/python3.9/site-packages/sklearn/utils/validation.py:768: UserWarning: pandas.DataFrame with sparse columns found.It will be converted to a dense numpy array.\n",
      "  warnings.warn(\n",
      "/opt/conda/lib/python3.9/site-packages/sklearn/utils/validation.py:768: UserWarning: pandas.DataFrame with sparse columns found.It will be converted to a dense numpy array.\n",
      "  warnings.warn(\n",
      "/opt/conda/lib/python3.9/site-packages/sklearn/utils/validation.py:768: UserWarning: pandas.DataFrame with sparse columns found.It will be converted to a dense numpy array.\n",
      "  warnings.warn(\n",
      "/opt/conda/lib/python3.9/site-packages/sklearn/utils/validation.py:768: UserWarning: pandas.DataFrame with sparse columns found.It will be converted to a dense numpy array.\n",
      "  warnings.warn(\n",
      "/opt/conda/lib/python3.9/site-packages/sklearn/utils/validation.py:768: UserWarning: pandas.DataFrame with sparse columns found.It will be converted to a dense numpy array.\n",
      "  warnings.warn(\n",
      "/opt/conda/lib/python3.9/site-packages/sklearn/utils/validation.py:768: UserWarning: pandas.DataFrame with sparse columns found.It will be converted to a dense numpy array.\n",
      "  warnings.warn(\n",
      "/opt/conda/lib/python3.9/site-packages/sklearn/utils/validation.py:768: UserWarning: pandas.DataFrame with sparse columns found.It will be converted to a dense numpy array.\n",
      "  warnings.warn(\n",
      "/opt/conda/lib/python3.9/site-packages/sklearn/utils/validation.py:768: UserWarning: pandas.DataFrame with sparse columns found.It will be converted to a dense numpy array.\n",
      "  warnings.warn(\n",
      "/opt/conda/lib/python3.9/site-packages/sklearn/utils/validation.py:768: UserWarning: pandas.DataFrame with sparse columns found.It will be converted to a dense numpy array.\n",
      "  warnings.warn(\n",
      "/opt/conda/lib/python3.9/site-packages/sklearn/utils/validation.py:768: UserWarning: pandas.DataFrame with sparse columns found.It will be converted to a dense numpy array.\n",
      "  warnings.warn(\n",
      "/opt/conda/lib/python3.9/site-packages/sklearn/utils/validation.py:768: UserWarning: pandas.DataFrame with sparse columns found.It will be converted to a dense numpy array.\n",
      "  warnings.warn(\n",
      "/opt/conda/lib/python3.9/site-packages/sklearn/utils/validation.py:768: UserWarning: pandas.DataFrame with sparse columns found.It will be converted to a dense numpy array.\n",
      "  warnings.warn(\n",
      "/opt/conda/lib/python3.9/site-packages/sklearn/utils/validation.py:768: UserWarning: pandas.DataFrame with sparse columns found.It will be converted to a dense numpy array.\n",
      "  warnings.warn(\n",
      "/opt/conda/lib/python3.9/site-packages/sklearn/utils/validation.py:768: UserWarning: pandas.DataFrame with sparse columns found.It will be converted to a dense numpy array.\n",
      "  warnings.warn(\n",
      "/opt/conda/lib/python3.9/site-packages/sklearn/utils/validation.py:768: UserWarning: pandas.DataFrame with sparse columns found.It will be converted to a dense numpy array.\n",
      "  warnings.warn(\n",
      "/opt/conda/lib/python3.9/site-packages/sklearn/utils/validation.py:768: UserWarning: pandas.DataFrame with sparse columns found.It will be converted to a dense numpy array.\n",
      "  warnings.warn(\n",
      "/opt/conda/lib/python3.9/site-packages/sklearn/utils/validation.py:768: UserWarning: pandas.DataFrame with sparse columns found.It will be converted to a dense numpy array.\n",
      "  warnings.warn(\n",
      "/opt/conda/lib/python3.9/site-packages/sklearn/utils/validation.py:768: UserWarning: pandas.DataFrame with sparse columns found.It will be converted to a dense numpy array.\n",
      "  warnings.warn(\n"
     ]
    },
    {
     "name": "stdout",
     "output_type": "stream",
     "text": [
      "The best hyperparameters are  {'max_depth': 10, 'n_estimators': 200}\n"
     ]
    }
   ],
   "source": [
    "param_grid_forest = dict(\n",
    "    n_estimators=[50, 100, 200],\n",
    "    max_depth=[3, 5, 7,10]\n",
    "    )\n",
    "\n",
    "grid_search_forest = GridSearchCV(estimator=forest, param_grid=param_grid_forest, \n",
    "                                  cv=tscv, n_jobs = -1).fit( X_train_ros, y_train_ros)\n",
    "\n",
    "print(\"The best hyperparameters are \",grid_search_forest.best_params_)"
   ]
  },
  {
   "cell_type": "code",
   "execution_count": 160,
   "id": "32dd5e90",
   "metadata": {},
   "outputs": [
    {
     "data": {
      "text/html": [
       "<style>#sk-container-id-6 {color: black;background-color: white;}#sk-container-id-6 pre{padding: 0;}#sk-container-id-6 div.sk-toggleable {background-color: white;}#sk-container-id-6 label.sk-toggleable__label {cursor: pointer;display: block;width: 100%;margin-bottom: 0;padding: 0.3em;box-sizing: border-box;text-align: center;}#sk-container-id-6 label.sk-toggleable__label-arrow:before {content: \"▸\";float: left;margin-right: 0.25em;color: #696969;}#sk-container-id-6 label.sk-toggleable__label-arrow:hover:before {color: black;}#sk-container-id-6 div.sk-estimator:hover label.sk-toggleable__label-arrow:before {color: black;}#sk-container-id-6 div.sk-toggleable__content {max-height: 0;max-width: 0;overflow: hidden;text-align: left;background-color: #f0f8ff;}#sk-container-id-6 div.sk-toggleable__content pre {margin: 0.2em;color: black;border-radius: 0.25em;background-color: #f0f8ff;}#sk-container-id-6 input.sk-toggleable__control:checked~div.sk-toggleable__content {max-height: 200px;max-width: 100%;overflow: auto;}#sk-container-id-6 input.sk-toggleable__control:checked~label.sk-toggleable__label-arrow:before {content: \"▾\";}#sk-container-id-6 div.sk-estimator input.sk-toggleable__control:checked~label.sk-toggleable__label {background-color: #d4ebff;}#sk-container-id-6 div.sk-label input.sk-toggleable__control:checked~label.sk-toggleable__label {background-color: #d4ebff;}#sk-container-id-6 input.sk-hidden--visually {border: 0;clip: rect(1px 1px 1px 1px);clip: rect(1px, 1px, 1px, 1px);height: 1px;margin: -1px;overflow: hidden;padding: 0;position: absolute;width: 1px;}#sk-container-id-6 div.sk-estimator {font-family: monospace;background-color: #f0f8ff;border: 1px dotted black;border-radius: 0.25em;box-sizing: border-box;margin-bottom: 0.5em;}#sk-container-id-6 div.sk-estimator:hover {background-color: #d4ebff;}#sk-container-id-6 div.sk-parallel-item::after {content: \"\";width: 100%;border-bottom: 1px solid gray;flex-grow: 1;}#sk-container-id-6 div.sk-label:hover label.sk-toggleable__label {background-color: #d4ebff;}#sk-container-id-6 div.sk-serial::before {content: \"\";position: absolute;border-left: 1px solid gray;box-sizing: border-box;top: 0;bottom: 0;left: 50%;z-index: 0;}#sk-container-id-6 div.sk-serial {display: flex;flex-direction: column;align-items: center;background-color: white;padding-right: 0.2em;padding-left: 0.2em;position: relative;}#sk-container-id-6 div.sk-item {position: relative;z-index: 1;}#sk-container-id-6 div.sk-parallel {display: flex;align-items: stretch;justify-content: center;background-color: white;position: relative;}#sk-container-id-6 div.sk-item::before, #sk-container-id-6 div.sk-parallel-item::before {content: \"\";position: absolute;border-left: 1px solid gray;box-sizing: border-box;top: 0;bottom: 0;left: 50%;z-index: -1;}#sk-container-id-6 div.sk-parallel-item {display: flex;flex-direction: column;z-index: 1;position: relative;background-color: white;}#sk-container-id-6 div.sk-parallel-item:first-child::after {align-self: flex-end;width: 50%;}#sk-container-id-6 div.sk-parallel-item:last-child::after {align-self: flex-start;width: 50%;}#sk-container-id-6 div.sk-parallel-item:only-child::after {width: 0;}#sk-container-id-6 div.sk-dashed-wrapped {border: 1px dashed gray;margin: 0 0.4em 0.5em 0.4em;box-sizing: border-box;padding-bottom: 0.4em;background-color: white;}#sk-container-id-6 div.sk-label label {font-family: monospace;font-weight: bold;display: inline-block;line-height: 1.2em;}#sk-container-id-6 div.sk-label-container {text-align: center;}#sk-container-id-6 div.sk-container {/* jupyter's `normalize.less` sets `[hidden] { display: none; }` but bootstrap.min.css set `[hidden] { display: none !important; }` so we also need the `!important` here to be able to override the default hidden behavior on the sphinx rendered scikit-learn.org. See: https://github.com/scikit-learn/scikit-learn/issues/21755 */display: inline-block !important;position: relative;}#sk-container-id-6 div.sk-text-repr-fallback {display: none;}</style><div id=\"sk-container-id-6\" class=\"sk-top-container\"><div class=\"sk-text-repr-fallback\"><pre>RandomForestClassifier(max_depth=10, n_estimators=200, random_state=42)</pre><b>In a Jupyter environment, please rerun this cell to show the HTML representation or trust the notebook. <br />On GitHub, the HTML representation is unable to render, please try loading this page with nbviewer.org.</b></div><div class=\"sk-container\" hidden><div class=\"sk-item\"><div class=\"sk-estimator sk-toggleable\"><input class=\"sk-toggleable__control sk-hidden--visually\" id=\"sk-estimator-id-6\" type=\"checkbox\" checked><label for=\"sk-estimator-id-6\" class=\"sk-toggleable__label sk-toggleable__label-arrow\">RandomForestClassifier</label><div class=\"sk-toggleable__content\"><pre>RandomForestClassifier(max_depth=10, n_estimators=200, random_state=42)</pre></div></div></div></div></div>"
      ],
      "text/plain": [
       "RandomForestClassifier(max_depth=10, n_estimators=200, random_state=42)"
      ]
     },
     "execution_count": 160,
     "metadata": {},
     "output_type": "execute_result"
    }
   ],
   "source": [
    "forest = RandomForestClassifier(n_estimators  = grid_search_forest.best_params_[\"n_estimators\"],\n",
    "                               max_depth = grid_search_forest.best_params_[\"max_depth\"],\n",
    "                              random_state=42)\n",
    "forest.fit(X_train_ros, y_train_ros)"
   ]
  },
  {
   "cell_type": "code",
   "execution_count": 161,
   "id": "bfab5b40",
   "metadata": {},
   "outputs": [],
   "source": [
    "y_pred_rf_train = forest.predict(X_train_ros)\n",
    "y_pred_rf_valid = forest.predict(X_valid)\n",
    "y_pred_rf = forest.predict(X_test_new)"
   ]
  },
  {
   "cell_type": "code",
   "execution_count": 162,
   "id": "ead8a00c",
   "metadata": {},
   "outputs": [
    {
     "data": {
      "text/plain": [
       "<sklearn.metrics._plot.roc_curve.RocCurveDisplay at 0x7f9275e95d30>"
      ]
     },
     "execution_count": 162,
     "metadata": {},
     "output_type": "execute_result"
    },
    {
     "data": {
      "image/png": "[encoded data removed]",
      "text/plain": [
       "<Figure size 360x360 with 1 Axes>"
      ]
     },
     "metadata": {},
     "output_type": "display_data"
    }
   ],
   "source": [
    "fig, ax = plt.subplots(figsize=(5, 5))\n",
    "\n",
    "RocCurveDisplay.from_estimator(forest, X_train_ros, y_train_ros, ax=ax)\n",
    "RocCurveDisplay.from_estimator(forest, X_valid, y_valid, ax=ax)\n",
    "RocCurveDisplay.from_estimator(forest, X_test_new, y_test, ax=ax)"
   ]
  },
  {
   "cell_type": "code",
   "execution_count": 163,
   "id": "b7535cd6",
   "metadata": {},
   "outputs": [
    {
     "name": "stdout",
     "output_type": "stream",
     "text": [
      "Train  accuracy score: 0.77\n",
      "Train  precision score: 0.75\n",
      "Train  recall score: 1.00\n",
      "Train  f1 score: 0.86\n"
     ]
    }
   ],
   "source": [
    "accuracy, precision, recall, f1 = calculating_the_metrics(y_train_ros, y_pred_rf_train)\n",
    "print_the_metrics('Train ', accuracy, precision, recall, f1)"
   ]
  },
  {
   "cell_type": "code",
   "execution_count": 164,
   "id": "5e43c8aa",
   "metadata": {},
   "outputs": [
    {
     "name": "stdout",
     "output_type": "stream",
     "text": [
      "Valid  accuracy score: 0.79\n",
      "Valid  precision score: 0.79\n",
      "Valid  recall score: 1.00\n",
      "Valid  f1 score: 0.88\n"
     ]
    }
   ],
   "source": [
    "accuracy, precision, recall, f1 = calculating_the_metrics(y_valid, y_pred_rf_valid)\n",
    "print_the_metrics('Valid ', accuracy, precision, recall, f1)"
   ]
  },
  {
   "cell_type": "code",
   "execution_count": 165,
   "id": "16b71330",
   "metadata": {},
   "outputs": [
    {
     "name": "stdout",
     "output_type": "stream",
     "text": [
      "Test  accuracy score: 0.87\n",
      "Test  precision score: 0.87\n",
      "Test  recall score: 1.00\n",
      "Test  f1 score: 0.93\n"
     ]
    }
   ],
   "source": [
    "accuracy, precision, recall, f1 = calculating_the_metrics(y_test, y_pred_rf)\n",
    "print_the_metrics('Test ', accuracy, precision, recall, f1)"
   ]
  },
  {
   "cell_type": "markdown",
   "id": "62e70ba2",
   "metadata": {},
   "source": [
    "### Light Gradient Boosting Machine"
   ]
  },
  {
   "cell_type": "code",
   "execution_count": 166,
   "id": "53fc996c",
   "metadata": {},
   "outputs": [
    {
     "data": {
      "text/html": [
       "<style>#sk-container-id-7 {color: black;background-color: white;}#sk-container-id-7 pre{padding: 0;}#sk-container-id-7 div.sk-toggleable {background-color: white;}#sk-container-id-7 label.sk-toggleable__label {cursor: pointer;display: block;width: 100%;margin-bottom: 0;padding: 0.3em;box-sizing: border-box;text-align: center;}#sk-container-id-7 label.sk-toggleable__label-arrow:before {content: \"▸\";float: left;margin-right: 0.25em;color: #696969;}#sk-container-id-7 label.sk-toggleable__label-arrow:hover:before {color: black;}#sk-container-id-7 div.sk-estimator:hover label.sk-toggleable__label-arrow:before {color: black;}#sk-container-id-7 div.sk-toggleable__content {max-height: 0;max-width: 0;overflow: hidden;text-align: left;background-color: #f0f8ff;}#sk-container-id-7 div.sk-toggleable__content pre {margin: 0.2em;color: black;border-radius: 0.25em;background-color: #f0f8ff;}#sk-container-id-7 input.sk-toggleable__control:checked~div.sk-toggleable__content {max-height: 200px;max-width: 100%;overflow: auto;}#sk-container-id-7 input.sk-toggleable__control:checked~label.sk-toggleable__label-arrow:before {content: \"▾\";}#sk-container-id-7 div.sk-estimator input.sk-toggleable__control:checked~label.sk-toggleable__label {background-color: #d4ebff;}#sk-container-id-7 div.sk-label input.sk-toggleable__control:checked~label.sk-toggleable__label {background-color: #d4ebff;}#sk-container-id-7 input.sk-hidden--visually {border: 0;clip: rect(1px 1px 1px 1px);clip: rect(1px, 1px, 1px, 1px);height: 1px;margin: -1px;overflow: hidden;padding: 0;position: absolute;width: 1px;}#sk-container-id-7 div.sk-estimator {font-family: monospace;background-color: #f0f8ff;border: 1px dotted black;border-radius: 0.25em;box-sizing: border-box;margin-bottom: 0.5em;}#sk-container-id-7 div.sk-estimator:hover {background-color: #d4ebff;}#sk-container-id-7 div.sk-parallel-item::after {content: \"\";width: 100%;border-bottom: 1px solid gray;flex-grow: 1;}#sk-container-id-7 div.sk-label:hover label.sk-toggleable__label {background-color: #d4ebff;}#sk-container-id-7 div.sk-serial::before {content: \"\";position: absolute;border-left: 1px solid gray;box-sizing: border-box;top: 0;bottom: 0;left: 50%;z-index: 0;}#sk-container-id-7 div.sk-serial {display: flex;flex-direction: column;align-items: center;background-color: white;padding-right: 0.2em;padding-left: 0.2em;position: relative;}#sk-container-id-7 div.sk-item {position: relative;z-index: 1;}#sk-container-id-7 div.sk-parallel {display: flex;align-items: stretch;justify-content: center;background-color: white;position: relative;}#sk-container-id-7 div.sk-item::before, #sk-container-id-7 div.sk-parallel-item::before {content: \"\";position: absolute;border-left: 1px solid gray;box-sizing: border-box;top: 0;bottom: 0;left: 50%;z-index: -1;}#sk-container-id-7 div.sk-parallel-item {display: flex;flex-direction: column;z-index: 1;position: relative;background-color: white;}#sk-container-id-7 div.sk-parallel-item:first-child::after {align-self: flex-end;width: 50%;}#sk-container-id-7 div.sk-parallel-item:last-child::after {align-self: flex-start;width: 50%;}#sk-container-id-7 div.sk-parallel-item:only-child::after {width: 0;}#sk-container-id-7 div.sk-dashed-wrapped {border: 1px dashed gray;margin: 0 0.4em 0.5em 0.4em;box-sizing: border-box;padding-bottom: 0.4em;background-color: white;}#sk-container-id-7 div.sk-label label {font-family: monospace;font-weight: bold;display: inline-block;line-height: 1.2em;}#sk-container-id-7 div.sk-label-container {text-align: center;}#sk-container-id-7 div.sk-container {/* jupyter's `normalize.less` sets `[hidden] { display: none; }` but bootstrap.min.css set `[hidden] { display: none !important; }` so we also need the `!important` here to be able to override the default hidden behavior on the sphinx rendered scikit-learn.org. See: https://github.com/scikit-learn/scikit-learn/issues/21755 */display: inline-block !important;position: relative;}#sk-container-id-7 div.sk-text-repr-fallback {display: none;}</style><div id=\"sk-container-id-7\" class=\"sk-top-container\"><div class=\"sk-text-repr-fallback\"><pre>LGBMClassifier(objective=&#x27;binary&#x27;, random_state=42)</pre><b>In a Jupyter environment, please rerun this cell to show the HTML representation or trust the notebook. <br />On GitHub, the HTML representation is unable to render, please try loading this page with nbviewer.org.</b></div><div class=\"sk-container\" hidden><div class=\"sk-item\"><div class=\"sk-estimator sk-toggleable\"><input class=\"sk-toggleable__control sk-hidden--visually\" id=\"sk-estimator-id-7\" type=\"checkbox\" checked><label for=\"sk-estimator-id-7\" class=\"sk-toggleable__label sk-toggleable__label-arrow\">LGBMClassifier</label><div class=\"sk-toggleable__content\"><pre>LGBMClassifier(objective=&#x27;binary&#x27;, random_state=42)</pre></div></div></div></div></div>"
      ],
      "text/plain": [
       "LGBMClassifier(objective='binary', random_state=42)"
      ]
     },
     "execution_count": 166,
     "metadata": {},
     "output_type": "execute_result"
    }
   ],
   "source": [
    "lgbm = LGBMClassifier(objective='binary', random_state = 42)\n",
    "lgbm.fit(X_train_ros, y_train_ros)"
   ]
  },
  {
   "cell_type": "code",
   "execution_count": 167,
   "id": "5a8b0e11",
   "metadata": {},
   "outputs": [
    {
     "name": "stdout",
     "output_type": "stream",
     "text": [
      "The best hyperparameters are  {'max_depth': 10, 'n_estimators': 200}\n"
     ]
    }
   ],
   "source": [
    "param_grid_lgbm = dict(\n",
    "    n_estimators=[50, 100, 200],\n",
    "    max_depth=[3, 5, 7,10]\n",
    "    )\n",
    "\n",
    "grid_search_lgbm = GridSearchCV(estimator=lgbm, param_grid=param_grid_lgbm, \n",
    "                                  cv=tscv, n_jobs = -1).fit(X_train_ros, y_train_ros)\n",
    "\n",
    "print(\"The best hyperparameters are \",grid_search_lgbm.best_params_)"
   ]
  },
  {
   "cell_type": "code",
   "execution_count": 168,
   "id": "0e239a60",
   "metadata": {},
   "outputs": [
    {
     "data": {
      "text/html": [
       "<style>#sk-container-id-8 {color: black;background-color: white;}#sk-container-id-8 pre{padding: 0;}#sk-container-id-8 div.sk-toggleable {background-color: white;}#sk-container-id-8 label.sk-toggleable__label {cursor: pointer;display: block;width: 100%;margin-bottom: 0;padding: 0.3em;box-sizing: border-box;text-align: center;}#sk-container-id-8 label.sk-toggleable__label-arrow:before {content: \"▸\";float: left;margin-right: 0.25em;color: #696969;}#sk-container-id-8 label.sk-toggleable__label-arrow:hover:before {color: black;}#sk-container-id-8 div.sk-estimator:hover label.sk-toggleable__label-arrow:before {color: black;}#sk-container-id-8 div.sk-toggleable__content {max-height: 0;max-width: 0;overflow: hidden;text-align: left;background-color: #f0f8ff;}#sk-container-id-8 div.sk-toggleable__content pre {margin: 0.2em;color: black;border-radius: 0.25em;background-color: #f0f8ff;}#sk-container-id-8 input.sk-toggleable__control:checked~div.sk-toggleable__content {max-height: 200px;max-width: 100%;overflow: auto;}#sk-container-id-8 input.sk-toggleable__control:checked~label.sk-toggleable__label-arrow:before {content: \"▾\";}#sk-container-id-8 div.sk-estimator input.sk-toggleable__control:checked~label.sk-toggleable__label {background-color: #d4ebff;}#sk-container-id-8 div.sk-label input.sk-toggleable__control:checked~label.sk-toggleable__label {background-color: #d4ebff;}#sk-container-id-8 input.sk-hidden--visually {border: 0;clip: rect(1px 1px 1px 1px);clip: rect(1px, 1px, 1px, 1px);height: 1px;margin: -1px;overflow: hidden;padding: 0;position: absolute;width: 1px;}#sk-container-id-8 div.sk-estimator {font-family: monospace;background-color: #f0f8ff;border: 1px dotted black;border-radius: 0.25em;box-sizing: border-box;margin-bottom: 0.5em;}#sk-container-id-8 div.sk-estimator:hover {background-color: #d4ebff;}#sk-container-id-8 div.sk-parallel-item::after {content: \"\";width: 100%;border-bottom: 1px solid gray;flex-grow: 1;}#sk-container-id-8 div.sk-label:hover label.sk-toggleable__label {background-color: #d4ebff;}#sk-container-id-8 div.sk-serial::before {content: \"\";position: absolute;border-left: 1px solid gray;box-sizing: border-box;top: 0;bottom: 0;left: 50%;z-index: 0;}#sk-container-id-8 div.sk-serial {display: flex;flex-direction: column;align-items: center;background-color: white;padding-right: 0.2em;padding-left: 0.2em;position: relative;}#sk-container-id-8 div.sk-item {position: relative;z-index: 1;}#sk-container-id-8 div.sk-parallel {display: flex;align-items: stretch;justify-content: center;background-color: white;position: relative;}#sk-container-id-8 div.sk-item::before, #sk-container-id-8 div.sk-parallel-item::before {content: \"\";position: absolute;border-left: 1px solid gray;box-sizing: border-box;top: 0;bottom: 0;left: 50%;z-index: -1;}#sk-container-id-8 div.sk-parallel-item {display: flex;flex-direction: column;z-index: 1;position: relative;background-color: white;}#sk-container-id-8 div.sk-parallel-item:first-child::after {align-self: flex-end;width: 50%;}#sk-container-id-8 div.sk-parallel-item:last-child::after {align-self: flex-start;width: 50%;}#sk-container-id-8 div.sk-parallel-item:only-child::after {width: 0;}#sk-container-id-8 div.sk-dashed-wrapped {border: 1px dashed gray;margin: 0 0.4em 0.5em 0.4em;box-sizing: border-box;padding-bottom: 0.4em;background-color: white;}#sk-container-id-8 div.sk-label label {font-family: monospace;font-weight: bold;display: inline-block;line-height: 1.2em;}#sk-container-id-8 div.sk-label-container {text-align: center;}#sk-container-id-8 div.sk-container {/* jupyter's `normalize.less` sets `[hidden] { display: none; }` but bootstrap.min.css set `[hidden] { display: none !important; }` so we also need the `!important` here to be able to override the default hidden behavior on the sphinx rendered scikit-learn.org. See: https://github.com/scikit-learn/scikit-learn/issues/21755 */display: inline-block !important;position: relative;}#sk-container-id-8 div.sk-text-repr-fallback {display: none;}</style><div id=\"sk-container-id-8\" class=\"sk-top-container\"><div class=\"sk-text-repr-fallback\"><pre>LGBMClassifier(max_depth=10, n_estimators=200, objective=&#x27;binary&#x27;,\n",
       "               random_state=42)</pre><b>In a Jupyter environment, please rerun this cell to show the HTML representation or trust the notebook. <br />On GitHub, the HTML representation is unable to render, please try loading this page with nbviewer.org.</b></div><div class=\"sk-container\" hidden><div class=\"sk-item\"><div class=\"sk-estimator sk-toggleable\"><input class=\"sk-toggleable__control sk-hidden--visually\" id=\"sk-estimator-id-8\" type=\"checkbox\" checked><label for=\"sk-estimator-id-8\" class=\"sk-toggleable__label sk-toggleable__label-arrow\">LGBMClassifier</label><div class=\"sk-toggleable__content\"><pre>LGBMClassifier(max_depth=10, n_estimators=200, objective=&#x27;binary&#x27;,\n",
       "               random_state=42)</pre></div></div></div></div></div>"
      ],
      "text/plain": [
       "LGBMClassifier(max_depth=10, n_estimators=200, objective='binary',\n",
       "               random_state=42)"
      ]
     },
     "execution_count": 168,
     "metadata": {},
     "output_type": "execute_result"
    }
   ],
   "source": [
    "lgbm = LGBMClassifier(objective='binary', n_estimators  = grid_search_lgbm.best_params_[\"n_estimators\"],\n",
    "                               max_depth = grid_search_lgbm.best_params_[\"max_depth\"],\n",
    "                              random_state=42)\n",
    "lgbm.fit(X_train_ros, y_train_ros)"
   ]
  },
  {
   "cell_type": "code",
   "execution_count": 169,
   "id": "db5f37d0",
   "metadata": {},
   "outputs": [],
   "source": [
    "y_pred_lgbm_train = lgbm.predict(X_train_ros)\n",
    "y_pred_lgbm_valid = lgbm.predict(X_valid)\n",
    "y_pred_lgbm = lgbm.predict(X_test_new)"
   ]
  },
  {
   "cell_type": "code",
   "execution_count": 170,
   "id": "2d095414",
   "metadata": {},
   "outputs": [
    {
     "data": {
      "text/plain": [
       "0.9606413994169096"
      ]
     },
     "execution_count": 170,
     "metadata": {},
     "output_type": "execute_result"
    }
   ],
   "source": [
    "lgbm.score(X_train_ros, y_train_ros)"
   ]
  },
  {
   "cell_type": "code",
   "execution_count": 171,
   "id": "69d92f42",
   "metadata": {},
   "outputs": [
    {
     "name": "stdout",
     "output_type": "stream",
     "text": [
      "[0.95020094 0.70322089 0.97748891 0.83066779 0.99765204]\n"
     ]
    }
   ],
   "source": [
    "# Predict probabilities on test set\n",
    "p_test = lgbm.predict_proba(X_test_new) \n",
    "\n",
    "# Look at the first 5 probabilities\n",
    "print(p_test[:5, 1])"
   ]
  },
  {
   "cell_type": "code",
   "execution_count": 172,
   "id": "7cdfab8c",
   "metadata": {},
   "outputs": [
    {
     "name": "stdout",
     "output_type": "stream",
     "text": [
      "ROC AUC: 0.6372\n"
     ]
    }
   ],
   "source": [
    "from sklearn.metrics import roc_auc_score\n",
    "print(\"ROC AUC:\", round(roc_auc_score(y_test, p_test[:, 1]), 4))"
   ]
  },
  {
   "cell_type": "code",
   "execution_count": 173,
   "id": "f32348f1",
   "metadata": {},
   "outputs": [
    {
     "data": {
      "text/plain": [
       "<sklearn.metrics._plot.roc_curve.RocCurveDisplay at 0x7f927a22ae80>"
      ]
     },
     "execution_count": 173,
     "metadata": {},
     "output_type": "execute_result"
    },
    {
     "data": {
      "image/png": "[encoded data removed]",
      "text/plain": [
       "<Figure size 360x360 with 1 Axes>"
      ]
     },
     "metadata": {},
     "output_type": "display_data"
    }
   ],
   "source": [
    "fig, ax = plt.subplots(figsize=(5, 5))\n",
    "\n",
    "RocCurveDisplay.from_estimator(lgbm, X_train_ros, y_train_ros, ax=ax)\n",
    "RocCurveDisplay.from_estimator(lgbm, X_valid, y_valid, ax=ax)\n",
    "RocCurveDisplay.from_estimator(lgbm, X_test_new, y_test, ax=ax)"
   ]
  },
  {
   "cell_type": "code",
   "execution_count": 174,
   "id": "3a2ef301",
   "metadata": {},
   "outputs": [
    {
     "name": "stdout",
     "output_type": "stream",
     "text": [
      "Train  accuracy score: 0.96\n",
      "Train  precision score: 0.97\n",
      "Train  recall score: 0.98\n",
      "Train  f1 score: 0.97\n"
     ]
    }
   ],
   "source": [
    "accuracy, precision, recall, f1 = calculating_the_metrics(y_train_ros, y_pred_lgbm_train)\n",
    "print_the_metrics('Train ', accuracy, precision, recall, f1)"
   ]
  },
  {
   "cell_type": "code",
   "execution_count": 175,
   "id": "924933b9",
   "metadata": {},
   "outputs": [
    {
     "name": "stdout",
     "output_type": "stream",
     "text": [
      "Valid  accuracy score: 0.80\n",
      "Valid  precision score: 0.83\n",
      "Valid  recall score: 0.94\n",
      "Valid  f1 score: 0.88\n"
     ]
    }
   ],
   "source": [
    "accuracy, precision, recall, f1 = calculating_the_metrics(y_valid, y_pred_lgbm_valid)\n",
    "print_the_metrics('Valid ', accuracy, precision, recall, f1)"
   ]
  },
  {
   "cell_type": "code",
   "execution_count": 176,
   "id": "413fd2e0",
   "metadata": {},
   "outputs": [
    {
     "name": "stdout",
     "output_type": "stream",
     "text": [
      "Test  accuracy score: 0.85\n",
      "Test  precision score: 0.89\n",
      "Test  recall score: 0.95\n",
      "Test  f1 score: 0.92\n"
     ]
    }
   ],
   "source": [
    "accuracy, precision, recall, f1 = calculating_the_metrics(y_test, y_pred_lgbm)\n",
    "print_the_metrics('Test ', accuracy, precision, recall, f1)"
   ]
  },
  {
   "cell_type": "code",
   "execution_count": 177,
   "id": "c06cf01c",
   "metadata": {},
   "outputs": [
    {
     "data": {
      "image/png": "[encoded data removed]",
      "text/plain": [
       "<Figure size 432x432 with 1 Axes>"
      ]
     },
     "metadata": {},
     "output_type": "display_data"
    }
   ],
   "source": [
    "from lightgbm import plot_importance\n",
    "import matplotlib.pyplot as plt\n",
    "plt.style.use('ggplot')\n",
    "plt.rcParams.update({'font.size': 14, 'text.color' : \"black\"})\n",
    "\n",
    "fig, ax = plt.subplots(figsize=(6, 6))\n",
    "plot_importance(lgbm, max_num_features=20, ax=ax)\n",
    "plt.show();"
   ]
  },
  {
   "cell_type": "code",
   "execution_count": 184,
   "id": "de973351",
   "metadata": {},
   "outputs": [
    {
     "data": {
      "text/plain": [
       "[('выпускница', -1.9926215432180343),\n",
       " ('бизнес школа', -1.8277232673736263),\n",
       " ('проходить', -1.5962773321068064),\n",
       " ('октябрь', -1.5558931056868206),\n",
       " ('технология', -1.2513007636955642)]"
      ]
     },
     "execution_count": 184,
     "metadata": {},
     "output_type": "execute_result"
    }
   ],
   "source": [
    "# Extract array of tupels containing word and its weight.\n",
    "\n",
    "word_coefs = [(f, reg.coef_[0][i]) for f, i in vectorizer.vocabulary_.items()]\n",
    "word_coefs.sort(key=lambda x: x[1])\n",
    "word_coefs[:5]"
   ]
  },
  {
   "cell_type": "code",
   "execution_count": 185,
   "id": "f3c6e080",
   "metadata": {},
   "outputs": [],
   "source": [
    "from matplotlib import pyplot as plt\n",
    "from wordcloud import WordCloud"
   ]
  },
  {
   "cell_type": "code",
   "execution_count": 186,
   "id": "57b1d0df",
   "metadata": {},
   "outputs": [],
   "source": [
    "def draw_word_cloud(word_coefs):\n",
    "    x, y = np.ogrid[:500, :500]\n",
    "    mask = (x - 250) ** 2 + (y - 250) ** 2 > 230 ** 2\n",
    "    mask = 255 * mask.astype(int)\n",
    "    \n",
    "    word_cloud = WordCloud(background_color=\"black\", mask=mask)\n",
    "    word_cloud.generate_from_frequencies(word_coefs)\n",
    "    \n",
    "    plt.figure(figsize=(8, 8))\n",
    "    plt.imshow(word_cloud, interpolation=\"bilinear\")\n",
    "    plt.axis(\"off\")\n",
    "    plt.show()"
   ]
  },
  {
   "cell_type": "code",
   "execution_count": null,
   "id": "502995f3",
   "metadata": {},
   "outputs": [],
   "source": []
  }
 ],
 "metadata": {
  "kernelspec": {
   "display_name": "Python 3 (ipykernel)",
   "language": "python",
   "name": "python3"
  },
  "language_info": {
   "codemirror_mode": {
    "name": "ipython",
    "version": 3
   },
   "file_extension": ".py",
   "mimetype": "text/x-python",
   "name": "python",
   "nbconvert_exporter": "python",
   "pygments_lexer": "ipython3",
   "version": "3.9.7"
  }
 },
 "nbformat": 4,
 "nbformat_minor": 5
}
