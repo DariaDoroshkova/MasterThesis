{
 "cells": [
  {
   "cell_type": "code",
   "execution_count": 1,
   "id": "01139bf4",
   "metadata": {},
   "outputs": [
    {
     "name": "stdout",
     "output_type": "stream",
     "text": [
      "Requirement already satisfied: pymorphy2 in /opt/conda/lib/python3.9/site-packages (0.9.1)\n",
      "Requirement already satisfied: pymorphy2-dicts-ru<3.0,>=2.4 in /opt/conda/lib/python3.9/site-packages (from pymorphy2) (2.4.417127.4579844)\n",
      "Requirement already satisfied: docopt>=0.6 in /opt/conda/lib/python3.9/site-packages (from pymorphy2) (0.6.2)\n",
      "Requirement already satisfied: dawg-python>=0.7.1 in /opt/conda/lib/python3.9/site-packages (from pymorphy2) (0.7.2)\n",
      "Note: you may need to restart the kernel to use updated packages.\n"
     ]
    }
   ],
   "source": [
    "pip install pymorphy2"
   ]
  },
  {
   "cell_type": "code",
   "execution_count": 2,
   "id": "51204671",
   "metadata": {},
   "outputs": [
    {
     "name": "stdout",
     "output_type": "stream",
     "text": [
      "Requirement already satisfied: nltk in /opt/conda/lib/python3.9/site-packages (3.8.1)\n",
      "Requirement already satisfied: click in /opt/conda/lib/python3.9/site-packages (from nltk) (8.0.3)\n",
      "Requirement already satisfied: joblib in /opt/conda/lib/python3.9/site-packages (from nltk) (1.1.0)\n",
      "Requirement already satisfied: tqdm in /opt/conda/lib/python3.9/site-packages (from nltk) (4.62.3)\n",
      "Requirement already satisfied: regex>=2021.8.3 in /opt/conda/lib/python3.9/site-packages (from nltk) (2023.5.5)\n",
      "Note: you may need to restart the kernel to use updated packages.\n"
     ]
    }
   ],
   "source": [
    "pip install nltk"
   ]
  },
  {
   "cell_type": "code",
   "execution_count": 3,
   "id": "3bdbeaba",
   "metadata": {},
   "outputs": [],
   "source": [
    "from sklearn.feature_extraction.text import TfidfVectorizer\n",
    "from sklearn.cluster import DBSCAN\n",
    "from sklearn.preprocessing import StandardScaler\n",
    "from sklearn import metrics\n",
    "from sklearn.decomposition import PCA\n",
    "from sklearn.preprocessing import normalize\n",
    "# import other required libs\n",
    "import pandas as pd\n",
    "import numpy as np\n",
    "import pymorphy2 as pm\n",
    "import nltk\n",
    "\n",
    "# viz libs\n",
    "import matplotlib.pyplot as plt\n",
    "import seaborn as sns"
   ]
  },
  {
   "cell_type": "code",
   "execution_count": 4,
   "id": "73eb3ab4",
   "metadata": {},
   "outputs": [
    {
     "name": "stdout",
     "output_type": "stream",
     "text": [
      "cores: 10\n"
     ]
    }
   ],
   "source": [
    "import os\n",
    "import re\n",
    "from tqdm.notebook import tqdm\n",
    "import multiprocessing\n",
    "from multiprocessing import Pool\n",
    "N_CORES = min(\n",
    "    multiprocessing.cpu_count(), \n",
    "    int(float(os.environ['CPU_LIMIT']))\n",
    ")\n",
    "\n",
    "print('cores:', N_CORES)\n",
    "pd.set_option('display.max_colwidth', 100)"
   ]
  },
  {
   "cell_type": "markdown",
   "id": "373cbad0",
   "metadata": {},
   "source": [
    "## Bachelors group"
   ]
  },
  {
   "cell_type": "code",
   "execution_count": 5,
   "id": "15d61752",
   "metadata": {},
   "outputs": [],
   "source": [
    "df = pd.read_csv('profile_info_gsom_bach.csv')"
   ]
  },
  {
   "cell_type": "code",
   "execution_count": 6,
   "id": "8f01f2ee",
   "metadata": {},
   "outputs": [
    {
     "name": "stdout",
     "output_type": "stream",
     "text": [
      "<class 'pandas.core.frame.DataFrame'>\n",
      "RangeIndex: 3431 entries, 0 to 3430\n",
      "Data columns (total 13 columns):\n",
      " #   Column              Non-Null Count  Dtype  \n",
      "---  ------              --------------  -----  \n",
      " 0   Unnamed: 0          3431 non-null   int64  \n",
      " 1   id                  3431 non-null   int64  \n",
      " 2   first_name          3431 non-null   object \n",
      " 3   last_name           3189 non-null   object \n",
      " 4   university_name     501 non-null    object \n",
      " 5   education_status    192 non-null    object \n",
      " 6   sex                 3431 non-null   int64  \n",
      " 7   interests           89 non-null     object \n",
      " 8   bdate               2729 non-null   object \n",
      " 9   city_id             2500 non-null   float64\n",
      " 10  city_title          2500 non-null   object \n",
      " 11  last_seen_platform  3030 non-null   float64\n",
      " 12  last_seen_time      3030 non-null   object \n",
      "dtypes: float64(2), int64(3), object(8)\n",
      "memory usage: 348.6+ KB\n"
     ]
    }
   ],
   "source": [
    "df.info()"
   ]
  },
  {
   "cell_type": "code",
   "execution_count": 7,
   "id": "0f2e7daa",
   "metadata": {},
   "outputs": [
    {
     "data": {
      "text/html": [
       "<div>\n",
       "<style scoped>\n",
       "    .dataframe tbody tr th:only-of-type {\n",
       "        vertical-align: middle;\n",
       "    }\n",
       "\n",
       "    .dataframe tbody tr th {\n",
       "        vertical-align: top;\n",
       "    }\n",
       "\n",
       "    .dataframe thead th {\n",
       "        text-align: right;\n",
       "    }\n",
       "</style>\n",
       "<table border=\"1\" class=\"dataframe\">\n",
       "  <thead>\n",
       "    <tr style=\"text-align: right;\">\n",
       "      <th></th>\n",
       "      <th>Unnamed: 0</th>\n",
       "      <th>id</th>\n",
       "      <th>first_name</th>\n",
       "      <th>last_name</th>\n",
       "      <th>university_name</th>\n",
       "      <th>education_status</th>\n",
       "      <th>sex</th>\n",
       "      <th>interests</th>\n",
       "      <th>bdate</th>\n",
       "      <th>city_id</th>\n",
       "      <th>city_title</th>\n",
       "      <th>last_seen_platform</th>\n",
       "      <th>last_seen_time</th>\n",
       "    </tr>\n",
       "  </thead>\n",
       "  <tbody>\n",
       "    <tr>\n",
       "      <th>0</th>\n",
       "      <td>0</td>\n",
       "      <td>959</td>\n",
       "      <td>Anna</td>\n",
       "      <td>Chaykina</td>\n",
       "      <td>NaN</td>\n",
       "      <td>NaN</td>\n",
       "      <td>1</td>\n",
       "      <td>NaN</td>\n",
       "      <td>25.4</td>\n",
       "      <td>2.0</td>\n",
       "      <td>Saint Petersburg</td>\n",
       "      <td>4.0</td>\n",
       "      <td>2023-05-01 22:05:44</td>\n",
       "    </tr>\n",
       "    <tr>\n",
       "      <th>1</th>\n",
       "      <td>1</td>\n",
       "      <td>1361</td>\n",
       "      <td>Anna</td>\n",
       "      <td>Veselova</td>\n",
       "      <td>NaN</td>\n",
       "      <td>NaN</td>\n",
       "      <td>1</td>\n",
       "      <td>NaN</td>\n",
       "      <td>24.7.1983</td>\n",
       "      <td>2.0</td>\n",
       "      <td>Saint Petersburg</td>\n",
       "      <td>2.0</td>\n",
       "      <td>2023-05-01 18:20:25</td>\n",
       "    </tr>\n",
       "  </tbody>\n",
       "</table>\n",
       "</div>"
      ],
      "text/plain": [
       "   Unnamed: 0    id first_name last_name university_name education_status  \\\n",
       "0           0   959       Anna  Chaykina             NaN              NaN   \n",
       "1           1  1361       Anna  Veselova             NaN              NaN   \n",
       "\n",
       "   sex interests      bdate  city_id        city_title  last_seen_platform  \\\n",
       "0    1       NaN       25.4      2.0  Saint Petersburg                 4.0   \n",
       "1    1       NaN  24.7.1983      2.0  Saint Petersburg                 2.0   \n",
       "\n",
       "        last_seen_time  \n",
       "0  2023-05-01 22:05:44  \n",
       "1  2023-05-01 18:20:25  "
      ]
     },
     "execution_count": 7,
     "metadata": {},
     "output_type": "execute_result"
    }
   ],
   "source": [
    "df.head(2)"
   ]
  },
  {
   "cell_type": "code",
   "execution_count": 8,
   "id": "7020b9e3",
   "metadata": {},
   "outputs": [],
   "source": [
    "df = df.loc[df['last_seen_time'] >= '2022-06-01']"
   ]
  },
  {
   "cell_type": "code",
   "execution_count": 9,
   "id": "fb4ce23a",
   "metadata": {},
   "outputs": [],
   "source": [
    "df = df.loc[df['bdate'].str.len() == 9]"
   ]
  },
  {
   "cell_type": "code",
   "execution_count": 10,
   "id": "2f2b982f",
   "metadata": {},
   "outputs": [
    {
     "name": "stdout",
     "output_type": "stream",
     "text": [
      "2023-05-21 19:20:49.098711\n"
     ]
    },
    {
     "name": "stderr",
     "output_type": "stream",
     "text": [
      "/opt/conda/lib/python3.9/site-packages/pandas/core/arrays/datetimes.py:2199: FutureWarning: The parsing of 'now' in pd.to_datetime without `utc=True` is deprecated. In a future version, this will match Timestamp('now') and Timestamp.now()\n",
      "  result, tz_parsed = tslib.array_to_datetime(\n"
     ]
    }
   ],
   "source": [
    "curr_time = pd.to_datetime(\"now\")\n",
    "print(curr_time)"
   ]
  },
  {
   "cell_type": "code",
   "execution_count": 11,
   "id": "e424e9a3",
   "metadata": {},
   "outputs": [],
   "source": [
    "df['bdate'] = pd.to_datetime(df.bdate, format='%d.%m.%Y')"
   ]
  },
  {
   "cell_type": "code",
   "execution_count": 12,
   "id": "dce6699b",
   "metadata": {},
   "outputs": [
    {
     "data": {
      "text/html": [
       "<div>\n",
       "<style scoped>\n",
       "    .dataframe tbody tr th:only-of-type {\n",
       "        vertical-align: middle;\n",
       "    }\n",
       "\n",
       "    .dataframe tbody tr th {\n",
       "        vertical-align: top;\n",
       "    }\n",
       "\n",
       "    .dataframe thead th {\n",
       "        text-align: right;\n",
       "    }\n",
       "</style>\n",
       "<table border=\"1\" class=\"dataframe\">\n",
       "  <thead>\n",
       "    <tr style=\"text-align: right;\">\n",
       "      <th></th>\n",
       "      <th>Unnamed: 0</th>\n",
       "      <th>id</th>\n",
       "      <th>first_name</th>\n",
       "      <th>last_name</th>\n",
       "      <th>university_name</th>\n",
       "      <th>education_status</th>\n",
       "      <th>sex</th>\n",
       "      <th>interests</th>\n",
       "      <th>bdate</th>\n",
       "      <th>city_id</th>\n",
       "      <th>city_title</th>\n",
       "      <th>last_seen_platform</th>\n",
       "      <th>last_seen_time</th>\n",
       "    </tr>\n",
       "  </thead>\n",
       "  <tbody>\n",
       "    <tr>\n",
       "      <th>1</th>\n",
       "      <td>1</td>\n",
       "      <td>1361</td>\n",
       "      <td>Anna</td>\n",
       "      <td>Veselova</td>\n",
       "      <td>NaN</td>\n",
       "      <td>NaN</td>\n",
       "      <td>1</td>\n",
       "      <td>NaN</td>\n",
       "      <td>1983-07-24</td>\n",
       "      <td>2.0</td>\n",
       "      <td>Saint Petersburg</td>\n",
       "      <td>2.0</td>\n",
       "      <td>2023-05-01 18:20:25</td>\n",
       "    </tr>\n",
       "    <tr>\n",
       "      <th>3</th>\n",
       "      <td>3</td>\n",
       "      <td>9088</td>\n",
       "      <td>Sergey</td>\n",
       "      <td>Cherepanov</td>\n",
       "      <td>NaN</td>\n",
       "      <td>NaN</td>\n",
       "      <td>2</td>\n",
       "      <td>NaN</td>\n",
       "      <td>1989-08-23</td>\n",
       "      <td>2.0</td>\n",
       "      <td>Saint Petersburg</td>\n",
       "      <td>4.0</td>\n",
       "      <td>2023-05-01 20:05:44</td>\n",
       "    </tr>\n",
       "  </tbody>\n",
       "</table>\n",
       "</div>"
      ],
      "text/plain": [
       "   Unnamed: 0    id first_name   last_name university_name education_status  \\\n",
       "1           1  1361       Anna    Veselova             NaN              NaN   \n",
       "3           3  9088     Sergey  Cherepanov             NaN              NaN   \n",
       "\n",
       "   sex interests      bdate  city_id        city_title  last_seen_platform  \\\n",
       "1    1       NaN 1983-07-24      2.0  Saint Petersburg                 2.0   \n",
       "3    2       NaN 1989-08-23      2.0  Saint Petersburg                 4.0   \n",
       "\n",
       "        last_seen_time  \n",
       "1  2023-05-01 18:20:25  \n",
       "3  2023-05-01 20:05:44  "
      ]
     },
     "execution_count": 12,
     "metadata": {},
     "output_type": "execute_result"
    }
   ],
   "source": [
    "df.head(2)"
   ]
  },
  {
   "cell_type": "code",
   "execution_count": 13,
   "id": "53744a8f-f04a-47f5-a84e-9061dbe2e728",
   "metadata": {},
   "outputs": [
    {
     "data": {
      "text/plain": [
       "Saint Petersburg    253\n",
       "Moscow               45\n",
       "Novosibirsk           8\n",
       "Krasnoyarsk           7\n",
       "Izhevsk               5\n",
       "                   ... \n",
       "Little Tokyo          1\n",
       "Berlin                1\n",
       "Stavropol             1\n",
       "Odessa                1\n",
       "Penza                 1\n",
       "Name: city_title, Length: 85, dtype: int64"
      ]
     },
     "execution_count": 13,
     "metadata": {},
     "output_type": "execute_result"
    }
   ],
   "source": [
    "df.city_title.value_counts()"
   ]
  },
  {
   "cell_type": "code",
   "execution_count": 14,
   "id": "529acf71-9018-409a-b50b-05f8d074cc6f",
   "metadata": {},
   "outputs": [],
   "source": [
    "Conditions = [\n",
    "    (df['city_title'] == 'Saint Petersburg'),\n",
    "    (df['city_title'] == 'Moscow'),\n",
    "    (df['city_title'] != 'Saint Petersburg')& (df['city_title'] != 'Moscow')\n",
    "]\n",
    "Categories = ['0', '1', '2']\n",
    "df['city'] = np.select(Conditions, Categories)\n",
    "#print(df)"
   ]
  },
  {
   "cell_type": "code",
   "execution_count": 15,
   "id": "1d546250-45a3-42c0-b0d9-8beb2f3384ab",
   "metadata": {},
   "outputs": [
    {
     "data": {
      "text/plain": [
       "2    269\n",
       "0    253\n",
       "1     45\n",
       "Name: city, dtype: int64"
      ]
     },
     "execution_count": 15,
     "metadata": {},
     "output_type": "execute_result"
    }
   ],
   "source": [
    "df.city.value_counts()"
   ]
  },
  {
   "cell_type": "code",
   "execution_count": 16,
   "id": "f45901e7",
   "metadata": {
    "scrolled": true
   },
   "outputs": [
    {
     "name": "stdout",
     "output_type": "stream",
     "text": [
      "      Unnamed: 0         id first_name   last_name university_name  \\\n",
      "1              1       1361       Anna    Veselova             NaN   \n",
      "3              3       9088     Sergey  Cherepanov             NaN   \n",
      "6              6      18619       Oleg      Koresh             NaN   \n",
      "9              9      38445      Alina    Borodina             NaN   \n",
      "14            14      73458      Maria    Smirnova             NaN   \n",
      "...          ...        ...        ...         ...             ...   \n",
      "3408        3408  744131146       Anna      Ermeni           СПбГУ   \n",
      "3409        3409  744825520       Ivan     Bushuev             NaN   \n",
      "3410        3410  745902835       Madi        Xoja             NaN   \n",
      "3428        3428  776095130       Rudi       Troya             NaN   \n",
      "3429        3429  787319478    Valeria  Shevchenko             NaN   \n",
      "\n",
      "     education_status  sex interests      bdate  city_id        city_title  \\\n",
      "1                 NaN    1       NaN 1983-07-24      2.0  Saint Petersburg   \n",
      "3                 NaN    2       NaN 1989-08-23      2.0  Saint Petersburg   \n",
      "6                 NaN    2       NaN 1987-05-23      2.0  Saint Petersburg   \n",
      "9                 NaN    1       NaN 1989-02-22      2.0  Saint Petersburg   \n",
      "14                NaN    1       NaN 1980-06-23      2.0  Saint Petersburg   \n",
      "...               ...  ...       ...        ...      ...               ...   \n",
      "3408              NaN    1       NaN 2003-08-30      2.0  Saint Petersburg   \n",
      "3409              NaN    2       NaN 2004-08-27      NaN               NaN   \n",
      "3410              NaN    1       NaN 2003-08-10      NaN               NaN   \n",
      "3428              NaN    2       NaN 2000-01-21      NaN               NaN   \n",
      "3429              NaN    1       NaN 2006-03-30      NaN               NaN   \n",
      "\n",
      "      last_seen_platform       last_seen_time city                  diff_days  \\\n",
      "1                    2.0  2023-05-01 18:20:25    0 14546 days 19:20:49.098711   \n",
      "3                    4.0  2023-05-01 20:05:44    0 12324 days 19:20:49.098711   \n",
      "6                    7.0  2023-04-28 10:28:22    0 13147 days 19:20:49.098711   \n",
      "9                    2.0  2023-05-01 21:49:18    0 12506 days 19:20:49.098711   \n",
      "14                   2.0  2023-03-03 22:23:49    0 15672 days 19:20:49.098711   \n",
      "...                  ...                  ...  ...                        ...   \n",
      "3408                 4.0  2023-05-01 16:54:46    0  7204 days 19:20:49.098711   \n",
      "3409                 2.0  2023-05-01 20:52:09    2  6841 days 19:20:49.098711   \n",
      "3410                 7.0  2023-03-19 19:20:48    2  7224 days 19:20:49.098711   \n",
      "3428                 7.0  2023-05-01 19:58:58    2  8521 days 19:20:49.098711   \n",
      "3429                 2.0  2023-05-01 08:04:53    2  6261 days 19:20:49.098711   \n",
      "\n",
      "      years_old  \n",
      "1     39.827802  \n",
      "3     33.744173  \n",
      "6     35.997471  \n",
      "9     34.242472  \n",
      "14    42.910686  \n",
      "...         ...  \n",
      "3408  19.726089  \n",
      "3409  18.732229  \n",
      "3410  19.780847  \n",
      "3428  23.331913  \n",
      "3429  17.144243  \n",
      "\n",
      "[567 rows x 16 columns]\n"
     ]
    }
   ],
   "source": [
    "df['diff_days'] = curr_time - df['bdate']\n",
    "# for days use 'D' for weeks use 'W', for month use 'M' and for years use 'Y'\n",
    "df['years_old']=df['diff_days']/np.timedelta64(1,'Y')      \n",
    "print(df)"
   ]
  },
  {
   "cell_type": "markdown",
   "id": "1351d9a0",
   "metadata": {},
   "source": [
    "## Clustering bachelor"
   ]
  },
  {
   "cell_type": "code",
   "execution_count": 17,
   "id": "0dde5907",
   "metadata": {},
   "outputs": [],
   "source": [
    "df_profile = df[[\"sex\", \"years_old\", 'city']]"
   ]
  },
  {
   "cell_type": "markdown",
   "id": "9a2c5467-6ae0-43a3-9a41-08babf7a9b1e",
   "metadata": {},
   "source": [
    "### DBSCAN "
   ]
  },
  {
   "cell_type": "markdown",
   "id": "af3bd840-1e5b-461a-b50a-4df81676a582",
   "metadata": {},
   "source": [
    "### scaling and normalizing the dataset\n"
   ]
  },
  {
   "cell_type": "code",
   "execution_count": 18,
   "id": "df37bc7c-8e20-409c-8b61-01c08a8afc90",
   "metadata": {},
   "outputs": [
    {
     "name": "stderr",
     "output_type": "stream",
     "text": [
      "/tmp/ipykernel_339/2130169438.py:3: SettingWithCopyWarning: \n",
      "A value is trying to be set on a copy of a slice from a DataFrame.\n",
      "Try using .loc[row_indexer,col_indexer] = value instead\n",
      "\n",
      "See the caveats in the documentation: https://pandas.pydata.org/pandas-docs/stable/user_guide/indexing.html#returning-a-view-versus-a-copy\n",
      "  df_profile[['years_old']] = scaler.fit_transform(df_profile[['years_old']])\n"
     ]
    }
   ],
   "source": [
    "from sklearn import preprocessing\n",
    "scaler = preprocessing.MinMaxScaler()\n",
    "df_profile[['years_old']] = scaler.fit_transform(df_profile[['years_old']])"
   ]
  },
  {
   "cell_type": "code",
   "execution_count": 19,
   "id": "a5b13ef8-2ad9-429f-a5fe-c2e1ec424385",
   "metadata": {},
   "outputs": [],
   "source": [
    "df_profile = pd.get_dummies(df_profile, columns=[\"sex\",\"city\"])"
   ]
  },
  {
   "cell_type": "code",
   "execution_count": 20,
   "id": "e68d7c58-ba4e-4d9b-87dc-2baadc9b7a17",
   "metadata": {},
   "outputs": [
    {
     "data": {
      "text/html": [
       "<div>\n",
       "<style scoped>\n",
       "    .dataframe tbody tr th:only-of-type {\n",
       "        vertical-align: middle;\n",
       "    }\n",
       "\n",
       "    .dataframe tbody tr th {\n",
       "        vertical-align: top;\n",
       "    }\n",
       "\n",
       "    .dataframe thead th {\n",
       "        text-align: right;\n",
       "    }\n",
       "</style>\n",
       "<table border=\"1\" class=\"dataframe\">\n",
       "  <thead>\n",
       "    <tr style=\"text-align: right;\">\n",
       "      <th></th>\n",
       "      <th>years_old</th>\n",
       "      <th>sex_1</th>\n",
       "      <th>sex_2</th>\n",
       "      <th>city_0</th>\n",
       "      <th>city_1</th>\n",
       "      <th>city_2</th>\n",
       "    </tr>\n",
       "  </thead>\n",
       "  <tbody>\n",
       "    <tr>\n",
       "      <th>1</th>\n",
       "      <td>0.233271</td>\n",
       "      <td>1</td>\n",
       "      <td>0</td>\n",
       "      <td>1</td>\n",
       "      <td>0</td>\n",
       "      <td>0</td>\n",
       "    </tr>\n",
       "    <tr>\n",
       "      <th>3</th>\n",
       "      <td>0.176456</td>\n",
       "      <td>0</td>\n",
       "      <td>1</td>\n",
       "      <td>1</td>\n",
       "      <td>0</td>\n",
       "      <td>0</td>\n",
       "    </tr>\n",
       "    <tr>\n",
       "      <th>6</th>\n",
       "      <td>0.197499</td>\n",
       "      <td>0</td>\n",
       "      <td>1</td>\n",
       "      <td>1</td>\n",
       "      <td>0</td>\n",
       "      <td>0</td>\n",
       "    </tr>\n",
       "    <tr>\n",
       "      <th>9</th>\n",
       "      <td>0.181109</td>\n",
       "      <td>1</td>\n",
       "      <td>0</td>\n",
       "      <td>1</td>\n",
       "      <td>0</td>\n",
       "      <td>0</td>\n",
       "    </tr>\n",
       "    <tr>\n",
       "      <th>14</th>\n",
       "      <td>0.262062</td>\n",
       "      <td>1</td>\n",
       "      <td>0</td>\n",
       "      <td>1</td>\n",
       "      <td>0</td>\n",
       "      <td>0</td>\n",
       "    </tr>\n",
       "    <tr>\n",
       "      <th>...</th>\n",
       "      <td>...</td>\n",
       "      <td>...</td>\n",
       "      <td>...</td>\n",
       "      <td>...</td>\n",
       "      <td>...</td>\n",
       "      <td>...</td>\n",
       "    </tr>\n",
       "    <tr>\n",
       "      <th>3408</th>\n",
       "      <td>0.045539</td>\n",
       "      <td>1</td>\n",
       "      <td>0</td>\n",
       "      <td>1</td>\n",
       "      <td>0</td>\n",
       "      <td>0</td>\n",
       "    </tr>\n",
       "    <tr>\n",
       "      <th>3409</th>\n",
       "      <td>0.036258</td>\n",
       "      <td>0</td>\n",
       "      <td>1</td>\n",
       "      <td>0</td>\n",
       "      <td>0</td>\n",
       "      <td>1</td>\n",
       "    </tr>\n",
       "    <tr>\n",
       "      <th>3410</th>\n",
       "      <td>0.046051</td>\n",
       "      <td>1</td>\n",
       "      <td>0</td>\n",
       "      <td>0</td>\n",
       "      <td>0</td>\n",
       "      <td>1</td>\n",
       "    </tr>\n",
       "    <tr>\n",
       "      <th>3428</th>\n",
       "      <td>0.079215</td>\n",
       "      <td>0</td>\n",
       "      <td>1</td>\n",
       "      <td>0</td>\n",
       "      <td>0</td>\n",
       "      <td>1</td>\n",
       "    </tr>\n",
       "    <tr>\n",
       "      <th>3429</th>\n",
       "      <td>0.021427</td>\n",
       "      <td>1</td>\n",
       "      <td>0</td>\n",
       "      <td>0</td>\n",
       "      <td>0</td>\n",
       "      <td>1</td>\n",
       "    </tr>\n",
       "  </tbody>\n",
       "</table>\n",
       "<p>567 rows × 6 columns</p>\n",
       "</div>"
      ],
      "text/plain": [
       "      years_old  sex_1  sex_2  city_0  city_1  city_2\n",
       "1      0.233271      1      0       1       0       0\n",
       "3      0.176456      0      1       1       0       0\n",
       "6      0.197499      0      1       1       0       0\n",
       "9      0.181109      1      0       1       0       0\n",
       "14     0.262062      1      0       1       0       0\n",
       "...         ...    ...    ...     ...     ...     ...\n",
       "3408   0.045539      1      0       1       0       0\n",
       "3409   0.036258      0      1       0       0       1\n",
       "3410   0.046051      1      0       0       0       1\n",
       "3428   0.079215      0      1       0       0       1\n",
       "3429   0.021427      1      0       0       0       1\n",
       "\n",
       "[567 rows x 6 columns]"
      ]
     },
     "execution_count": 20,
     "metadata": {},
     "output_type": "execute_result"
    }
   ],
   "source": [
    "df_profile"
   ]
  },
  {
   "cell_type": "code",
   "execution_count": 21,
   "id": "52860d9e-098c-4377-904e-6bb2207b44c9",
   "metadata": {},
   "outputs": [],
   "source": [
    "# initialize PCA with 2 components\n",
    "pca = PCA(n_components=2, random_state=42)\n",
    "# pass our X to the pca and store the reduced vectors into pca_vecs\n",
    "pca_vecs = pca.fit_transform(df_profile)\n",
    "# save our two dimensions into x0 and x1\n",
    "x0 = pca_vecs[:, 0]\n",
    "x1 = pca_vecs[:, 1]"
   ]
  },
  {
   "cell_type": "code",
   "execution_count": 130,
   "id": "cd33ab61-c3c2-4958-9d2a-839edb0c5cbc",
   "metadata": {},
   "outputs": [
    {
     "name": "stdout",
     "output_type": "stream",
     "text": [
      "      Unnamed: 0         id first_name   last_name university_name  \\\n",
      "3408        3408  744131146       Anna      Ermeni           СПбГУ   \n",
      "3409        3409  744825520       Ivan     Bushuev             NaN   \n",
      "3410        3410  745902835       Madi        Xoja             NaN   \n",
      "3428        3428  776095130       Rudi       Troya             NaN   \n",
      "3429        3429  787319478    Valeria  Shevchenko             NaN   \n",
      "\n",
      "     education_status  sex interests      bdate  city_id        city_title  \\\n",
      "3408              NaN    1       NaN 2003-08-30      2.0  Saint Petersburg   \n",
      "3409              NaN    2       NaN 2004-08-27      NaN               NaN   \n",
      "3410              NaN    1       NaN 2003-08-10      NaN               NaN   \n",
      "3428              NaN    2       NaN 2000-01-21      NaN               NaN   \n",
      "3429              NaN    1       NaN 2006-03-30      NaN               NaN   \n",
      "\n",
      "      last_seen_platform       last_seen_time city                 diff_days  \\\n",
      "3408                 4.0  2023-05-01 16:54:46    0 7204 days 19:20:49.098711   \n",
      "3409                 2.0  2023-05-01 20:52:09    2 6841 days 19:20:49.098711   \n",
      "3410                 7.0  2023-03-19 19:20:48    2 7224 days 19:20:49.098711   \n",
      "3428                 7.0  2023-05-01 19:58:58    2 8521 days 19:20:49.098711   \n",
      "3429                 2.0  2023-05-01 08:04:53    2 6261 days 19:20:49.098711   \n",
      "\n",
      "      years_old  cluster        x0        x1  \n",
      "3408  19.726089        0  0.746921 -0.367853  \n",
      "3409  18.732229        4 -0.738231  0.970100  \n",
      "3410  19.780847        5 -0.665367 -0.441063  \n",
      "3428  23.331913        4 -0.738379  0.969610  \n",
      "3429  17.144243        5 -0.665282 -0.440783  \n"
     ]
    }
   ],
   "source": [
    "dbscan = DBSCAN(eps=0.035, min_samples=10).fit(df_profile)\n",
    "labels = dbscan.labels_\n",
    "df['cluster'] = dbscan.labels_\n",
    "print(df.tail())\n",
    " "
   ]
  },
  {
   "cell_type": "code",
   "execution_count": 131,
   "id": "1f84f7d6",
   "metadata": {},
   "outputs": [],
   "source": [
    "# assign clusters and pca vectors to our dataframe \n",
    "df['x0'] = x0\n",
    "df['x1'] = x1"
   ]
  },
  {
   "cell_type": "code",
   "execution_count": 132,
   "id": "4460720c",
   "metadata": {},
   "outputs": [
    {
     "data": {
      "text/html": [
       "<div>\n",
       "<style scoped>\n",
       "    .dataframe tbody tr th:only-of-type {\n",
       "        vertical-align: middle;\n",
       "    }\n",
       "\n",
       "    .dataframe tbody tr th {\n",
       "        vertical-align: top;\n",
       "    }\n",
       "\n",
       "    .dataframe thead th {\n",
       "        text-align: right;\n",
       "    }\n",
       "</style>\n",
       "<table border=\"1\" class=\"dataframe\">\n",
       "  <thead>\n",
       "    <tr style=\"text-align: right;\">\n",
       "      <th></th>\n",
       "      <th>Unnamed: 0</th>\n",
       "      <th>id</th>\n",
       "      <th>first_name</th>\n",
       "      <th>last_name</th>\n",
       "      <th>university_name</th>\n",
       "      <th>education_status</th>\n",
       "      <th>sex</th>\n",
       "      <th>interests</th>\n",
       "      <th>bdate</th>\n",
       "      <th>city_id</th>\n",
       "      <th>city_title</th>\n",
       "      <th>last_seen_platform</th>\n",
       "      <th>last_seen_time</th>\n",
       "      <th>city</th>\n",
       "      <th>diff_days</th>\n",
       "      <th>years_old</th>\n",
       "      <th>cluster</th>\n",
       "      <th>x0</th>\n",
       "      <th>x1</th>\n",
       "    </tr>\n",
       "  </thead>\n",
       "  <tbody>\n",
       "    <tr>\n",
       "      <th>1</th>\n",
       "      <td>1</td>\n",
       "      <td>1361</td>\n",
       "      <td>Anna</td>\n",
       "      <td>Veselova</td>\n",
       "      <td>NaN</td>\n",
       "      <td>NaN</td>\n",
       "      <td>1</td>\n",
       "      <td>NaN</td>\n",
       "      <td>1983-07-24</td>\n",
       "      <td>2.0</td>\n",
       "      <td>Saint Petersburg</td>\n",
       "      <td>2.0</td>\n",
       "      <td>2023-05-01 18:20:25</td>\n",
       "      <td>0</td>\n",
       "      <td>14546 days 19:20:49.098711</td>\n",
       "      <td>39.827802</td>\n",
       "      <td>0</td>\n",
       "      <td>0.746275</td>\n",
       "      <td>-0.369992</td>\n",
       "    </tr>\n",
       "    <tr>\n",
       "      <th>3</th>\n",
       "      <td>3</td>\n",
       "      <td>9088</td>\n",
       "      <td>Sergey</td>\n",
       "      <td>Cherepanov</td>\n",
       "      <td>NaN</td>\n",
       "      <td>NaN</td>\n",
       "      <td>2</td>\n",
       "      <td>NaN</td>\n",
       "      <td>1989-08-23</td>\n",
       "      <td>2.0</td>\n",
       "      <td>Saint Petersburg</td>\n",
       "      <td>4.0</td>\n",
       "      <td>2023-05-01 20:05:44</td>\n",
       "      <td>0</td>\n",
       "      <td>12324 days 19:20:49.098711</td>\n",
       "      <td>33.744173</td>\n",
       "      <td>3</td>\n",
       "      <td>0.673572</td>\n",
       "      <td>1.041707</td>\n",
       "    </tr>\n",
       "    <tr>\n",
       "      <th>6</th>\n",
       "      <td>6</td>\n",
       "      <td>18619</td>\n",
       "      <td>Oleg</td>\n",
       "      <td>Koresh</td>\n",
       "      <td>NaN</td>\n",
       "      <td>NaN</td>\n",
       "      <td>2</td>\n",
       "      <td>NaN</td>\n",
       "      <td>1987-05-23</td>\n",
       "      <td>2.0</td>\n",
       "      <td>Saint Petersburg</td>\n",
       "      <td>7.0</td>\n",
       "      <td>2023-04-28 10:28:22</td>\n",
       "      <td>0</td>\n",
       "      <td>13147 days 19:20:49.098711</td>\n",
       "      <td>35.997471</td>\n",
       "      <td>3</td>\n",
       "      <td>0.673500</td>\n",
       "      <td>1.041467</td>\n",
       "    </tr>\n",
       "  </tbody>\n",
       "</table>\n",
       "</div>"
      ],
      "text/plain": [
       "   Unnamed: 0     id first_name   last_name university_name education_status  \\\n",
       "1           1   1361       Anna    Veselova             NaN              NaN   \n",
       "3           3   9088     Sergey  Cherepanov             NaN              NaN   \n",
       "6           6  18619       Oleg      Koresh             NaN              NaN   \n",
       "\n",
       "   sex interests      bdate  city_id        city_title  last_seen_platform  \\\n",
       "1    1       NaN 1983-07-24      2.0  Saint Petersburg                 2.0   \n",
       "3    2       NaN 1989-08-23      2.0  Saint Petersburg                 4.0   \n",
       "6    2       NaN 1987-05-23      2.0  Saint Petersburg                 7.0   \n",
       "\n",
       "        last_seen_time city                  diff_days  years_old  cluster  \\\n",
       "1  2023-05-01 18:20:25    0 14546 days 19:20:49.098711  39.827802        0   \n",
       "3  2023-05-01 20:05:44    0 12324 days 19:20:49.098711  33.744173        3   \n",
       "6  2023-04-28 10:28:22    0 13147 days 19:20:49.098711  35.997471        3   \n",
       "\n",
       "         x0        x1  \n",
       "1  0.746275 -0.369992  \n",
       "3  0.673572  1.041707  \n",
       "6  0.673500  1.041467  "
      ]
     },
     "execution_count": 132,
     "metadata": {},
     "output_type": "execute_result"
    }
   ],
   "source": [
    "df.head(3)"
   ]
  },
  {
   "cell_type": "code",
   "execution_count": 133,
   "id": "9ee8b371",
   "metadata": {
    "scrolled": true
   },
   "outputs": [
    {
     "data": {
      "image/png": "[encoded data removed]",
      "text/plain": [
       "<Figure size 432x432 with 1 Axes>"
      ]
     },
     "metadata": {
      "needs_background": "light"
     },
     "output_type": "display_data"
    }
   ],
   "source": [
    "# set image size\n",
    "plt.figure(figsize=(6, 6))\n",
    "# set a title\n",
    "plt.title(\"Clustering\", fontdict={\"fontsize\": 14})\n",
    "# set axes names\n",
    "plt.xlabel(\"X0\", fontdict={\"fontsize\": 14})\n",
    "plt.ylabel(\"X1\", fontdict={\"fontsize\": 14})\n",
    "# create scatter plot with seaborn, where hue is the class used to group the data\n",
    "sns.scatterplot(data=df, x='x0', y='x1', hue='cluster', palette=\"viridis\")\n",
    "plt.show()"
   ]
  },
  {
   "cell_type": "code",
   "execution_count": 134,
   "id": "3c3d89db",
   "metadata": {},
   "outputs": [],
   "source": [
    "#df.to_csv('cluster_profile_bach_DBSCAN.csv')"
   ]
  },
  {
   "cell_type": "code",
   "execution_count": 135,
   "id": "5bf3a848-18b9-4367-b762-7aa0206424ef",
   "metadata": {},
   "outputs": [
    {
     "data": {
      "text/plain": [
       " 0    169\n",
       " 5    131\n",
       " 3     68\n",
       " 4     64\n",
       "-1     60\n",
       " 1     45\n",
       " 2     30\n",
       "Name: cluster, dtype: int64"
      ]
     },
     "execution_count": 135,
     "metadata": {},
     "output_type": "execute_result"
    }
   ],
   "source": [
    "df.cluster.value_counts()"
   ]
  },
  {
   "cell_type": "code",
   "execution_count": 136,
   "id": "7a03ed98",
   "metadata": {},
   "outputs": [
    {
     "name": "stdout",
     "output_type": "stream",
     "text": [
      "<class 'pandas.core.frame.DataFrame'>\n",
      "Int64Index: 169 entries, 1 to 3408\n",
      "Data columns (total 5 columns):\n",
      " #   Column      Non-Null Count  Dtype  \n",
      "---  ------      --------------  -----  \n",
      " 0   id          169 non-null    int64  \n",
      " 1   interests   5 non-null      object \n",
      " 2   sex         169 non-null    int64  \n",
      " 3   city_title  169 non-null    object \n",
      " 4   years_old   169 non-null    float64\n",
      "dtypes: float64(1), int64(2), object(2)\n",
      "memory usage: 7.9+ KB\n"
     ]
    }
   ],
   "source": [
    "cluster_0 = df.loc[df['cluster'] == 0]\n",
    "cluster_0 = cluster_0[['id','interests','sex','city_title', 'years_old']]\n",
    "cluster_0.info()"
   ]
  },
  {
   "cell_type": "code",
   "execution_count": 137,
   "id": "b3c3db96-dc81-4623-9911-7b595d5917aa",
   "metadata": {},
   "outputs": [
    {
     "data": {
      "text/plain": [
       "Saint Petersburg    169\n",
       "Name: city_title, dtype: int64"
      ]
     },
     "execution_count": 137,
     "metadata": {},
     "output_type": "execute_result"
    }
   ],
   "source": [
    "cluster_0.city_title.value_counts()"
   ]
  },
  {
   "cell_type": "code",
   "execution_count": 138,
   "id": "6e3bd72b-31b2-4e68-853c-eb42b176acf0",
   "metadata": {},
   "outputs": [
    {
     "data": {
      "text/plain": [
       "1    169\n",
       "Name: sex, dtype: int64"
      ]
     },
     "execution_count": 138,
     "metadata": {},
     "output_type": "execute_result"
    }
   ],
   "source": [
    "cluster_0.sex.value_counts()"
   ]
  },
  {
   "cell_type": "code",
   "execution_count": 139,
   "id": "3f7b717b-8fe3-44be-82fc-059b845d2edf",
   "metadata": {},
   "outputs": [
    {
     "data": {
      "text/plain": [
       "count    169.000000\n",
       "mean      29.366227\n",
       "std       10.718768\n",
       "min       15.925874\n",
       "25%       20.227126\n",
       "50%       26.308018\n",
       "75%       35.920809\n",
       "max       54.916408\n",
       "Name: years_old, dtype: float64"
      ]
     },
     "execution_count": 139,
     "metadata": {},
     "output_type": "execute_result"
    }
   ],
   "source": [
    "cluster_0.years_old.describe()"
   ]
  },
  {
   "cell_type": "code",
   "execution_count": 140,
   "id": "cf73aac7",
   "metadata": {},
   "outputs": [
    {
     "data": {
      "text/html": [
       "<div>\n",
       "<style scoped>\n",
       "    .dataframe tbody tr th:only-of-type {\n",
       "        vertical-align: middle;\n",
       "    }\n",
       "\n",
       "    .dataframe tbody tr th {\n",
       "        vertical-align: top;\n",
       "    }\n",
       "\n",
       "    .dataframe thead th {\n",
       "        text-align: right;\n",
       "    }\n",
       "</style>\n",
       "<table border=\"1\" class=\"dataframe\">\n",
       "  <thead>\n",
       "    <tr style=\"text-align: right;\">\n",
       "      <th></th>\n",
       "      <th>id</th>\n",
       "      <th>sex</th>\n",
       "      <th>years_old</th>\n",
       "    </tr>\n",
       "  </thead>\n",
       "  <tbody>\n",
       "    <tr>\n",
       "      <th>count</th>\n",
       "      <td>1.310000e+02</td>\n",
       "      <td>131.0</td>\n",
       "      <td>131.000000</td>\n",
       "    </tr>\n",
       "    <tr>\n",
       "      <th>mean</th>\n",
       "      <td>3.453807e+08</td>\n",
       "      <td>1.0</td>\n",
       "      <td>21.052009</td>\n",
       "    </tr>\n",
       "    <tr>\n",
       "      <th>std</th>\n",
       "      <td>1.972278e+08</td>\n",
       "      <td>0.0</td>\n",
       "      <td>3.765357</td>\n",
       "    </tr>\n",
       "    <tr>\n",
       "      <th>min</th>\n",
       "      <td>1.116748e+07</td>\n",
       "      <td>1.0</td>\n",
       "      <td>14.849877</td>\n",
       "    </tr>\n",
       "    <tr>\n",
       "      <th>25%</th>\n",
       "      <td>1.931020e+08</td>\n",
       "      <td>1.0</td>\n",
       "      <td>18.618606</td>\n",
       "    </tr>\n",
       "    <tr>\n",
       "      <th>50%</th>\n",
       "      <td>3.578976e+08</td>\n",
       "      <td>1.0</td>\n",
       "      <td>19.977977</td>\n",
       "    </tr>\n",
       "    <tr>\n",
       "      <th>75%</th>\n",
       "      <td>4.986456e+08</td>\n",
       "      <td>1.0</td>\n",
       "      <td>22.561192</td>\n",
       "    </tr>\n",
       "    <tr>\n",
       "      <th>max</th>\n",
       "      <td>7.873195e+08</td>\n",
       "      <td>1.0</td>\n",
       "      <td>34.007012</td>\n",
       "    </tr>\n",
       "  </tbody>\n",
       "</table>\n",
       "</div>"
      ],
      "text/plain": [
       "                 id    sex   years_old\n",
       "count  1.310000e+02  131.0  131.000000\n",
       "mean   3.453807e+08    1.0   21.052009\n",
       "std    1.972278e+08    0.0    3.765357\n",
       "min    1.116748e+07    1.0   14.849877\n",
       "25%    1.931020e+08    1.0   18.618606\n",
       "50%    3.578976e+08    1.0   19.977977\n",
       "75%    4.986456e+08    1.0   22.561192\n",
       "max    7.873195e+08    1.0   34.007012"
      ]
     },
     "execution_count": 140,
     "metadata": {},
     "output_type": "execute_result"
    }
   ],
   "source": [
    "cluster_5 = df.loc[df['cluster'] == 5]\n",
    "cluster_5 = cluster_5[['id','interests','sex','city_title', 'years_old']]\n",
    "cluster_5.describe()"
   ]
  },
  {
   "cell_type": "code",
   "execution_count": 141,
   "id": "5284105a-4f26-464f-a7af-ea7525ecb515",
   "metadata": {},
   "outputs": [
    {
     "data": {
      "text/plain": [
       "Krasnoyarsk        6\n",
       "Nizhny Novgorod    3\n",
       "Vladivostok        3\n",
       "Izhevsk            2\n",
       "Tolyatti           2\n",
       "Novosibirsk        2\n",
       "Voronezh           2\n",
       "Krasnodar          2\n",
       "Tyumen             1\n",
       "Samara             1\n",
       "Chelyabinsk        1\n",
       "Tomsk              1\n",
       "Makeevka           1\n",
       "Marina Gorka       1\n",
       "Orenburg           1\n",
       "Kashin             1\n",
       "Salavat            1\n",
       "Los Angeles        1\n",
       "Kushva             1\n",
       "Perm               1\n",
       "Strelna            1\n",
       "Zelenograd         1\n",
       "Nikolskoe          1\n",
       "Novorossiysk       1\n",
       "Tula               1\n",
       "Bryansk            1\n",
       "Nevelsk            1\n",
       "Yaroslavl          1\n",
       "Barnaul            1\n",
       "Minsk              1\n",
       "Almetyevsk         1\n",
       "Magnitogorsk       1\n",
       "Kostroma           1\n",
       "Rostov-on-Don      1\n",
       "Syktyvkar          1\n",
       "Vilnius            1\n",
       "Kazan              1\n",
       "Yekaterinburg      1\n",
       "Vyborg             1\n",
       "Kirov              1\n",
       "Sochi              1\n",
       "Novouralsk         1\n",
       "Tashkent           1\n",
       "Belgorod           1\n",
       "Novocherkassk      1\n",
       "Name: city_title, dtype: int64"
      ]
     },
     "execution_count": 141,
     "metadata": {},
     "output_type": "execute_result"
    }
   ],
   "source": [
    "cluster_5.city_title.value_counts()"
   ]
  },
  {
   "cell_type": "code",
   "execution_count": 142,
   "id": "a041a819-14ce-4026-9c26-c5b63cd8b85e",
   "metadata": {},
   "outputs": [
    {
     "data": {
      "text/plain": [
       "1    131\n",
       "Name: sex, dtype: int64"
      ]
     },
     "execution_count": 142,
     "metadata": {},
     "output_type": "execute_result"
    }
   ],
   "source": [
    "cluster_5.sex.value_counts()"
   ]
  },
  {
   "cell_type": "code",
   "execution_count": 143,
   "id": "1be7eaf3-41f3-44e4-9da9-19789e83f335",
   "metadata": {},
   "outputs": [
    {
     "data": {
      "text/plain": [
       "count    131.000000\n",
       "mean      21.052009\n",
       "std        3.765357\n",
       "min       14.849877\n",
       "25%       18.618606\n",
       "50%       19.977977\n",
       "75%       22.561192\n",
       "max       34.007012\n",
       "Name: years_old, dtype: float64"
      ]
     },
     "execution_count": 143,
     "metadata": {},
     "output_type": "execute_result"
    }
   ],
   "source": [
    "cluster_5.years_old.describe()"
   ]
  },
  {
   "cell_type": "code",
   "execution_count": 148,
   "id": "abed5f0f",
   "metadata": {},
   "outputs": [
    {
     "name": "stdout",
     "output_type": "stream",
     "text": [
      "<class 'pandas.core.frame.DataFrame'>\n",
      "Int64Index: 45 entries, 41 to 3364\n",
      "Data columns (total 5 columns):\n",
      " #   Column      Non-Null Count  Dtype  \n",
      "---  ------      --------------  -----  \n",
      " 0   id          45 non-null     int64  \n",
      " 1   interests   1 non-null      object \n",
      " 2   sex         45 non-null     int64  \n",
      " 3   city_title  26 non-null     object \n",
      " 4   years_old   45 non-null     float64\n",
      "dtypes: float64(1), int64(2), object(2)\n",
      "memory usage: 2.1+ KB\n"
     ]
    }
   ],
   "source": [
    "cluster_1 = df.loc[df['cluster'] == 1]\n",
    "cluster_1 = cluster_1[['id','interests','sex','city_title', 'years_old']]\n",
    "cluster_1.info()"
   ]
  },
  {
   "cell_type": "code",
   "execution_count": 149,
   "id": "b41f2759-bbb5-4115-9ae8-278cf6a67468",
   "metadata": {},
   "outputs": [
    {
     "data": {
      "text/plain": [
       "Novosibirsk      3\n",
       "Murmansk         3\n",
       "Aachen           1\n",
       "Angarsk          1\n",
       "Kemerovo         1\n",
       "Tobolsk          1\n",
       "Evpatoria        1\n",
       "Krasnoyarsk      1\n",
       "Tosno            1\n",
       "Pskov            1\n",
       "Koltsovo         1\n",
       "Obninsk          1\n",
       "Salavat          1\n",
       "Izhevsk          1\n",
       "Slantsy          1\n",
       "Syktyvkar        1\n",
       "Petergof         1\n",
       "Sosnovy Bor      1\n",
       "Lebyazhye        1\n",
       "Vsevolozhsk      1\n",
       "Rostov-on-Don    1\n",
       "Penza            1\n",
       "Name: city_title, dtype: int64"
      ]
     },
     "execution_count": 149,
     "metadata": {},
     "output_type": "execute_result"
    }
   ],
   "source": [
    "cluster_1.city_title.value_counts()"
   ]
  },
  {
   "cell_type": "code",
   "execution_count": 150,
   "id": "6a4543ad-8dc0-4310-b5ac-418edc321d27",
   "metadata": {},
   "outputs": [
    {
     "data": {
      "text/plain": [
       "1    45\n",
       "Name: sex, dtype: int64"
      ]
     },
     "execution_count": 150,
     "metadata": {},
     "output_type": "execute_result"
    }
   ],
   "source": [
    "cluster_1.sex.value_counts()"
   ]
  },
  {
   "cell_type": "code",
   "execution_count": 151,
   "id": "17d3b6a1-af90-45a5-b4c1-bce096af04a2",
   "metadata": {},
   "outputs": [
    {
     "data": {
      "text/plain": [
       "count    45.000000\n",
       "mean     46.186926\n",
       "std       3.880075\n",
       "min      37.946860\n",
       "25%      43.337799\n",
       "50%      45.859412\n",
       "75%      48.824565\n",
       "max      55.852772\n",
       "Name: years_old, dtype: float64"
      ]
     },
     "execution_count": 151,
     "metadata": {},
     "output_type": "execute_result"
    }
   ],
   "source": [
    "cluster_1.years_old.describe()"
   ]
  },
  {
   "cell_type": "code",
   "execution_count": 152,
   "id": "cb068283-af82-40f9-b225-60761ea5ce02",
   "metadata": {},
   "outputs": [
    {
     "name": "stdout",
     "output_type": "stream",
     "text": [
      "<class 'pandas.core.frame.DataFrame'>\n",
      "Int64Index: 64 entries, 411 to 3428\n",
      "Data columns (total 5 columns):\n",
      " #   Column      Non-Null Count  Dtype  \n",
      "---  ------      --------------  -----  \n",
      " 0   id          64 non-null     int64  \n",
      " 1   interests   1 non-null      object \n",
      " 2   sex         64 non-null     int64  \n",
      " 3   city_title  31 non-null     object \n",
      " 4   years_old   64 non-null     float64\n",
      "dtypes: float64(1), int64(2), object(2)\n",
      "memory usage: 3.0+ KB\n"
     ]
    }
   ],
   "source": [
    "cluster_4 = df.loc[df['cluster'] == 4]\n",
    "cluster_4 = cluster_4[['id','interests','sex','city_title', 'years_old']]\n",
    "cluster_4.info()"
   ]
  },
  {
   "cell_type": "code",
   "execution_count": 153,
   "id": "73905a6a-ea2e-4b2b-8516-47ae11c767ae",
   "metadata": {},
   "outputs": [
    {
     "data": {
      "text/plain": [
       "Novosibirsk      2\n",
       "Izhevsk          2\n",
       "Sosnovy Bor      1\n",
       "Berlin           1\n",
       "Gai              1\n",
       "Alger            1\n",
       "Khabarovsk       1\n",
       "Tula             1\n",
       "Vologda          1\n",
       "Tashkent         1\n",
       "Petergof         1\n",
       "Ulyanovsk        1\n",
       "Odessa           1\n",
       "Krasnodar        1\n",
       "Tomsk            1\n",
       "Vyborg           1\n",
       "Warszawa         1\n",
       "Little Tokyo     1\n",
       "Cherepovets      1\n",
       "Voronezh         1\n",
       "Minsk            1\n",
       "Yekaterinburg    1\n",
       "Smolensk         1\n",
       "Belgorod         1\n",
       "Tbilisi          1\n",
       "Kazan            1\n",
       "Omsk             1\n",
       "Perm             1\n",
       "Alexandria       1\n",
       "Name: city_title, dtype: int64"
      ]
     },
     "execution_count": 153,
     "metadata": {},
     "output_type": "execute_result"
    }
   ],
   "source": [
    "cluster_4.city_title.value_counts()"
   ]
  },
  {
   "cell_type": "code",
   "execution_count": 154,
   "id": "48b26715-1524-409f-8862-040ab1a26324",
   "metadata": {},
   "outputs": [
    {
     "data": {
      "text/plain": [
       "2    64\n",
       "Name: sex, dtype: int64"
      ]
     },
     "execution_count": 154,
     "metadata": {},
     "output_type": "execute_result"
    }
   ],
   "source": [
    "cluster_4.sex.value_counts()"
   ]
  },
  {
   "cell_type": "code",
   "execution_count": 155,
   "id": "b5e740b7-7aa2-446f-8af3-27636a40b24f",
   "metadata": {},
   "outputs": [
    {
     "data": {
      "text/plain": [
       "count    64.000000\n",
       "mean     21.874576\n",
       "std       3.827909\n",
       "min      15.808144\n",
       "25%      19.166187\n",
       "50%      21.082722\n",
       "75%      23.085501\n",
       "max      32.764002\n",
       "Name: years_old, dtype: float64"
      ]
     },
     "execution_count": 155,
     "metadata": {},
     "output_type": "execute_result"
    }
   ],
   "source": [
    "cluster_4.years_old.describe()"
   ]
  },
  {
   "cell_type": "code",
   "execution_count": 156,
   "id": "14eb2530",
   "metadata": {},
   "outputs": [
    {
     "name": "stdout",
     "output_type": "stream",
     "text": [
      "<class 'pandas.core.frame.DataFrame'>\n",
      "Int64Index: 60 entries, 28 to 3354\n",
      "Data columns (total 5 columns):\n",
      " #   Column      Non-Null Count  Dtype  \n",
      "---  ------      --------------  -----  \n",
      " 0   id          60 non-null     int64  \n",
      " 1   interests   3 non-null      object \n",
      " 2   sex         60 non-null     int64  \n",
      " 3   city_title  49 non-null     object \n",
      " 4   years_old   60 non-null     float64\n",
      "dtypes: float64(1), int64(2), object(2)\n",
      "memory usage: 2.8+ KB\n"
     ]
    }
   ],
   "source": [
    "cluster_11 = df.loc[df['cluster'] == -1]\n",
    "cluster_11 = cluster_11[['id','interests','sex','city_title', 'years_old']]\n",
    "cluster_11.info()"
   ]
  },
  {
   "cell_type": "code",
   "execution_count": 157,
   "id": "8f06e07b-c600-4668-8e74-8b7e18d79071",
   "metadata": {},
   "outputs": [
    {
     "data": {
      "text/plain": [
       "Saint Petersburg            16\n",
       "Moscow                      15\n",
       "Syktyvkar                    2\n",
       "Stavropol                    1\n",
       "Ufa                          1\n",
       "Blagoveschensk               1\n",
       "Novosibirsk                  1\n",
       "Petergof                     1\n",
       "Yekaterinburg                1\n",
       "Petropavlovsk-Kamchatsky     1\n",
       "Minsk                        1\n",
       "Brest                        1\n",
       "Perm                         1\n",
       "Tolyatti                     1\n",
       "Borovichi                    1\n",
       "Chita                        1\n",
       "Almaty                       1\n",
       "Chelyabinsk                  1\n",
       "Ulyanovsk                    1\n",
       "Name: city_title, dtype: int64"
      ]
     },
     "execution_count": 157,
     "metadata": {},
     "output_type": "execute_result"
    }
   ],
   "source": [
    "cluster_11.city_title.value_counts()"
   ]
  },
  {
   "cell_type": "code",
   "execution_count": 158,
   "id": "ca9f0f44-6faf-4a66-9a1b-910a34d15106",
   "metadata": {},
   "outputs": [
    {
     "data": {
      "text/plain": [
       "2    33\n",
       "1    27\n",
       "Name: sex, dtype: int64"
      ]
     },
     "execution_count": 158,
     "metadata": {},
     "output_type": "execute_result"
    }
   ],
   "source": [
    "cluster_11.sex.value_counts()"
   ]
  },
  {
   "cell_type": "code",
   "execution_count": 159,
   "id": "bd467510-341b-4ce5-a3f3-2a5b4aa8cf2a",
   "metadata": {},
   "outputs": [
    {
     "data": {
      "text/plain": [
       "count     60.000000\n",
       "mean      65.499103\n",
       "std       31.941486\n",
       "min       17.642542\n",
       "25%       44.333713\n",
       "50%       57.610508\n",
       "75%       99.756480\n",
       "max      121.926682\n",
       "Name: years_old, dtype: float64"
      ]
     },
     "execution_count": 159,
     "metadata": {},
     "output_type": "execute_result"
    }
   ],
   "source": [
    "cluster_11.years_old.describe()"
   ]
  },
  {
   "cell_type": "code",
   "execution_count": 160,
   "id": "88089e78-0ef0-41ed-98a1-2601ac331a50",
   "metadata": {},
   "outputs": [
    {
     "name": "stdout",
     "output_type": "stream",
     "text": [
      "<class 'pandas.core.frame.DataFrame'>\n",
      "Int64Index: 30 entries, 124 to 3327\n",
      "Data columns (total 5 columns):\n",
      " #   Column      Non-Null Count  Dtype  \n",
      "---  ------      --------------  -----  \n",
      " 0   id          30 non-null     int64  \n",
      " 1   interests   1 non-null      object \n",
      " 2   sex         30 non-null     int64  \n",
      " 3   city_title  30 non-null     object \n",
      " 4   years_old   30 non-null     float64\n",
      "dtypes: float64(1), int64(2), object(2)\n",
      "memory usage: 1.4+ KB\n"
     ]
    }
   ],
   "source": [
    "cluster_2 = df.loc[df['cluster'] == 2]\n",
    "cluster_2 = cluster_2[['id','interests','sex','city_title', 'years_old']]\n",
    "cluster_2.info()"
   ]
  },
  {
   "cell_type": "code",
   "execution_count": 161,
   "id": "1ab27aa5-58c1-46e4-9de6-14caa3a12cc2",
   "metadata": {},
   "outputs": [
    {
     "data": {
      "text/plain": [
       "Moscow    30\n",
       "Name: city_title, dtype: int64"
      ]
     },
     "execution_count": 161,
     "metadata": {},
     "output_type": "execute_result"
    }
   ],
   "source": [
    "cluster_2.city_title.value_counts()"
   ]
  },
  {
   "cell_type": "code",
   "execution_count": 162,
   "id": "83f1c91e-d8b4-4918-b9c3-0a373b103ce9",
   "metadata": {},
   "outputs": [
    {
     "data": {
      "text/plain": [
       "1    30\n",
       "Name: sex, dtype: int64"
      ]
     },
     "execution_count": 162,
     "metadata": {},
     "output_type": "execute_result"
    }
   ],
   "source": [
    "cluster_2.sex.value_counts()"
   ]
  },
  {
   "cell_type": "code",
   "execution_count": 163,
   "id": "0127fca3-f499-49bd-9ba5-1190a3aee9dc",
   "metadata": {},
   "outputs": [
    {
     "data": {
      "text/plain": [
       "count    30.000000\n",
       "mean     23.725259\n",
       "std       4.135546\n",
       "min      17.623377\n",
       "25%      20.119663\n",
       "50%      22.476317\n",
       "75%      27.492847\n",
       "max      32.241062\n",
       "Name: years_old, dtype: float64"
      ]
     },
     "execution_count": 163,
     "metadata": {},
     "output_type": "execute_result"
    }
   ],
   "source": [
    "cluster_2.years_old.describe()"
   ]
  },
  {
   "cell_type": "code",
   "execution_count": 164,
   "id": "30c93efe-aace-4146-bc39-9d8fd5316507",
   "metadata": {},
   "outputs": [
    {
     "name": "stdout",
     "output_type": "stream",
     "text": [
      "<class 'pandas.core.frame.DataFrame'>\n",
      "Int64Index: 68 entries, 3 to 3386\n",
      "Data columns (total 5 columns):\n",
      " #   Column      Non-Null Count  Dtype  \n",
      "---  ------      --------------  -----  \n",
      " 0   id          68 non-null     int64  \n",
      " 1   interests   4 non-null      object \n",
      " 2   sex         68 non-null     int64  \n",
      " 3   city_title  68 non-null     object \n",
      " 4   years_old   68 non-null     float64\n",
      "dtypes: float64(1), int64(2), object(2)\n",
      "memory usage: 3.2+ KB\n"
     ]
    }
   ],
   "source": [
    "cluster_3 = df.loc[df['cluster'] == 3]\n",
    "cluster_3 = cluster_3[['id','interests','sex','city_title', 'years_old']]\n",
    "cluster_3.info()"
   ]
  },
  {
   "cell_type": "code",
   "execution_count": 165,
   "id": "7b3cab7e-80c7-48b9-ad53-a7717f333963",
   "metadata": {},
   "outputs": [
    {
     "data": {
      "text/plain": [
       "Saint Petersburg    68\n",
       "Name: city_title, dtype: int64"
      ]
     },
     "execution_count": 165,
     "metadata": {},
     "output_type": "execute_result"
    }
   ],
   "source": [
    "cluster_3.city_title.value_counts()"
   ]
  },
  {
   "cell_type": "code",
   "execution_count": 166,
   "id": "04282ceb-22e7-4483-bb01-de1177adb8c0",
   "metadata": {},
   "outputs": [
    {
     "data": {
      "text/plain": [
       "2    68\n",
       "Name: sex, dtype: int64"
      ]
     },
     "execution_count": 166,
     "metadata": {},
     "output_type": "execute_result"
    }
   ],
   "source": [
    "cluster_3.sex.value_counts()"
   ]
  },
  {
   "cell_type": "code",
   "execution_count": 167,
   "id": "ca16b063-5641-4cd0-9456-fe245082e5b5",
   "metadata": {},
   "outputs": [
    {
     "data": {
      "text/plain": [
       "count    68.000000\n",
       "mean     23.800739\n",
       "std       5.388865\n",
       "min      16.029915\n",
       "25%      20.084071\n",
       "50%      21.659052\n",
       "75%      26.273794\n",
       "max      38.108397\n",
       "Name: years_old, dtype: float64"
      ]
     },
     "execution_count": 167,
     "metadata": {},
     "output_type": "execute_result"
    }
   ],
   "source": [
    "cluster_3.years_old.describe()"
   ]
  }
 ],
 "metadata": {
  "kernelspec": {
   "display_name": "Python 3 (ipykernel)",
   "language": "python",
   "name": "python3"
  },
  "language_info": {
   "codemirror_mode": {
    "name": "ipython",
    "version": 3
   },
   "file_extension": ".py",
   "mimetype": "text/x-python",
   "name": "python",
   "nbconvert_exporter": "python",
   "pygments_lexer": "ipython3",
   "version": "3.9.6"
  }
 },
 "nbformat": 4,
 "nbformat_minor": 5
}
